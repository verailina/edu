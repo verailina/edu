{
 "cells": [
  {
   "cell_type": "markdown",
   "metadata": {},
   "source": [
    "# Лабораторная 2: Композиции"
   ]
  },
  {
   "cell_type": "markdown",
   "metadata": {},
   "source": [
    "## Выполнила Егорова Вера"
   ]
  },
  {
   "cell_type": "markdown",
   "metadata": {},
   "source": [
    "## Подготовка данных"
   ]
  },
  {
   "cell_type": "markdown",
   "metadata": {},
   "source": [
    "Изучите [датасет](http://archive.ics.uci.edu/ml/datasets/BlogFeedback). Каждый объект $-$ пост в блоге. Он описывается различными признаками: длина текста поста, наличие наиболее частотных слов, день недели, количество комментариев за последние 24 часа и т.п., а так же целевым признаком - количеством комментариев к посту. Полный список признаков и описание находятся на странице датасета. Вам предлагается решать задачу регресии, используя метрику качества [MSE](https://en.wikipedia.org/wiki/Mean_squared_error).\n"
   ]
  },
  {
   "cell_type": "markdown",
   "metadata": {},
   "source": [
    "![](http://i.imgur.com/zE95i7e.png)"
   ]
  },
  {
   "cell_type": "markdown",
   "metadata": {},
   "source": [
    "Загрузите датасет и произвольно разбейте данные из файла **blogData_train.csv** на обучающую и тестовую выборки в пропорциях 1 к 4 соответственно. Обратите внимание, что обучающая выборка меньше тестовой. Такая большая тестовая выборка позволит сделать измерения качества моделей достаточно достоверным."
   ]
  },
  {
   "cell_type": "code",
   "execution_count": 214,
   "metadata": {
    "collapsed": false
   },
   "outputs": [
    {
     "name": "stdout",
     "output_type": "stream",
     "text": [
      "Populating the interactive namespace from numpy and matplotlib\n"
     ]
    }
   ],
   "source": [
    "%pylab inline\n",
    "import scipy\n",
    "from time import time\n",
    "import pandas as pd\n",
    "import numpy as np\n",
    "import matplotlib.pyplot as plt\n",
    "from sklearn.cross_validation import train_test_split\n",
    "from sklearn.utils import resample\n",
    "from sklearn.tree import DecisionTreeRegressor\n",
    "from sklearn.ensemble import RandomForestRegressor, BaggingRegressor, GradientBoostingRegressor\n",
    "from sklearn.metrics import mean_squared_error\n",
    "from sklearn.grid_search import GridSearchCV\n",
    "import xgboost as xgb\n",
    "from sklearn.linear_model import LinearRegression"
   ]
  },
  {
   "cell_type": "markdown",
   "metadata": {},
   "source": [
    "Загрузим датасет и посмотрим на объекты и их наиболее интересные признаки. Видим, что датасет состоит из 52396 примеров, каждый исходный объект имеет 281 признак."
   ]
  },
  {
   "cell_type": "code",
   "execution_count": 143,
   "metadata": {
    "collapsed": false
   },
   "outputs": [
    {
     "name": "stdout",
     "output_type": "stream",
     "text": [
      "Size of data set = 52396\n",
      "Features number =  281\n"
     ]
    }
   ],
   "source": [
    "blog_data = pd.read_csv(\"BlogFeedback/blogData_train.csv\")\n",
    "print 'Size of data set =', len(blog_data)\n",
    "print 'Features number = ', len(blog_data.columns)"
   ]
  },
  {
   "cell_type": "markdown",
   "metadata": {},
   "source": [
    "Признаки 1:50 отвечают за среднее, стандартное отклонение, минимельное, максимальное значения и медиану значений аттрибутов источника. В следующем примере выведены данные статистики для атрибута #51 - общего числа комментариев до basetime в блоге, в котором опубликован данный комментарий."
   ]
  },
  {
   "cell_type": "code",
   "execution_count": 144,
   "metadata": {
    "collapsed": false
   },
   "outputs": [
    {
     "name": "stdout",
     "output_type": "stream",
     "text": [
      "     Average  Standard deviation  min  max    median  Source_Total\n",
      "0  53.845657                   0  401   15  15.52416             4\n",
      "1  53.845657                   0  401   15  15.52416             4\n",
      "2  53.845657                   0  401   15  15.52416             0\n",
      "3  53.845657                   0  401   15  15.52416             2\n",
      "4  53.845657                   0  401   15  15.52416             2\n"
     ]
    }
   ],
   "source": [
    "df = blog_data[blog_data.columns[1:6]][:5]\n",
    "df2 = blog_data[blog_data.columns[52]][:5]\n",
    "df=df.join(df2)\n",
    "df.columns = ['Average', 'Standard deviation', 'min', 'max', 'median', 'Source_Total']\n",
    "print df"
   ]
  },
  {
   "cell_type": "markdown",
   "metadata": {},
   "source": [
    "Признаки 62 - 262 пердставляют собой  признаки вида bag of words, составленные для 200 наиболее частотных слов поста.\n",
    "Признаки с номерами 263-269 и 270-276 отражают день недели для basetime и для поста соответственно."
   ]
  },
  {
   "cell_type": "code",
   "execution_count": 145,
   "metadata": {
    "collapsed": false
   },
   "outputs": [
    {
     "name": "stdout",
     "output_type": "stream",
     "text": [
      "   Mon_base  Tue_base  Wen_base  Thu_base  Fri_base  Sat_base  Sun_base  \\\n",
      "0         0         0         1         0         0         0         0   \n",
      "1         0         0         1         0         0         0         0   \n",
      "2         0         0         1         0         0         0         0   \n",
      "3         0         0         0         1         0         0         0   \n",
      "4         0         0         0         1         0         0         0   \n",
      "\n",
      "   Mon_post  Tue_post  Wen_post  Thu_post  Fri_post  Sat_post  Sun_post  \n",
      "0         1         0         0         0         0         0         0  \n",
      "1         1         0         0         0         0         0         0  \n",
      "2         0         1         0         0         0         0         0  \n",
      "3         0         1         0         0         0         0         0  \n",
      "4         1         0         0         0         0         0         0  \n"
     ]
    }
   ],
   "source": [
    "df = blog_data[blog_data.columns[264:271]][:5]\n",
    "df2 = blog_data[blog_data.columns[271:278]][:5]\n",
    "df=df.join(df2)\n",
    "labels = ['Mon', 'Tue', 'Wen', 'Thu', 'Fri', 'Sat', 'Sun']\n",
    "df.columns = [l+\"_base\" for l in labels]+[l+\"_post\" for l in labels]\n",
    "print df"
   ]
  },
  {
   "cell_type": "markdown",
   "metadata": {},
   "source": [
    "И последний признак - целевой - показывает количество комментариев в течение последующих 24 часов."
   ]
  },
  {
   "cell_type": "code",
   "execution_count": 146,
   "metadata": {
    "collapsed": false
   },
   "outputs": [
    {
     "name": "stdout",
     "output_type": "stream",
     "text": [
      "0     0\n",
      "1     0\n",
      "2     1\n",
      "3    27\n",
      "4     0\n",
      "5     0\n",
      "6    27\n",
      "7     9\n",
      "8     9\n",
      "9     0\n",
      "Name: 1.0.2, dtype: float64\n"
     ]
    }
   ],
   "source": [
    "df = blog_data[blog_data.columns[280]][:10]\n",
    "print df"
   ]
  },
  {
   "cell_type": "markdown",
   "metadata": {},
   "source": [
    "Разобьем датасет на обучающую и тестовую выборки в отношении 1:4. Получим обучающую выборку из 10479 примеров и тестовую выборку из 41917 примеров."
   ]
  },
  {
   "cell_type": "code",
   "execution_count": 147,
   "metadata": {
    "collapsed": false
   },
   "outputs": [
    {
     "name": "stdout",
     "output_type": "stream",
     "text": [
      "train size = 10479\n",
      "test size = 41917\n"
     ]
    }
   ],
   "source": [
    "train_set, test_set = train_test_split(blog_data, test_size = 0.8)\n",
    "print 'train size =', len(train_set)\n",
    "print 'test size =', len(test_set)"
   ]
  },
  {
   "cell_type": "markdown",
   "metadata": {},
   "source": [
    "## (2 балла) Bias-Variance decomposition"
   ]
  },
  {
   "cell_type": "markdown",
   "metadata": {},
   "source": [
    "![](http://scott.fortmann-roe.com/docs/docs/BiasVariance/biasvariance.png)\n",
    "\n",
    "Исследуем bias-variance разложение (см. слайды 9–13 из [второй лекции](https://www.dropbox.com/s/sofa55wzmsyszsq/slides-Composition-shad-2.pdf?dl=0)) для решающих деревьев различной глубины. К сожалению, на реальных данных невозможно вычислять матожидания по всевозможным обучающим выборкам, которые необходимы в формуле bias-variance разложения. Поэтому мы проведем приближенный численный эксперимент с эмпирическими оценками этих матожиданий.\n",
    "\n",
    "Обозначим вектор истинных меток тестовой выборки за $\\ f$. С помощью бутстраппинга можно просемплировать из обучающей выборки $N$ новых обучающих выборок того же размера, тем самым \"имитируя\" пространство всевозможных обучающих выборок. На каждой такой выборке можно обучить решающее дерево. Векторы прогнозов решающих деревьев для объектов из тестовой выборки обозначим за $y_i, i \\in \\{1, .., N\\}$. Тогда средний квадрат ошибки по всем моделям на тестовой выборке можно записать как $$error=\\frac{1}{N}\\sum_{i=1}^{N}MSE(f,y_i).$$\n",
    "\n",
    "Обозначим среднее предсказание моделей как $$\\overline y = \\frac{1}{N}\\sum_{i=1}^{N} y_i.$$\n",
    "\n",
    "Тогда квадрат отклонения среднего предсказания всех моделей на тестовой выборке от истинных меток запишется как $$bias^2 = MSE(f, \\overline y).$$\n",
    "\n",
    "Также разброс прогнозов относительно среднего предсказания запишется следующим образом: $$variance = \\frac{1}{N}\\sum_{i=1}^N MSE(y_i, \\overline y).$$\n",
    "\n",
    "\n",
    "### Задание\n",
    "Постройте графики зависимости $error$, $bias^2$ и $variance$ от глубины решающего дерева (от 1 до 15 включительно)  для $N=100$. Являются ли какие-то из полученных графиков монотонными? А должны ли они быть монотонными, если бы гипотетически эксперименты были проведены на всевозможных выборках? Почему? Убедитесь численно, что верно bias-variance разложение ошибки: $$error = bias^2 + variance.$$"
   ]
  },
  {
   "cell_type": "code",
   "execution_count": 14,
   "metadata": {
    "collapsed": false
   },
   "outputs": [
    {
     "name": "stdout",
     "output_type": "stream",
     "text": [
      "error  1133.1780543\n",
      "bias  664.078993878\n",
      "variance  469.099060421\n",
      "error = bias^2 + variance\n"
     ]
    }
   ],
   "source": [
    "def get_train_sets(train, N):\n",
    "    train_sets = [resample(train) for i in xrange(N)]\n",
    "    return train_sets\n",
    "\n",
    "def get_predictions(train_sets, test, depth):\n",
    "    predictions = []\n",
    "    for train in train_sets:\n",
    "        clf = DecisionTreeRegressor(max_depth=depth)\n",
    "        clf = clf.fit(train[train.columns[:-1]], train[train.columns[-1]])\n",
    "        predictions.append(clf.predict(test[test.columns[:-1]]))\n",
    "    return predictions\n",
    "\n",
    "def calculate_error(test_set, predictions):\n",
    "    N = len(predictions)\n",
    "    f = test_set[test_set.columns[-1]]\n",
    "    error = 0.0\n",
    "    for y in predictions:\n",
    "        error = error + mean_squared_error(f, y)\n",
    "    print 'error ', error / N\n",
    "    return error / N\n",
    "\n",
    "def calculate_bias_2(test_set, average):\n",
    "    f = test_set[test_set.columns[-1]]\n",
    "    bias = mean_squared_error(f, average)\n",
    "    print 'bias ', bias\n",
    "    return bias\n",
    "\n",
    "def calculate_variance(predictions, average):\n",
    "    N = len(predictions)\n",
    "    variance = 0.\n",
    "    for y in predictions:\n",
    "        variance = variance + mean_squared_error(y, average)\n",
    "    print 'variance ', variance / N\n",
    "    return variance / N\n",
    "    \n",
    "def check_bias_variance(bias, variance, error):\n",
    "    if np.isclose(error, bias+variance):\n",
    "        print 'error = bias^2 + variance'\n",
    "  \n",
    "train_sets = get_train_sets(train_set, 100)\n",
    "predictions = get_predictions(train_sets, test_set, 10)\n",
    "error = calculate_error(test_set, predictions)\n",
    "average = np.mean(predictions, axis=0)\n",
    "bias = calculate_bias_2(test_set, average)\n",
    "variance = calculate_variance(predictions, average)\n",
    "check_bias_variance(bias, variance, error)"
   ]
  },
  {
   "cell_type": "code",
   "execution_count": 17,
   "metadata": {
    "collapsed": false
   },
   "outputs": [
    {
     "name": "stdout",
     "output_type": "stream",
     "text": [
      "depth 1\n",
      "error  1132.97479214\n",
      "bias  1097.96023242\n",
      "variance  35.0145597168\n",
      "error = bias^2 + variance\n",
      "depth 2\n",
      "error  885.428504488\n",
      "bias  784.636143902\n",
      "variance  100.792360586\n",
      "error = bias^2 + variance\n",
      "depth 3\n",
      "error  851.664984559\n",
      "bias  710.407771594\n",
      "variance  141.257212965\n",
      "error = bias^2 + variance\n",
      "depth 4\n",
      "error  891.792193283\n",
      "bias  682.392865677\n",
      "variance  209.399327605\n",
      "error = bias^2 + variance\n",
      "depth 5\n",
      "error  962.643768998\n",
      "bias  672.161794547\n",
      "variance  290.481974451\n",
      "error = bias^2 + variance\n",
      "depth 6\n",
      "error  1022.19461262\n",
      "bias  670.524719223\n",
      "variance  351.6698934\n",
      "error = bias^2 + variance\n",
      "depth 7\n",
      "error  1060.29213573\n",
      "bias  668.415534156\n",
      "variance  391.876601576\n",
      "error = bias^2 + variance\n",
      "depth 8\n",
      "error  1099.10734225\n",
      "bias  671.460550492\n",
      "variance  427.646791754\n",
      "error = bias^2 + variance\n",
      "depth 9\n",
      "error  1122.86747766\n",
      "bias  665.821514412\n",
      "variance  457.045963244\n",
      "error = bias^2 + variance\n",
      "depth 10\n",
      "error  1135.68170372\n",
      "bias  666.794339972\n",
      "variance  468.887363751\n",
      "error = bias^2 + variance\n",
      "depth 11\n",
      "error  1157.64932191\n",
      "bias  665.855208379\n",
      "variance  491.794113533\n",
      "error = bias^2 + variance\n",
      "depth 12\n",
      "error  1152.51674628\n",
      "bias  659.730695877\n",
      "variance  492.786050405\n",
      "error = bias^2 + variance\n",
      "depth 13\n",
      "error  1168.83482615\n",
      "bias  666.236660538\n",
      "variance  502.598165614\n",
      "error = bias^2 + variance\n",
      "depth 14\n",
      "error  1169.41392925\n",
      "bias  666.318632169\n",
      "variance  503.095297082\n",
      "error = bias^2 + variance\n",
      "depth 15\n",
      "error  1172.60036064\n",
      "bias  666.395963845\n",
      "variance  506.204396798\n",
      "error = bias^2 + variance\n"
     ]
    }
   ],
   "source": [
    "depthes = range(1, 16)\n",
    "biases, variances, errors = [], [], []\n",
    "for depth in depthes:\n",
    "    print 'depth', depth\n",
    "    predictions = get_predictions(train_sets, test_set, depth)\n",
    "    error = calculate_error(test_set, predictions)\n",
    "    average = np.mean(predictions, axis=0)\n",
    "    bias = calculate_bias_2(test_set, average)\n",
    "    variance = calculate_variance(predictions, average)\n",
    "    check_bias_variance(bias, variance, error)\n",
    "    biases.append(bias)\n",
    "    variances.append(variance)\n",
    "    errors.append(error)"
   ]
  },
  {
   "cell_type": "markdown",
   "metadata": {},
   "source": [
    "Для всех построенных моделей выполнялось bias-variance разложение ошибки."
   ]
  },
  {
   "cell_type": "code",
   "execution_count": 39,
   "metadata": {
    "collapsed": false
   },
   "outputs": [
    {
     "data": {
      "image/png": "[encoded data removed]",
      "text/plain": [
       "<matplotlib.figure.Figure at 0x106251fd0>"
      ]
     },
     "metadata": {},
     "output_type": "display_data"
    }
   ],
   "source": [
    "plt.figure(figsize=(10,6))\n",
    "plt.plot(depthes, biases, label='bias', lw=2, marker='o')\n",
    "plt.plot(depthes, variances, label='variance', lw=2, marker='o')\n",
    "plt.plot(depthes, errors, label='error', lw=2, marker='o')\n",
    "plt.xlim(1, 15)\n",
    "plt.xticks(depthes)\n",
    "plt.xlabel('depth')\n",
    "plt.ylabel('error')\n",
    "plt.title('Bias-Variance decomposition')\n",
    "plt.legend(loc='best')\n",
    "plt.show()"
   ]
  },
  {
   "cell_type": "markdown",
   "metadata": {},
   "source": [
    "На полученном графике мы наблюдаем, что при увеличении глубины дерева решений, то есть при расширении модели смещение монотонно убывает, а разброс монотонно возрастает. На самом деле в идеале смещение является убывающей функцией от сложности модели, а разброс - возрастающей. Расширение семейства алгоритмов приводит к модели более близкой к идеальной модели, в связи с этим отличие предсказаний нашей модели от предсказаний идеальной модели (т.е. смещение) уменьшается. При этом мы строим более сложные деревья решений, в связи с чем результаты все больше отличаются друг от друга и,значит, растет разброс."
   ]
  },
  {
   "cell_type": "markdown",
   "metadata": {},
   "source": [
    "## (6 баллов) Сравнение качества композиций"
   ]
  },
  {
   "cell_type": "markdown",
   "metadata": {},
   "source": [
    "![](http://i.imgur.com/XztXz7n.png?)"
   ]
  },
  {
   "cell_type": "markdown",
   "metadata": {},
   "source": [
    "## Random Forest"
   ]
  },
  {
   "cell_type": "markdown",
   "metadata": {},
   "source": [
    "Обучите Random Forest. Постройте и сравните графики зависимости качества прогноза от количества базовых алгоритмов:\n",
    "  - на обучающей выборке,\n",
    "  - на тестовой выборке,\n",
    "  - используя ошибку Out-of-Bag."
   ]
  },
  {
   "cell_type": "code",
   "execution_count": 79,
   "metadata": {
    "collapsed": false
   },
   "outputs": [
    {
     "name": "stdout",
     "output_type": "stream",
     "text": [
      "MSE train:  127.433809664\n",
      "MSE test:  775.336332091\n",
      "OOB score:  877.183038324\n"
     ]
    }
   ],
   "source": [
    "def evaluate(train, test, clf):\n",
    "    clf = clf.fit(train[train.columns[:-1]], train[train.columns[-1]])\n",
    "    predict = clf.predict(test[test.columns[:-1]])\n",
    "    test_score = mean_squared_error(test[test.columns[-1]], predict)\n",
    "    predict = clf.predict(train[train.columns[:-1]])\n",
    "    train_score = mean_squared_error(train[train.columns[-1]], predict)\n",
    "    oob_score = mean_squared_error(train[train.columns[-1]], clf.oob_prediction_)\n",
    "    print 'MSE train: ', train_score\n",
    "    print 'MSE test: ', test_score\n",
    "    print 'OOB score: ', oob_score\n",
    "    return train_score, test_score, oob_score\n",
    "\n",
    "res = evaluate(train_set, test_set, RandomForestRegressor(n_estimators=10, oob_score = True))"
   ]
  },
  {
   "cell_type": "code",
   "execution_count": 71,
   "metadata": {
    "collapsed": false
   },
   "outputs": [
    {
     "name": "stdout",
     "output_type": "stream",
     "text": [
      "Estimators:  5\n",
      "MSE train:  162.218174373\n",
      "MSE test:  716.465284374\n",
      "OOB score:  923.228999099\n",
      "Estimators:  15\n",
      "MSE train:  107.052566928\n",
      "MSE test:  699.621087856\n",
      "OOB score:  752.322208927\n",
      "Estimators:  25\n",
      "MSE train:  114.067454033\n",
      "MSE test:  683.730239968\n",
      "OOB score:  747.385025838\n",
      "Estimators:  35\n",
      "MSE train:  93.7090270403\n",
      "MSE test:  669.830423495\n",
      "OOB score:  705.164838233\n",
      "Estimators:  45\n",
      "MSE train:  97.9693865854\n",
      "MSE test:  690.724537301\n",
      "OOB score:  701.808434952\n",
      "Estimators:  55\n",
      "MSE train:  102.112887152\n",
      "MSE test:  668.512632541\n",
      "OOB score:  719.398510001\n",
      "Estimators:  65\n",
      "MSE train:  94.9835616646\n",
      "MSE test:  680.551044748\n",
      "OOB score:  714.50742211\n",
      "Estimators:  75\n",
      "MSE train:  91.207064282\n",
      "MSE test:  660.210505998\n",
      "OOB score:  664.071184722\n",
      "Estimators:  85\n",
      "MSE train:  96.6888687864\n",
      "MSE test:  633.693077589\n",
      "OOB score:  666.764850683\n",
      "Estimators:  95\n",
      "MSE train:  89.8292015111\n",
      "MSE test:  661.970018464\n",
      "OOB score:  680.066999603\n",
      "Estimators:  105\n",
      "MSE train:  93.6109494821\n",
      "MSE test:  651.198740322\n",
      "OOB score:  687.762236161\n",
      "Estimators:  115\n",
      "MSE train:  93.8190261192\n",
      "MSE test:  663.093877792\n",
      "OOB score:  687.375676411\n",
      "Estimators:  125\n",
      "MSE train:  88.5166627984\n",
      "MSE test:  673.095763277\n",
      "OOB score:  674.933207232\n",
      "Estimators:  135\n",
      "MSE train:  87.6748265908\n",
      "MSE test:  664.656334274\n",
      "OOB score:  657.823111882\n",
      "Estimators:  145\n",
      "MSE train:  91.4503268934\n",
      "MSE test:  663.007602352\n",
      "OOB score:  677.123375619\n",
      "Estimators:  155\n",
      "MSE train:  88.503505353\n",
      "MSE test:  662.540505404\n",
      "OOB score:  684.297504101\n",
      "Estimators:  165\n",
      "MSE train:  96.8529922299\n",
      "MSE test:  648.463109004\n",
      "OOB score:  666.946290455\n",
      "Estimators:  175\n",
      "MSE train:  92.781423646\n",
      "MSE test:  640.95496707\n",
      "OOB score:  658.706179511\n",
      "Estimators:  185\n",
      "MSE train:  89.4369837929\n",
      "MSE test:  664.371459433\n",
      "OOB score:  665.767578374\n",
      "Estimators:  195\n",
      "MSE train:  87.6181989574\n",
      "MSE test:  655.4918716\n",
      "OOB score:  671.965482294\n",
      "Estimators:  205\n",
      "MSE train:  90.2227030339\n",
      "MSE test:  677.1646044\n",
      "OOB score:  681.855893556\n",
      "Estimators:  215\n",
      "MSE train:  96.5149925673\n",
      "MSE test:  674.728940802\n",
      "OOB score:  668.633689416\n",
      "Estimators:  225\n",
      "MSE train:  93.4795295759\n",
      "MSE test:  666.87055728\n",
      "OOB score:  674.004617351\n",
      "Estimators:  235\n",
      "MSE train:  90.5569152125\n",
      "MSE test:  657.999125535\n",
      "OOB score:  673.375663489\n",
      "Estimators:  245\n",
      "MSE train:  88.7158595082\n",
      "MSE test:  658.473003696\n",
      "OOB score:  679.076799184\n"
     ]
    }
   ],
   "source": [
    "train_scores = []\n",
    "test_scores = []\n",
    "oob_scores = []\n",
    "size = range(5, 250, 10)\n",
    "\n",
    "for n in size:\n",
    "    print 'Estimators: ', n\n",
    "    train_score, test_score, oob_score = evaluate(train_set, test_set,\n",
    "                                                 RandomForestRegressor(n_estimators=n, oob_score = True))\n",
    "    train_scores.append(train_score)\n",
    "    test_scores.append(test_score)\n",
    "    oob_scores.append(oob_score)"
   ]
  },
  {
   "cell_type": "code",
   "execution_count": 74,
   "metadata": {
    "collapsed": false
   },
   "outputs": [],
   "source": [
    "json.dump(train_scores, open('train_scores.txt', 'w'))\n",
    "json.dump(test_scores, open('test_scores.txt', 'w'))\n",
    "json.dump(oob_scores, open('oob_scores.txt', 'w'))"
   ]
  },
  {
   "cell_type": "code",
   "execution_count": 76,
   "metadata": {
    "collapsed": false
   },
   "outputs": [
    {
     "data": {
      "image/png": "[encoded data removed]",
      "text/plain": [
       "<matplotlib.figure.Figure at 0x1c144fad0>"
      ]
     },
     "metadata": {},
     "output_type": "display_data"
    }
   ],
   "source": [
    "plt.figure(figsize=(12, 6))\n",
    "plt.plot(size, train_scores, label='train', lw=2, marker='o')\n",
    "plt.plot(size, test_scores, label='test', lw=2, marker='o')\n",
    "plt.plot(size, oob_scores, label='out-of-bag', lw=2, marker='o')\n",
    "plt.xlim(5, 245)\n",
    "plt.xticks(size)\n",
    "plt.xlabel('estimators number')\n",
    "plt.ylabel('error')\n",
    "plt.title('Composition comparison')\n",
    "plt.legend(loc='best')\n",
    "plt.show()"
   ]
  },
  {
   "cell_type": "markdown",
   "metadata": {},
   "source": [
    "Видим, что качество на обучении стабилизировалость. Также можно заметить, что ошибка out-of-bag хорошо моделирует ошибку на тестовой выборке."
   ]
  },
  {
   "cell_type": "markdown",
   "metadata": {},
   "source": [
    "## Bagging и RSM "
   ]
  },
  {
   "cell_type": "markdown",
   "metadata": {},
   "source": [
    "Обучите Random Forest и композицию деревьев, построенную с помощью техник Bagging и RSM до тех пор, пока качество на обучении не стабилизируется, подобрав оптимальные параметры сабсемлинга по объектам и признаками для каждого метода. Постройте и сравните графики зависимости качества прогнозов этих двух композиций от количества базовых алгоритмов."
   ]
  },
  {
   "cell_type": "code",
   "execution_count": 60,
   "metadata": {
    "collapsed": true
   },
   "outputs": [],
   "source": [
    "def get_scores(clf_type, train, test, size, params):\n",
    "    train_scores = []\n",
    "    test_scores = []\n",
    "\n",
    "    for n in size:\n",
    "        params['n_estimators']=n\n",
    "        clf = clf_type(**params)\n",
    "        clf = clf.fit(train[train.columns[:-1]], train[train.columns[-1]])\n",
    "        predict = clf.predict(test[test.columns[:-1]])\n",
    "        test_score = mean_squared_error(test[test.columns[-1]], predict)\n",
    "        predict = clf.predict(train[train.columns[:-1]])\n",
    "        train_score = mean_squared_error(train[train.columns[-1]], predict)\n",
    "        print 'Estimators: ', n\n",
    "        print 'MSE train: ', train_score\n",
    "        print 'MSE test: ', test_score\n",
    "        train_scores.append(train_score)\n",
    "        test_scores.append(test_score)\n",
    "    return train_scores, test_scores"
   ]
  },
  {
   "cell_type": "code",
   "execution_count": 130,
   "metadata": {
    "collapsed": false
   },
   "outputs": [
    {
     "name": "stdout",
     "output_type": "stream",
     "text": [
      "Estimators:  5\n",
      "MSE train:  157.960974578\n",
      "MSE test:  725.209621571\n",
      "OOB score:  987.554514993\n",
      "Estimators:  30\n",
      "MSE train:  111.071561533\n",
      "MSE test:  643.124792764\n",
      "OOB score:  728.895390347\n",
      "Estimators:  55\n",
      "MSE train:  93.6401776634\n",
      "MSE test:  621.368288103\n",
      "OOB score:  670.576140094\n",
      "Estimators:  80\n",
      "MSE train:  90.6485479161\n",
      "MSE test:  629.348399405\n",
      "OOB score:  686.069736628\n",
      "Estimators:  105\n",
      "MSE train:  87.2525232895\n",
      "MSE test:  624.244259498\n",
      "OOB score:  667.083680466\n",
      "Estimators:  130\n",
      "MSE train:  88.0877616363\n",
      "MSE test:  621.083590203\n",
      "OOB score:  649.666467265\n",
      "Estimators:  155\n",
      "MSE train:  85.1984799565\n",
      "MSE test:  627.004148279\n",
      "OOB score:  658.267459711\n",
      "Estimators:  180\n",
      "MSE train:  86.9360839563\n",
      "MSE test:  625.127923497\n",
      "OOB score:  650.064589689\n",
      "Estimators:  205\n",
      "MSE train:  91.3034350243\n",
      "MSE test:  620.593637591\n",
      "OOB score:  659.118091974\n",
      "Estimators:  230\n",
      "MSE train:  91.8233442325\n",
      "MSE test:  627.620344156\n",
      "OOB score:  650.37967129\n"
     ]
    }
   ],
   "source": [
    "train_scores, test_scores = get_scores(BaggingRegressor, train_set, test_set, range(5, 250, 25))"
   ]
  },
  {
   "cell_type": "code",
   "execution_count": 132,
   "metadata": {
    "collapsed": false
   },
   "outputs": [
    {
     "data": {
      "image/png": "[encoded data removed]",
      "text/plain": [
       "<matplotlib.figure.Figure at 0x1c1444050>"
      ]
     },
     "metadata": {},
     "output_type": "display_data"
    }
   ],
   "source": [
    "plt.figure(figsize=(12, 6))\n",
    "plt.plot(size, train_scores, label='train', lw=2, marker='o')\n",
    "plt.plot(size, test_scores, label='test', lw=2, marker='o')\n",
    "plt.plot(size, oob_scores, label='out-of-bag', lw=2, marker='o')\n",
    "plt.xlim(5, 230)\n",
    "plt.xticks(size)\n",
    "plt.xlabel('estimators number')\n",
    "plt.ylabel('error')\n",
    "plt.title('Composition comparison')\n",
    "plt.legend(loc='best')\n",
    "plt.show()"
   ]
  },
  {
   "cell_type": "markdown",
   "metadata": {},
   "source": [
    "Посмотрели, как работает неоптимизированный bagging. Далее будем искать оптимальные параметры для композиции из 35 алгоритмов. Так будет гораздо быстрее."
   ]
  },
  {
   "cell_type": "code",
   "execution_count": 168,
   "metadata": {
    "collapsed": false
   },
   "outputs": [
    {
     "name": "stdout",
     "output_type": "stream",
     "text": [
      "Fitting 3 folds for each of 25 candidates, totalling 75 fits\n",
      "[CV] max_features=0.1, max_samples=0.1 ...............................\n",
      "[CV] .. max_features=0.1, max_samples=0.1, score=-1095.532940 -   0.3s\n",
      "[Parallel(n_jobs=1)]: Done   1 tasks       | elapsed:    0.3s\n",
      "[CV] max_features=0.1, max_samples=0.1 ...............................\n",
      "[CV] .. max_features=0.1, max_samples=0.1, score=-1148.767988 -   0.2s\n",
      "[Parallel(n_jobs=1)]: Done   2 tasks       | elapsed:    0.5s\n",
      "[CV] max_features=0.1, max_samples=0.1 ...............................\n",
      "[CV] ... max_features=0.1, max_samples=0.1, score=-600.130826 -   0.3s\n",
      "[Parallel(n_jobs=1)]: Done   3 tasks       | elapsed:    0.8s\n",
      "[CV] max_features=0.1, max_samples=0.325 .............................\n",
      "[CV]  max_features=0.1, max_samples=0.325, score=-1065.512631 -   0.4s\n",
      "[Parallel(n_jobs=1)]: Done   4 tasks       | elapsed:    1.2s\n",
      "[CV] max_features=0.1, max_samples=0.325 .............................\n",
      "[CV] . max_features=0.1, max_samples=0.325, score=-999.773829 -   0.5s\n",
      "[Parallel(n_jobs=1)]: Done   5 tasks       | elapsed:    1.7s\n",
      "[CV] max_features=0.1, max_samples=0.325 .............................\n",
      "[CV] . max_features=0.1, max_samples=0.325, score=-568.663269 -   0.5s\n",
      "[Parallel(n_jobs=1)]: Done   6 tasks       | elapsed:    2.2s\n",
      "[CV] max_features=0.1, max_samples=0.55 ..............................\n",
      "[CV] .. max_features=0.1, max_samples=0.55, score=-919.764237 -   0.6s\n",
      "[Parallel(n_jobs=1)]: Done   7 tasks       | elapsed:    2.8s\n",
      "[CV] max_features=0.1, max_samples=0.55 ..............................\n",
      "[CV] . max_features=0.1, max_samples=0.55, score=-1077.356842 -   0.6s\n",
      "[Parallel(n_jobs=1)]: Done   8 tasks       | elapsed:    3.4s\n",
      "[CV] max_features=0.1, max_samples=0.55 ..............................\n",
      "[CV] .. max_features=0.1, max_samples=0.55, score=-577.290001 -   0.6s\n",
      "[Parallel(n_jobs=1)]: Done   9 tasks       | elapsed:    4.0s\n",
      "[CV] max_features=0.1, max_samples=0.775 .............................\n",
      "[CV] . max_features=0.1, max_samples=0.775, score=-941.699724 -   0.8s\n",
      "[Parallel(n_jobs=1)]: Done  10 tasks       | elapsed:    4.8s\n",
      "[CV] max_features=0.1, max_samples=0.775 .............................\n",
      "[CV]  max_features=0.1, max_samples=0.775, score=-1060.561667 -   0.7s\n",
      "[Parallel(n_jobs=1)]: Done  11 tasks       | elapsed:    5.6s\n",
      "[CV] max_features=0.1, max_samples=0.775 .............................\n",
      "[CV] . max_features=0.1, max_samples=0.775, score=-580.177661 -   0.8s\n",
      "[Parallel(n_jobs=1)]: Done  12 tasks       | elapsed:    6.3s\n",
      "[CV] max_features=0.1, max_samples=1.0 ...............................\n",
      "[CV] ... max_features=0.1, max_samples=1.0, score=-942.324237 -   0.9s\n",
      "[Parallel(n_jobs=1)]: Done  13 tasks       | elapsed:    7.2s\n",
      "[CV] max_features=0.1, max_samples=1.0 ...............................\n",
      "[CV] ... max_features=0.1, max_samples=1.0, score=-992.837174 -   0.8s\n",
      "[Parallel(n_jobs=1)]: Done  14 tasks       | elapsed:    8.1s\n",
      "[CV] max_features=0.1, max_samples=1.0 ...............................\n",
      "[CV] ... max_features=0.1, max_samples=1.0, score=-560.852802 -   0.8s\n",
      "[Parallel(n_jobs=1)]: Done  15 tasks       | elapsed:    8.9s\n",
      "[CV] max_features=0.325, max_samples=0.1 .............................\n",
      "[CV]  max_features=0.325, max_samples=0.1, score=-1026.739260 -   0.7s\n",
      "[Parallel(n_jobs=1)]: Done  16 tasks       | elapsed:    9.6s\n",
      "[CV] max_features=0.325, max_samples=0.1 .............................\n",
      "[CV]  max_features=0.325, max_samples=0.1, score=-1013.839613 -   0.7s\n",
      "[Parallel(n_jobs=1)]: Done  17 tasks       | elapsed:   10.3s\n",
      "[CV] max_features=0.325, max_samples=0.1 .............................\n",
      "[CV] . max_features=0.325, max_samples=0.1, score=-497.105115 -   0.7s\n",
      "[Parallel(n_jobs=1)]: Done  18 tasks       | elapsed:   11.1s\n",
      "[CV] max_features=0.325, max_samples=0.325 ...........................\n",
      "[CV]  max_features=0.325, max_samples=0.325, score=-831.516728 -   1.7s\n",
      "[Parallel(n_jobs=1)]: Done  19 tasks       | elapsed:   12.7s\n",
      "[CV] max_features=0.325, max_samples=0.325 ...........................\n",
      "[CV]  max_features=0.325, max_samples=0.325, score=-884.279485 -   1.4s\n",
      "[Parallel(n_jobs=1)]: Done  20 tasks       | elapsed:   14.1s\n",
      "[CV] max_features=0.325, max_samples=0.325 ...........................\n",
      "[CV]  max_features=0.325, max_samples=0.325, score=-507.926774 -   1.4s\n",
      "[Parallel(n_jobs=1)]: Done  21 tasks       | elapsed:   15.6s\n",
      "[CV] max_features=0.325, max_samples=0.55 ............................\n",
      "[CV]  max_features=0.325, max_samples=0.55, score=-841.650412 -   1.9s\n",
      "[Parallel(n_jobs=1)]: Done  22 tasks       | elapsed:   17.5s\n",
      "[CV] max_features=0.325, max_samples=0.55 ............................\n",
      "[CV]  max_features=0.325, max_samples=0.55, score=-888.059936 -   2.1s\n",
      "[Parallel(n_jobs=1)]: Done  23 tasks       | elapsed:   19.6s\n",
      "[CV] max_features=0.325, max_samples=0.55 ............................\n",
      "[CV]  max_features=0.325, max_samples=0.55, score=-505.145434 -   2.1s\n",
      "[Parallel(n_jobs=1)]: Done  24 tasks       | elapsed:   21.7s\n",
      "[CV] max_features=0.325, max_samples=0.775 ...........................\n",
      "[CV]  max_features=0.325, max_samples=0.775, score=-867.886012 -   2.6s\n",
      "[Parallel(n_jobs=1)]: Done  25 tasks       | elapsed:   24.4s\n",
      "[CV] max_features=0.325, max_samples=0.775 ...........................\n",
      "[CV]  max_features=0.325, max_samples=0.775, score=-787.118426 -   2.6s\n",
      "[Parallel(n_jobs=1)]: Done  26 tasks       | elapsed:   26.9s\n",
      "[CV] max_features=0.325, max_samples=0.775 ...........................\n",
      "[CV]  max_features=0.325, max_samples=0.775, score=-475.621224 -   2.4s\n",
      "[Parallel(n_jobs=1)]: Done  27 tasks       | elapsed:   29.3s\n",
      "[CV] max_features=0.325, max_samples=1.0 .............................\n",
      "[CV] . max_features=0.325, max_samples=1.0, score=-856.669328 -   2.9s\n",
      "[Parallel(n_jobs=1)]: Done  28 tasks       | elapsed:   32.3s\n",
      "[CV] max_features=0.325, max_samples=1.0 .............................\n",
      "[CV] . max_features=0.325, max_samples=1.0, score=-844.635698 -   2.9s\n",
      "[Parallel(n_jobs=1)]: Done  29 tasks       | elapsed:   35.2s\n",
      "[CV] max_features=0.325, max_samples=1.0 .............................\n",
      "[CV] . max_features=0.325, max_samples=1.0, score=-525.121830 -   2.9s\n",
      "[Parallel(n_jobs=1)]: Done  30 tasks       | elapsed:   38.1s\n",
      "[CV] max_features=0.55, max_samples=0.1 ..............................\n",
      "[CV] . max_features=0.55, max_samples=0.1, score=-1038.482372 -   1.1s\n",
      "[Parallel(n_jobs=1)]: Done  31 tasks       | elapsed:   39.3s\n",
      "[CV] max_features=0.55, max_samples=0.1 ..............................\n",
      "[CV] .. max_features=0.55, max_samples=0.1, score=-929.431949 -   1.1s\n",
      "[Parallel(n_jobs=1)]: Done  32 tasks       | elapsed:   40.4s\n",
      "[CV] max_features=0.55, max_samples=0.1 ..............................\n",
      "[CV] .. max_features=0.55, max_samples=0.1, score=-489.419194 -   1.2s\n",
      "[Parallel(n_jobs=1)]: Done  33 tasks       | elapsed:   41.6s\n",
      "[CV] max_features=0.55, max_samples=0.325 ............................\n",
      "[CV]  max_features=0.55, max_samples=0.325, score=-818.691880 -   2.7s\n",
      "[Parallel(n_jobs=1)]: Done  34 tasks       | elapsed:   44.3s\n",
      "[CV] max_features=0.55, max_samples=0.325 ............................\n",
      "[CV]  max_features=0.55, max_samples=0.325, score=-853.020872 -   2.5s\n",
      "[Parallel(n_jobs=1)]: Done  35 tasks       | elapsed:   46.8s\n",
      "[CV] max_features=0.55, max_samples=0.325 ............................\n",
      "[CV]  max_features=0.55, max_samples=0.325, score=-460.407057 -   2.5s\n",
      "[Parallel(n_jobs=1)]: Done  36 tasks       | elapsed:   49.4s\n",
      "[CV] max_features=0.55, max_samples=0.55 .............................\n",
      "[CV] . max_features=0.55, max_samples=0.55, score=-859.132231 -   3.8s\n",
      "[Parallel(n_jobs=1)]: Done  37 tasks       | elapsed:   53.2s\n",
      "[CV] max_features=0.55, max_samples=0.55 .............................\n",
      "[CV] . max_features=0.55, max_samples=0.55, score=-829.623249 -   3.6s\n",
      "[Parallel(n_jobs=1)]: Done  38 tasks       | elapsed:   56.8s\n",
      "[CV] max_features=0.55, max_samples=0.55 .............................\n",
      "[CV] . max_features=0.55, max_samples=0.55, score=-477.336836 -   3.8s\n",
      "[Parallel(n_jobs=1)]: Done  39 tasks       | elapsed:  1.0min\n",
      "[CV] max_features=0.55, max_samples=0.775 ............................\n",
      "[CV]  max_features=0.55, max_samples=0.775, score=-882.673040 -   4.6s\n",
      "[Parallel(n_jobs=1)]: Done  40 tasks       | elapsed:  1.1min\n",
      "[CV] max_features=0.55, max_samples=0.775 ............................\n",
      "[CV]  max_features=0.55, max_samples=0.775, score=-820.001986 -   4.5s\n",
      "[Parallel(n_jobs=1)]: Done  41 tasks       | elapsed:  1.2min\n",
      "[CV] max_features=0.55, max_samples=0.775 ............................\n",
      "[CV]  max_features=0.55, max_samples=0.775, score=-470.702769 -   4.7s\n",
      "[Parallel(n_jobs=1)]: Done  42 tasks       | elapsed:  1.2min\n",
      "[CV] max_features=0.55, max_samples=1.0 ..............................\n",
      "[CV] .. max_features=0.55, max_samples=1.0, score=-743.498396 -   5.5s\n",
      "[Parallel(n_jobs=1)]: Done  43 tasks       | elapsed:  1.3min\n",
      "[CV] max_features=0.55, max_samples=1.0 ..............................\n",
      "[CV] .. max_features=0.55, max_samples=1.0, score=-810.538144 -   5.6s\n",
      "[Parallel(n_jobs=1)]: Done  44 tasks       | elapsed:  1.4min\n",
      "[CV] max_features=0.55, max_samples=1.0 ..............................\n",
      "[CV] .. max_features=0.55, max_samples=1.0, score=-482.449561 -   5.4s\n",
      "[Parallel(n_jobs=1)]: Done  45 tasks       | elapsed:  1.5min\n",
      "[CV] max_features=0.775, max_samples=0.1 .............................\n",
      "[CV] . max_features=0.775, max_samples=0.1, score=-876.483148 -   1.6s\n",
      "[Parallel(n_jobs=1)]: Done  46 tasks       | elapsed:  1.5min\n",
      "[CV] max_features=0.775, max_samples=0.1 .............................\n",
      "[CV] . max_features=0.775, max_samples=0.1, score=-929.265486 -   1.6s\n",
      "[Parallel(n_jobs=1)]: Done  47 tasks       | elapsed:  1.6min\n",
      "[CV] max_features=0.775, max_samples=0.1 .............................\n",
      "[CV] . max_features=0.775, max_samples=0.1, score=-495.424879 -   1.6s\n",
      "[Parallel(n_jobs=1)]: Done  48 tasks       | elapsed:  1.6min\n",
      "[CV] max_features=0.775, max_samples=0.325 ...........................\n",
      "[CV]  max_features=0.775, max_samples=0.325, score=-782.951570 -   3.8s\n",
      "[Parallel(n_jobs=1)]: Done  49 tasks       | elapsed:  1.7min\n",
      "[CV] max_features=0.775, max_samples=0.325 ...........................\n",
      "[CV]  max_features=0.775, max_samples=0.325, score=-816.430924 -   3.8s\n",
      "[Parallel(n_jobs=1)]: Done  50 tasks       | elapsed:  1.7min\n",
      "[CV] max_features=0.775, max_samples=0.325 ...........................\n",
      "[CV]  max_features=0.775, max_samples=0.325, score=-428.597411 -   4.7s\n",
      "[Parallel(n_jobs=1)]: Done  51 tasks       | elapsed:  1.8min\n",
      "[CV] max_features=0.775, max_samples=0.55 ............................\n",
      "[CV]  max_features=0.775, max_samples=0.55, score=-741.772428 -   6.5s\n",
      "[Parallel(n_jobs=1)]: Done  52 tasks       | elapsed:  1.9min\n",
      "[CV] max_features=0.775, max_samples=0.55 ............................\n",
      "[CV]  max_features=0.775, max_samples=0.55, score=-741.889358 -   5.8s\n",
      "[Parallel(n_jobs=1)]: Done  53 tasks       | elapsed:  2.0min\n",
      "[CV] max_features=0.775, max_samples=0.55 ............................\n",
      "[CV]  max_features=0.775, max_samples=0.55, score=-469.256419 -   6.1s\n",
      "[Parallel(n_jobs=1)]: Done  54 tasks       | elapsed:  2.1min\n",
      "[CV] max_features=0.775, max_samples=0.775 ...........................\n",
      "[CV]  max_features=0.775, max_samples=0.775, score=-771.822581 -   8.5s\n",
      "[Parallel(n_jobs=1)]: Done  55 tasks       | elapsed:  2.3min\n",
      "[CV] max_features=0.775, max_samples=0.775 ...........................\n",
      "[CV]  max_features=0.775, max_samples=0.775, score=-790.873007 -   8.2s\n",
      "[Parallel(n_jobs=1)]: Done  56 tasks       | elapsed:  2.4min\n",
      "[CV] max_features=0.775, max_samples=0.775 ...........................\n",
      "[CV]  max_features=0.775, max_samples=0.775, score=-472.958451 -   7.6s\n",
      "[Parallel(n_jobs=1)]: Done  57 tasks       | elapsed:  2.5min\n",
      "[CV] max_features=0.775, max_samples=1.0 .............................\n",
      "[CV] . max_features=0.775, max_samples=1.0, score=-816.388574 -   9.2s\n",
      "[Parallel(n_jobs=1)]: Done  58 tasks       | elapsed:  2.7min\n",
      "[CV] max_features=0.775, max_samples=1.0 .............................\n",
      "[CV] . max_features=0.775, max_samples=1.0, score=-743.394651 -   8.7s\n",
      "[Parallel(n_jobs=1)]: Done  59 tasks       | elapsed:  2.8min\n",
      "[CV] max_features=0.775, max_samples=1.0 .............................\n",
      "[CV] . max_features=0.775, max_samples=1.0, score=-455.052302 -   8.4s\n",
      "[Parallel(n_jobs=1)]: Done  60 tasks       | elapsed:  3.0min\n",
      "[CV] max_features=1.0, max_samples=0.1 ...............................\n",
      "[CV] ... max_features=1.0, max_samples=0.1, score=-956.745975 -   2.2s\n",
      "[Parallel(n_jobs=1)]: Done  61 tasks       | elapsed:  3.0min\n",
      "[CV] max_features=1.0, max_samples=0.1 ...............................\n",
      "[CV] ... max_features=1.0, max_samples=0.1, score=-927.148065 -   2.1s\n",
      "[Parallel(n_jobs=1)]: Done  62 tasks       | elapsed:  3.0min\n",
      "[CV] max_features=1.0, max_samples=0.1 ...............................\n",
      "[CV] ... max_features=1.0, max_samples=0.1, score=-473.574526 -   2.1s\n",
      "[Parallel(n_jobs=1)]: Done  63 tasks       | elapsed:  3.1min\n",
      "[CV] max_features=1.0, max_samples=0.325 .............................\n",
      "[CV] . max_features=1.0, max_samples=0.325, score=-857.738216 -   5.4s\n",
      "[Parallel(n_jobs=1)]: Done  64 tasks       | elapsed:  3.2min\n",
      "[CV] max_features=1.0, max_samples=0.325 .............................\n",
      "[CV] . max_features=1.0, max_samples=0.325, score=-789.171877 -   5.1s\n",
      "[Parallel(n_jobs=1)]: Done  65 tasks       | elapsed:  3.2min\n",
      "[CV] max_features=1.0, max_samples=0.325 .............................\n",
      "[CV] . max_features=1.0, max_samples=0.325, score=-438.206450 -   5.1s\n",
      "[Parallel(n_jobs=1)]: Done  66 tasks       | elapsed:  3.3min\n",
      "[CV] max_features=1.0, max_samples=0.55 ..............................\n",
      "[CV] .. max_features=1.0, max_samples=0.55, score=-751.935087 -   7.9s\n",
      "[Parallel(n_jobs=1)]: Done  67 tasks       | elapsed:  3.5min\n",
      "[CV] max_features=1.0, max_samples=0.55 ..............................\n",
      "[CV] .. max_features=1.0, max_samples=0.55, score=-767.186653 -   8.0s\n",
      "[Parallel(n_jobs=1)]: Done  68 tasks       | elapsed:  3.6min\n",
      "[CV] max_features=1.0, max_samples=0.55 ..............................\n",
      "[CV] .. max_features=1.0, max_samples=0.55, score=-447.251749 -   8.3s\n",
      "[Parallel(n_jobs=1)]: Done  69 tasks       | elapsed:  3.7min\n",
      "[CV] max_features=1.0, max_samples=0.775 .............................\n",
      "[CV] . max_features=1.0, max_samples=0.775, score=-766.087686 -  10.8s\n",
      "[Parallel(n_jobs=1)]: Done  70 tasks       | elapsed:  3.9min\n",
      "[CV] max_features=1.0, max_samples=0.775 .............................\n",
      "[CV] . max_features=1.0, max_samples=0.775, score=-741.401589 -   9.8s\n",
      "[Parallel(n_jobs=1)]: Done  71 tasks       | elapsed:  4.1min\n",
      "[CV] max_features=1.0, max_samples=0.775 .............................\n",
      "[CV] . max_features=1.0, max_samples=0.775, score=-469.393589 -  10.1s\n",
      "[Parallel(n_jobs=1)]: Done  72 tasks       | elapsed:  4.2min\n",
      "[CV] max_features=1.0, max_samples=1.0 ...............................\n",
      "[CV] ... max_features=1.0, max_samples=1.0, score=-873.961567 -  11.8s\n",
      "[Parallel(n_jobs=1)]: Done  73 tasks       | elapsed:  4.4min\n",
      "[CV] max_features=1.0, max_samples=1.0 ...............................\n",
      "[CV] ... max_features=1.0, max_samples=1.0, score=-763.712444 -  12.5s\n",
      "[Parallel(n_jobs=1)]: Done  74 tasks       | elapsed:  4.6min\n",
      "[CV] max_features=1.0, max_samples=1.0 ...............................\n",
      "[CV] ... max_features=1.0, max_samples=1.0, score=-493.722198 -  12.2s\n",
      "[Parallel(n_jobs=1)]: Done  75 tasks       | elapsed:  4.8min\n",
      "[Parallel(n_jobs=1)]: Done  75 out of  75 | elapsed:  4.8min finished\n"
     ]
    },
    {
     "data": {
      "text/plain": [
       "GridSearchCV(cv=None, error_score='raise',\n",
       "       estimator=BaggingRegressor(base_estimator=None, bootstrap=True,\n",
       "         bootstrap_features=False, max_features=1.0, max_samples=1.0,\n",
       "         n_estimators=35, n_jobs=1, oob_score=False, random_state=None,\n",
       "         verbose=0, warm_start=False),\n",
       "       fit_params={}, iid=True, n_jobs=1,\n",
       "       param_grid={'max_features': array([ 0.1  ,  0.325,  0.55 ,  0.775,  1.   ]), 'max_samples': array([ 0.1  ,  0.325,  0.55 ,  0.775,  1.   ])},\n",
       "       pre_dispatch='2*n_jobs', refit=True, scoring='mean_squared_error',\n",
       "       verbose=50)"
      ]
     },
     "execution_count": 168,
     "metadata": {},
     "output_type": "execute_result"
    }
   ],
   "source": [
    "parameters = {'max_samples': np.linspace(0.1, 1.0, 5),\n",
    "              'max_features': np.linspace(0.1, 1.0, 5)     \n",
    "}\n",
    "bag_clf = BaggingRegressor(n_estimators=35)\n",
    "bag_clf = GridSearchCV(bag_clf, parameters, verbose=50, scoring='mean_squared_error')\n",
    "bag_clf.fit(train_set[train_set.columns[:-1]], train_set[train_set.columns[-1]])"
   ]
  },
  {
   "cell_type": "code",
   "execution_count": 169,
   "metadata": {
    "collapsed": false
   },
   "outputs": [
    {
     "name": "stdout",
     "output_type": "stream",
     "text": [
      "Best params: {'max_features': 0.77500000000000002, 'max_samples': 0.55000000000000004}\n",
      "Best score: -650.972734963\n"
     ]
    }
   ],
   "source": [
    "print 'Best params:', bag_clf.best_params_\n",
    "print 'Best score:', bag_clf.best_score_"
   ]
  },
  {
   "cell_type": "markdown",
   "metadata": {},
   "source": [
    "Оптимальные параметры: max_features: 0.775, max_samples: 0.55"
   ]
  },
  {
   "cell_type": "code",
   "execution_count": 183,
   "metadata": {
    "collapsed": false
   },
   "outputs": [
    {
     "name": "stdout",
     "output_type": "stream",
     "text": [
      "Estimators:  5\n",
      "MSE train:  297.075335831\n",
      "MSE test:  721.176990905\n",
      "Estimators:  15\n",
      "MSE train:  239.29790164\n",
      "MSE test:  655.025134254\n",
      "Estimators:  25\n",
      "MSE train:  235.932674728\n",
      "MSE test:  638.675518342\n",
      "Estimators:  35\n",
      "MSE train:  222.920422111\n",
      "MSE test:  633.681395799\n",
      "Estimators:  45\n",
      "MSE train:  233.130558509\n",
      "MSE test:  623.925270585\n",
      "Estimators:  55\n",
      "MSE train:  212.965070366\n",
      "MSE test:  640.517307042\n",
      "Estimators:  65\n",
      "MSE train:  220.809818764\n",
      "MSE test:  651.834768243\n",
      "Estimators:  75\n",
      "MSE train:  221.144321731\n",
      "MSE test:  632.166737828\n",
      "Estimators:  85\n",
      "MSE train:  216.309993114\n",
      "MSE test:  640.366376866\n",
      "Estimators:  95\n",
      "MSE train:  207.649038419\n",
      "MSE test:  632.987316036\n"
     ]
    }
   ],
   "source": [
    "params={'max_features': 0.77500000000000002, 'max_samples': 0.55000000000000004}\n",
    "bag_train_scores, bag_test_scores = get_scores(BaggingRegressor, train_set, test_set, range(5, 100, 10), params)"
   ]
  },
  {
   "cell_type": "code",
   "execution_count": 159,
   "metadata": {
    "collapsed": false
   },
   "outputs": [
    {
     "name": "stdout",
     "output_type": "stream",
     "text": [
      "Fitting 3 folds for each of 80 candidates, totalling 240 fits\n",
      "[CV] max_features=0.1, min_samples_split=2, min_samples_leaf=2 .......\n",
      "[CV]  max_features=0.1, min_samples_split=2, min_samples_leaf=2, score=-854.782755 -   0.7s\n",
      "[CV] max_features=0.1, min_samples_split=2, min_samples_leaf=2 .......\n",
      "[CV]  max_features=0.1, min_samples_split=2, min_samples_leaf=2, score=-847.545987 -   0.7s"
     ]
    },
    {
     "name": "stderr",
     "output_type": "stream",
     "text": [
      "[Parallel(n_jobs=1)]: Done   1 tasks       | elapsed:    0.7s\n",
      "[Parallel(n_jobs=1)]: Done   2 tasks       | elapsed:    1.4s\n"
     ]
    },
    {
     "name": "stdout",
     "output_type": "stream",
     "text": [
      "\n",
      "[CV] max_features=0.1, min_samples_split=2, min_samples_leaf=2 .......\n",
      "[CV]  max_features=0.1, min_samples_split=2, min_samples_leaf=2, score=-474.701492 -   0.7s\n",
      "[CV] max_features=0.1, min_samples_split=3, min_samples_leaf=2 .......\n",
      "[CV]  max_features=0.1, min_samples_split=3, min_samples_leaf=2, score=-751.790661 -   0.7s"
     ]
    },
    {
     "name": "stderr",
     "output_type": "stream",
     "text": [
      "[Parallel(n_jobs=1)]: Done   3 tasks       | elapsed:    2.1s\n",
      "[Parallel(n_jobs=1)]: Done   4 tasks       | elapsed:    2.8s\n"
     ]
    },
    {
     "name": "stdout",
     "output_type": "stream",
     "text": [
      "\n",
      "[CV] max_features=0.1, min_samples_split=3, min_samples_leaf=2 .......\n",
      "[CV]  max_features=0.1, min_samples_split=3, min_samples_leaf=2, score=-859.946399 -   0.7s\n",
      "[CV] max_features=0.1, min_samples_split=3, min_samples_leaf=2 .......\n",
      "[CV]  max_features=0.1, min_samples_split=3, min_samples_leaf=2, score=-464.196267 -   0.7s"
     ]
    },
    {
     "name": "stderr",
     "output_type": "stream",
     "text": [
      "[Parallel(n_jobs=1)]: Done   5 tasks       | elapsed:    3.5s\n",
      "[Parallel(n_jobs=1)]: Done   6 tasks       | elapsed:    4.2s\n"
     ]
    },
    {
     "name": "stdout",
     "output_type": "stream",
     "text": [
      "\n",
      "[CV] max_features=0.1, min_samples_split=5, min_samples_leaf=2 .......\n",
      "[CV]  max_features=0.1, min_samples_split=5, min_samples_leaf=2, score=-749.475246 -   0.7s\n",
      "[CV] max_features=0.1, min_samples_split=5, min_samples_leaf=2 .......\n",
      "[CV]  max_features=0.1, min_samples_split=5, min_samples_leaf=2, score=-837.154603 -   0.7s"
     ]
    },
    {
     "name": "stderr",
     "output_type": "stream",
     "text": [
      "[Parallel(n_jobs=1)]: Done   7 tasks       | elapsed:    4.9s\n",
      "[Parallel(n_jobs=1)]: Done   8 tasks       | elapsed:    5.6s\n"
     ]
    },
    {
     "name": "stdout",
     "output_type": "stream",
     "text": [
      "\n",
      "[CV] max_features=0.1, min_samples_split=5, min_samples_leaf=2 .......\n",
      "[CV]  max_features=0.1, min_samples_split=5, min_samples_leaf=2, score=-485.085794 -   0.7s\n",
      "[CV] max_features=0.1, min_samples_split=10, min_samples_leaf=2 ......\n",
      "[CV]  max_features=0.1, min_samples_split=10, min_samples_leaf=2, score=-783.177278 -   0.7s"
     ]
    },
    {
     "name": "stderr",
     "output_type": "stream",
     "text": [
      "[Parallel(n_jobs=1)]: Done   9 tasks       | elapsed:    6.3s\n",
      "[Parallel(n_jobs=1)]: Done  10 tasks       | elapsed:    7.0s\n"
     ]
    },
    {
     "name": "stdout",
     "output_type": "stream",
     "text": [
      "\n",
      "[CV] max_features=0.1, min_samples_split=10, min_samples_leaf=2 ......\n",
      "[CV]  max_features=0.1, min_samples_split=10, min_samples_leaf=2, score=-896.013773 -   0.7s\n",
      "[CV] max_features=0.1, min_samples_split=10, min_samples_leaf=2 ......\n",
      "[CV]  max_features=0.1, min_samples_split=10, min_samples_leaf=2, score=-476.326283 -   0.7s"
     ]
    },
    {
     "name": "stderr",
     "output_type": "stream",
     "text": [
      "[Parallel(n_jobs=1)]: Done  11 tasks       | elapsed:    7.7s\n",
      "[Parallel(n_jobs=1)]: Done  12 tasks       | elapsed:    8.4s\n"
     ]
    },
    {
     "name": "stdout",
     "output_type": "stream",
     "text": [
      "\n",
      "[CV] max_features=0.1, min_samples_split=2, min_samples_leaf=3 .......\n",
      "[CV]  max_features=0.1, min_samples_split=2, min_samples_leaf=3, score=-807.462934 -   0.7s\n",
      "[CV] max_features=0.1, min_samples_split=2, min_samples_leaf=3 .......\n",
      "[CV]  max_features=0.1, min_samples_split=2, min_samples_leaf=3, score=-851.899294 -   0.7s"
     ]
    },
    {
     "name": "stderr",
     "output_type": "stream",
     "text": [
      "[Parallel(n_jobs=1)]: Done  13 tasks       | elapsed:    9.1s\n",
      "[Parallel(n_jobs=1)]: Done  14 tasks       | elapsed:    9.8s\n"
     ]
    },
    {
     "name": "stdout",
     "output_type": "stream",
     "text": [
      "\n",
      "[CV] max_features=0.1, min_samples_split=2, min_samples_leaf=3 .......\n",
      "[CV]  max_features=0.1, min_samples_split=2, min_samples_leaf=3, score=-487.221304 -   0.7s\n",
      "[CV] max_features=0.1, min_samples_split=3, min_samples_leaf=3 .......\n",
      "[CV]  max_features=0.1, min_samples_split=3, min_samples_leaf=3, score=-815.394137 -   0.7s"
     ]
    },
    {
     "name": "stderr",
     "output_type": "stream",
     "text": [
      "[Parallel(n_jobs=1)]: Done  15 tasks       | elapsed:   10.6s\n",
      "[Parallel(n_jobs=1)]: Done  16 tasks       | elapsed:   11.3s\n"
     ]
    },
    {
     "name": "stdout",
     "output_type": "stream",
     "text": [
      "\n",
      "[CV] max_features=0.1, min_samples_split=3, min_samples_leaf=3 .......\n",
      "[CV]  max_features=0.1, min_samples_split=3, min_samples_leaf=3, score=-840.216197 -   0.7s\n",
      "[CV] max_features=0.1, min_samples_split=3, min_samples_leaf=3 .......\n",
      "[CV]  max_features=0.1, min_samples_split=3, min_samples_leaf=3, score=-485.313021 -   0.8s"
     ]
    },
    {
     "name": "stderr",
     "output_type": "stream",
     "text": [
      "[Parallel(n_jobs=1)]: Done  17 tasks       | elapsed:   12.0s\n",
      "[Parallel(n_jobs=1)]: Done  18 tasks       | elapsed:   12.8s\n"
     ]
    },
    {
     "name": "stdout",
     "output_type": "stream",
     "text": [
      "\n",
      "[CV] max_features=0.1, min_samples_split=5, min_samples_leaf=3 .......\n",
      "[CV]  max_features=0.1, min_samples_split=5, min_samples_leaf=3, score=-777.931414 -   0.8s\n",
      "[CV] max_features=0.1, min_samples_split=5, min_samples_leaf=3 .......\n",
      "[CV]  max_features=0.1, min_samples_split=5, min_samples_leaf=3, score=-842.138446 -   0.8s"
     ]
    },
    {
     "name": "stderr",
     "output_type": "stream",
     "text": [
      "[Parallel(n_jobs=1)]: Done  19 tasks       | elapsed:   13.6s\n",
      "[Parallel(n_jobs=1)]: Done  20 tasks       | elapsed:   14.5s\n"
     ]
    },
    {
     "name": "stdout",
     "output_type": "stream",
     "text": [
      "\n",
      "[CV] max_features=0.1, min_samples_split=5, min_samples_leaf=3 .......\n",
      "[CV]  max_features=0.1, min_samples_split=5, min_samples_leaf=3, score=-478.107514 -   0.8s\n",
      "[CV] max_features=0.1, min_samples_split=10, min_samples_leaf=3 ......\n",
      "[CV]  max_features=0.1, min_samples_split=10, min_samples_leaf=3, score=-764.817273 -   0.7s"
     ]
    },
    {
     "name": "stderr",
     "output_type": "stream",
     "text": [
      "[Parallel(n_jobs=1)]: Done  21 tasks       | elapsed:   15.3s\n",
      "[Parallel(n_jobs=1)]: Done  22 tasks       | elapsed:   16.0s\n"
     ]
    },
    {
     "name": "stdout",
     "output_type": "stream",
     "text": [
      "\n",
      "[CV] max_features=0.1, min_samples_split=10, min_samples_leaf=3 ......\n",
      "[CV]  max_features=0.1, min_samples_split=10, min_samples_leaf=3, score=-888.574579 -   0.9s\n",
      "[CV] max_features=0.1, min_samples_split=10, min_samples_leaf=3 ......\n",
      "[CV]  max_features=0.1, min_samples_split=10, min_samples_leaf=3, score=-479.828873 -   0.7s"
     ]
    },
    {
     "name": "stderr",
     "output_type": "stream",
     "text": [
      "[Parallel(n_jobs=1)]: Done  23 tasks       | elapsed:   16.9s\n",
      "[Parallel(n_jobs=1)]: Done  24 tasks       | elapsed:   17.6s\n"
     ]
    },
    {
     "name": "stdout",
     "output_type": "stream",
     "text": [
      "\n",
      "[CV] max_features=0.1, min_samples_split=2, min_samples_leaf=5 .......\n",
      "[CV]  max_features=0.1, min_samples_split=2, min_samples_leaf=5, score=-823.695628 -   0.8s\n",
      "[CV] max_features=0.1, min_samples_split=2, min_samples_leaf=5 .......\n",
      "[CV]  max_features=0.1, min_samples_split=2, min_samples_leaf=5, score=-830.464304 -   0.8s"
     ]
    },
    {
     "name": "stderr",
     "output_type": "stream",
     "text": [
      "[Parallel(n_jobs=1)]: Done  25 tasks       | elapsed:   18.4s\n",
      "[Parallel(n_jobs=1)]: Done  26 tasks       | elapsed:   19.2s\n"
     ]
    },
    {
     "name": "stdout",
     "output_type": "stream",
     "text": [
      "\n",
      "[CV] max_features=0.1, min_samples_split=2, min_samples_leaf=5 .......\n",
      "[CV]  max_features=0.1, min_samples_split=2, min_samples_leaf=5, score=-494.963586 -   0.7s\n",
      "[CV] max_features=0.1, min_samples_split=3, min_samples_leaf=5 .......\n",
      "[CV]  max_features=0.1, min_samples_split=3, min_samples_leaf=5, score=-787.872746 -   0.7s"
     ]
    },
    {
     "name": "stderr",
     "output_type": "stream",
     "text": [
      "[Parallel(n_jobs=1)]: Done  27 tasks       | elapsed:   19.9s\n",
      "[Parallel(n_jobs=1)]: Done  28 tasks       | elapsed:   20.7s\n"
     ]
    },
    {
     "name": "stdout",
     "output_type": "stream",
     "text": [
      "\n",
      "[CV] max_features=0.1, min_samples_split=3, min_samples_leaf=5 .......\n",
      "[CV]  max_features=0.1, min_samples_split=3, min_samples_leaf=5, score=-893.839528 -   0.7s\n",
      "[CV] max_features=0.1, min_samples_split=3, min_samples_leaf=5 .......\n",
      "[CV]  max_features=0.1, min_samples_split=3, min_samples_leaf=5, score=-477.426466 -   0.7s"
     ]
    },
    {
     "name": "stderr",
     "output_type": "stream",
     "text": [
      "[Parallel(n_jobs=1)]: Done  29 tasks       | elapsed:   21.4s\n",
      "[Parallel(n_jobs=1)]: Done  30 tasks       | elapsed:   22.1s\n"
     ]
    },
    {
     "name": "stdout",
     "output_type": "stream",
     "text": [
      "\n",
      "[CV] max_features=0.1, min_samples_split=5, min_samples_leaf=5 .......\n",
      "[CV]  max_features=0.1, min_samples_split=5, min_samples_leaf=5, score=-780.738385 -   0.7s\n",
      "[CV] max_features=0.1, min_samples_split=5, min_samples_leaf=5 .......\n",
      "[CV]  max_features=0.1, min_samples_split=5, min_samples_leaf=5, score=-878.570996 -   0.8s"
     ]
    },
    {
     "name": "stderr",
     "output_type": "stream",
     "text": [
      "[Parallel(n_jobs=1)]: Done  31 tasks       | elapsed:   22.9s\n",
      "[Parallel(n_jobs=1)]: Done  32 tasks       | elapsed:   23.7s\n"
     ]
    },
    {
     "name": "stdout",
     "output_type": "stream",
     "text": [
      "\n",
      "[CV] max_features=0.1, min_samples_split=5, min_samples_leaf=5 .......\n",
      "[CV]  max_features=0.1, min_samples_split=5, min_samples_leaf=5, score=-484.568902 -   0.7s\n",
      "[CV] max_features=0.1, min_samples_split=10, min_samples_leaf=5 ......\n",
      "[CV]  max_features=0.1, min_samples_split=10, min_samples_leaf=5, score=-808.944892 -   0.7s"
     ]
    },
    {
     "name": "stderr",
     "output_type": "stream",
     "text": [
      "[Parallel(n_jobs=1)]: Done  33 tasks       | elapsed:   24.4s\n",
      "[Parallel(n_jobs=1)]: Done  34 tasks       | elapsed:   25.1s\n"
     ]
    },
    {
     "name": "stdout",
     "output_type": "stream",
     "text": [
      "\n",
      "[CV] max_features=0.1, min_samples_split=10, min_samples_leaf=5 ......\n",
      "[CV]  max_features=0.1, min_samples_split=10, min_samples_leaf=5, score=-841.598045 -   0.7s\n",
      "[CV] max_features=0.1, min_samples_split=10, min_samples_leaf=5 ......\n",
      "[CV]  max_features=0.1, min_samples_split=10, min_samples_leaf=5, score=-480.817713 -   0.7s"
     ]
    },
    {
     "name": "stderr",
     "output_type": "stream",
     "text": [
      "[Parallel(n_jobs=1)]: Done  35 tasks       | elapsed:   25.9s\n",
      "[Parallel(n_jobs=1)]: Done  36 tasks       | elapsed:   26.6s\n"
     ]
    },
    {
     "name": "stdout",
     "output_type": "stream",
     "text": [
      "\n",
      "[CV] max_features=0.1, min_samples_split=2, min_samples_leaf=10 ......\n",
      "[CV]  max_features=0.1, min_samples_split=2, min_samples_leaf=10, score=-887.188659 -   0.6s\n",
      "[CV] max_features=0.1, min_samples_split=2, min_samples_leaf=10 ......\n",
      "[CV]  max_features=0.1, min_samples_split=2, min_samples_leaf=10, score=-937.384784 -   0.8s"
     ]
    },
    {
     "name": "stderr",
     "output_type": "stream",
     "text": [
      "[Parallel(n_jobs=1)]: Done  37 tasks       | elapsed:   27.2s\n",
      "[Parallel(n_jobs=1)]: Done  38 tasks       | elapsed:   28.0s\n"
     ]
    },
    {
     "name": "stdout",
     "output_type": "stream",
     "text": [
      "\n",
      "[CV] max_features=0.1, min_samples_split=2, min_samples_leaf=10 ......\n",
      "[CV]  max_features=0.1, min_samples_split=2, min_samples_leaf=10, score=-517.305842 -   0.6s\n",
      "[CV] max_features=0.1, min_samples_split=3, min_samples_leaf=10 ......\n",
      "[CV]  max_features=0.1, min_samples_split=3, min_samples_leaf=10, score=-876.197309 -   0.7s"
     ]
    },
    {
     "name": "stderr",
     "output_type": "stream",
     "text": [
      "[Parallel(n_jobs=1)]: Done  39 tasks       | elapsed:   28.5s\n",
      "[Parallel(n_jobs=1)]: Done  40 tasks       | elapsed:   29.3s\n"
     ]
    },
    {
     "name": "stdout",
     "output_type": "stream",
     "text": [
      "\n",
      "[CV] max_features=0.1, min_samples_split=3, min_samples_leaf=10 ......\n",
      "[CV]  max_features=0.1, min_samples_split=3, min_samples_leaf=10, score=-909.774699 -   0.7s\n",
      "[CV] max_features=0.1, min_samples_split=3, min_samples_leaf=10 ......\n",
      "[CV]  max_features=0.1, min_samples_split=3, min_samples_leaf=10, score=-500.162669 -   0.7s"
     ]
    },
    {
     "name": "stderr",
     "output_type": "stream",
     "text": [
      "[Parallel(n_jobs=1)]: Done  41 tasks       | elapsed:   30.0s\n",
      "[Parallel(n_jobs=1)]: Done  42 tasks       | elapsed:   30.7s\n"
     ]
    },
    {
     "name": "stdout",
     "output_type": "stream",
     "text": [
      "\n",
      "[CV] max_features=0.1, min_samples_split=5, min_samples_leaf=10 ......\n",
      "[CV]  max_features=0.1, min_samples_split=5, min_samples_leaf=10, score=-868.736835 -   0.6s\n",
      "[CV] max_features=0.1, min_samples_split=5, min_samples_leaf=10 ......\n",
      "[CV]  max_features=0.1, min_samples_split=5, min_samples_leaf=10, score=-952.509181 -   0.7s"
     ]
    },
    {
     "name": "stderr",
     "output_type": "stream",
     "text": [
      "[Parallel(n_jobs=1)]: Done  43 tasks       | elapsed:   31.3s\n",
      "[Parallel(n_jobs=1)]: Done  44 tasks       | elapsed:   32.0s\n"
     ]
    },
    {
     "name": "stdout",
     "output_type": "stream",
     "text": [
      "\n",
      "[CV] max_features=0.1, min_samples_split=5, min_samples_leaf=10 ......\n",
      "[CV]  max_features=0.1, min_samples_split=5, min_samples_leaf=10, score=-499.375670 -   0.7s\n",
      "[CV] max_features=0.1, min_samples_split=10, min_samples_leaf=10 .....\n",
      "[CV]  max_features=0.1, min_samples_split=10, min_samples_leaf=10, score=-892.390956 -   0.7s"
     ]
    },
    {
     "name": "stderr",
     "output_type": "stream",
     "text": [
      "[Parallel(n_jobs=1)]: Done  45 tasks       | elapsed:   32.8s\n",
      "[Parallel(n_jobs=1)]: Done  46 tasks       | elapsed:   33.6s\n"
     ]
    },
    {
     "name": "stdout",
     "output_type": "stream",
     "text": [
      "\n",
      "[CV] max_features=0.1, min_samples_split=10, min_samples_leaf=10 .....\n",
      "[CV]  max_features=0.1, min_samples_split=10, min_samples_leaf=10, score=-928.545001 -   0.7s\n",
      "[CV] max_features=0.1, min_samples_split=10, min_samples_leaf=10 .....\n",
      "[CV]  max_features=0.1, min_samples_split=10, min_samples_leaf=10, score=-488.330520 -   0.7s"
     ]
    },
    {
     "name": "stderr",
     "output_type": "stream",
     "text": [
      "[Parallel(n_jobs=1)]: Done  47 tasks       | elapsed:   34.3s\n",
      "[Parallel(n_jobs=1)]: Done  48 tasks       | elapsed:   35.0s\n"
     ]
    },
    {
     "name": "stdout",
     "output_type": "stream",
     "text": [
      "\n",
      "[CV] max_features=0.325, min_samples_split=2, min_samples_leaf=2 .....\n",
      "[CV]  max_features=0.325, min_samples_split=2, min_samples_leaf=2, score=-672.221708 -   1.8s\n",
      "[CV] max_features=0.325, min_samples_split=2, min_samples_leaf=2 .....\n",
      "[CV]  max_features=0.325, min_samples_split=2, min_samples_leaf=2, score=-788.436631 -   1.7s"
     ]
    },
    {
     "name": "stderr",
     "output_type": "stream",
     "text": [
      "[Parallel(n_jobs=1)]: Done  49 tasks       | elapsed:   36.8s\n",
      "[Parallel(n_jobs=1)]: Done  50 tasks       | elapsed:   38.5s\n"
     ]
    },
    {
     "name": "stdout",
     "output_type": "stream",
     "text": [
      "\n",
      "[CV] max_features=0.325, min_samples_split=2, min_samples_leaf=2 .....\n",
      "[CV]  max_features=0.325, min_samples_split=2, min_samples_leaf=2, score=-462.211825 -   1.7s\n",
      "[CV] max_features=0.325, min_samples_split=3, min_samples_leaf=2 .....\n",
      "[CV]  max_features=0.325, min_samples_split=3, min_samples_leaf=2, score=-691.774493 -   1.7s"
     ]
    },
    {
     "name": "stderr",
     "output_type": "stream",
     "text": [
      "[Parallel(n_jobs=1)]: Done  51 tasks       | elapsed:   40.3s\n",
      "[Parallel(n_jobs=1)]: Done  52 tasks       | elapsed:   42.0s\n"
     ]
    },
    {
     "name": "stdout",
     "output_type": "stream",
     "text": [
      "\n",
      "[CV] max_features=0.325, min_samples_split=3, min_samples_leaf=2 .....\n",
      "[CV]  max_features=0.325, min_samples_split=3, min_samples_leaf=2, score=-782.457446 -   1.9s\n",
      "[CV] max_features=0.325, min_samples_split=3, min_samples_leaf=2 .....\n",
      "[CV]  max_features=0.325, min_samples_split=3, min_samples_leaf=2, score=-449.285802 -   1.7s"
     ]
    },
    {
     "name": "stderr",
     "output_type": "stream",
     "text": [
      "[Parallel(n_jobs=1)]: Done  53 tasks       | elapsed:   44.0s\n",
      "[Parallel(n_jobs=1)]: Done  54 tasks       | elapsed:   45.7s\n"
     ]
    },
    {
     "name": "stdout",
     "output_type": "stream",
     "text": [
      "\n",
      "[CV] max_features=0.325, min_samples_split=5, min_samples_leaf=2 .....\n",
      "[CV]  max_features=0.325, min_samples_split=5, min_samples_leaf=2, score=-718.548556 -   1.8s\n",
      "[CV] max_features=0.325, min_samples_split=5, min_samples_leaf=2 .....\n",
      "[CV]  max_features=0.325, min_samples_split=5, min_samples_leaf=2, score=-810.102113 -   1.9s"
     ]
    },
    {
     "name": "stderr",
     "output_type": "stream",
     "text": [
      "[Parallel(n_jobs=1)]: Done  55 tasks       | elapsed:   47.5s\n",
      "[Parallel(n_jobs=1)]: Done  56 tasks       | elapsed:   49.4s\n"
     ]
    },
    {
     "name": "stdout",
     "output_type": "stream",
     "text": [
      "\n",
      "[CV] max_features=0.325, min_samples_split=5, min_samples_leaf=2 .....\n",
      "[CV]  max_features=0.325, min_samples_split=5, min_samples_leaf=2, score=-458.289381 -   1.8s\n",
      "[CV] max_features=0.325, min_samples_split=10, min_samples_leaf=2 ....\n",
      "[CV]  max_features=0.325, min_samples_split=10, min_samples_leaf=2, score=-693.532522 -   1.5s"
     ]
    },
    {
     "name": "stderr",
     "output_type": "stream",
     "text": [
      "[Parallel(n_jobs=1)]: Done  57 tasks       | elapsed:   51.2s\n",
      "[Parallel(n_jobs=1)]: Done  58 tasks       | elapsed:   52.8s\n"
     ]
    },
    {
     "name": "stdout",
     "output_type": "stream",
     "text": [
      "\n",
      "[CV] max_features=0.325, min_samples_split=10, min_samples_leaf=2 ....\n",
      "[CV]  max_features=0.325, min_samples_split=10, min_samples_leaf=2, score=-778.058895 -   1.4s\n",
      "[CV] max_features=0.325, min_samples_split=10, min_samples_leaf=2 ....\n",
      "[CV]  max_features=0.325, min_samples_split=10, min_samples_leaf=2, score=-459.920119 -   1.5s"
     ]
    },
    {
     "name": "stderr",
     "output_type": "stream",
     "text": [
      "[Parallel(n_jobs=1)]: Done  59 tasks       | elapsed:   54.2s\n",
      "[Parallel(n_jobs=1)]: Done  60 tasks       | elapsed:   55.7s\n"
     ]
    },
    {
     "name": "stdout",
     "output_type": "stream",
     "text": [
      "\n",
      "[CV] max_features=0.325, min_samples_split=2, min_samples_leaf=3 .....\n",
      "[CV]  max_features=0.325, min_samples_split=2, min_samples_leaf=3, score=-650.584420 -   1.5s\n",
      "[CV] max_features=0.325, min_samples_split=2, min_samples_leaf=3 .....\n",
      "[CV]  max_features=0.325, min_samples_split=2, min_samples_leaf=3, score=-757.591802 -   1.5s"
     ]
    },
    {
     "name": "stderr",
     "output_type": "stream",
     "text": [
      "[Parallel(n_jobs=1)]: Done  61 tasks       | elapsed:   57.3s\n",
      "[Parallel(n_jobs=1)]: Done  62 tasks       | elapsed:   58.8s\n"
     ]
    },
    {
     "name": "stdout",
     "output_type": "stream",
     "text": [
      "\n",
      "[CV] max_features=0.325, min_samples_split=2, min_samples_leaf=3 .....\n",
      "[CV]  max_features=0.325, min_samples_split=2, min_samples_leaf=3, score=-461.113865 -   1.5s\n",
      "[CV] max_features=0.325, min_samples_split=3, min_samples_leaf=3 .....\n",
      "[CV]  max_features=0.325, min_samples_split=3, min_samples_leaf=3, score=-751.259296 -   1.6s"
     ]
    },
    {
     "name": "stderr",
     "output_type": "stream",
     "text": [
      "[Parallel(n_jobs=1)]: Done  63 tasks       | elapsed:  1.0min\n",
      "[Parallel(n_jobs=1)]: Done  64 tasks       | elapsed:  1.0min\n"
     ]
    },
    {
     "name": "stdout",
     "output_type": "stream",
     "text": [
      "\n",
      "[CV] max_features=0.325, min_samples_split=3, min_samples_leaf=3 .....\n",
      "[CV]  max_features=0.325, min_samples_split=3, min_samples_leaf=3, score=-795.757478 -   1.4s\n",
      "[CV] max_features=0.325, min_samples_split=3, min_samples_leaf=3 .....\n",
      "[CV]  max_features=0.325, min_samples_split=3, min_samples_leaf=3, score=-473.243497 -   1.4s"
     ]
    },
    {
     "name": "stderr",
     "output_type": "stream",
     "text": [
      "[Parallel(n_jobs=1)]: Done  65 tasks       | elapsed:  1.1min\n",
      "[Parallel(n_jobs=1)]: Done  66 tasks       | elapsed:  1.1min\n"
     ]
    },
    {
     "name": "stdout",
     "output_type": "stream",
     "text": [
      "\n",
      "[CV] max_features=0.325, min_samples_split=5, min_samples_leaf=3 .....\n",
      "[CV]  max_features=0.325, min_samples_split=5, min_samples_leaf=3, score=-756.802297 -   1.4s\n",
      "[CV] max_features=0.325, min_samples_split=5, min_samples_leaf=3 .....\n",
      "[CV]  max_features=0.325, min_samples_split=5, min_samples_leaf=3, score=-770.018925 -   1.4s"
     ]
    },
    {
     "name": "stderr",
     "output_type": "stream",
     "text": [
      "[Parallel(n_jobs=1)]: Done  67 tasks       | elapsed:  1.1min\n",
      "[Parallel(n_jobs=1)]: Done  68 tasks       | elapsed:  1.1min\n"
     ]
    },
    {
     "name": "stdout",
     "output_type": "stream",
     "text": [
      "\n",
      "[CV] max_features=0.325, min_samples_split=5, min_samples_leaf=3 .....\n",
      "[CV]  max_features=0.325, min_samples_split=5, min_samples_leaf=3, score=-466.623943 -   1.5s\n",
      "[CV] max_features=0.325, min_samples_split=10, min_samples_leaf=3 ....\n",
      "[CV]  max_features=0.325, min_samples_split=10, min_samples_leaf=3, score=-711.956579 -   1.5s"
     ]
    },
    {
     "name": "stderr",
     "output_type": "stream",
     "text": [
      "[Parallel(n_jobs=1)]: Done  69 tasks       | elapsed:  1.2min\n",
      "[Parallel(n_jobs=1)]: Done  70 tasks       | elapsed:  1.2min\n"
     ]
    },
    {
     "name": "stdout",
     "output_type": "stream",
     "text": [
      "\n",
      "[CV] max_features=0.325, min_samples_split=10, min_samples_leaf=3 ....\n",
      "[CV]  max_features=0.325, min_samples_split=10, min_samples_leaf=3, score=-786.729869 -   1.4s\n",
      "[CV] max_features=0.325, min_samples_split=10, min_samples_leaf=3 ....\n",
      "[CV]  max_features=0.325, min_samples_split=10, min_samples_leaf=3, score=-462.016333 -   1.4s"
     ]
    },
    {
     "name": "stderr",
     "output_type": "stream",
     "text": [
      "[Parallel(n_jobs=1)]: Done  71 tasks       | elapsed:  1.2min\n",
      "[Parallel(n_jobs=1)]: Done  72 tasks       | elapsed:  1.2min\n"
     ]
    },
    {
     "name": "stdout",
     "output_type": "stream",
     "text": [
      "\n",
      "[CV] max_features=0.325, min_samples_split=2, min_samples_leaf=5 .....\n",
      "[CV]  max_features=0.325, min_samples_split=2, min_samples_leaf=5, score=-735.583222 -   1.7s\n",
      "[CV] max_features=0.325, min_samples_split=2, min_samples_leaf=5 .....\n",
      "[CV]  max_features=0.325, min_samples_split=2, min_samples_leaf=5, score=-739.186820 -   1.8s"
     ]
    },
    {
     "name": "stderr",
     "output_type": "stream",
     "text": [
      "[Parallel(n_jobs=1)]: Done  73 tasks       | elapsed:  1.3min\n",
      "[Parallel(n_jobs=1)]: Done  74 tasks       | elapsed:  1.3min\n"
     ]
    },
    {
     "name": "stdout",
     "output_type": "stream",
     "text": [
      "\n",
      "[CV] max_features=0.325, min_samples_split=2, min_samples_leaf=5 .....\n",
      "[CV]  max_features=0.325, min_samples_split=2, min_samples_leaf=5, score=-444.691009 -   1.6s\n",
      "[CV] max_features=0.325, min_samples_split=3, min_samples_leaf=5 .....\n",
      "[CV]  max_features=0.325, min_samples_split=3, min_samples_leaf=5, score=-715.413140 -   1.6s"
     ]
    },
    {
     "name": "stderr",
     "output_type": "stream",
     "text": [
      "[Parallel(n_jobs=1)]: Done  75 tasks       | elapsed:  1.3min\n",
      "[Parallel(n_jobs=1)]: Done  76 tasks       | elapsed:  1.3min\n"
     ]
    },
    {
     "name": "stdout",
     "output_type": "stream",
     "text": [
      "\n",
      "[CV] max_features=0.325, min_samples_split=3, min_samples_leaf=5 .....\n",
      "[CV]  max_features=0.325, min_samples_split=3, min_samples_leaf=5, score=-788.656284 -   1.4s\n",
      "[CV] max_features=0.325, min_samples_split=3, min_samples_leaf=5 .....\n",
      "[CV]  max_features=0.325, min_samples_split=3, min_samples_leaf=5, score=-454.578862 -   1.4s"
     ]
    },
    {
     "name": "stderr",
     "output_type": "stream",
     "text": [
      "[Parallel(n_jobs=1)]: Done  77 tasks       | elapsed:  1.4min\n",
      "[Parallel(n_jobs=1)]: Done  78 tasks       | elapsed:  1.4min\n"
     ]
    },
    {
     "name": "stdout",
     "output_type": "stream",
     "text": [
      "\n",
      "[CV] max_features=0.325, min_samples_split=5, min_samples_leaf=5 .....\n",
      "[CV]  max_features=0.325, min_samples_split=5, min_samples_leaf=5, score=-688.663102 -   1.4s\n",
      "[CV] max_features=0.325, min_samples_split=5, min_samples_leaf=5 .....\n",
      "[CV]  max_features=0.325, min_samples_split=5, min_samples_leaf=5, score=-792.426047 -   1.3s"
     ]
    },
    {
     "name": "stderr",
     "output_type": "stream",
     "text": [
      "[Parallel(n_jobs=1)]: Done  79 tasks       | elapsed:  1.4min\n",
      "[Parallel(n_jobs=1)]: Done  80 tasks       | elapsed:  1.4min\n"
     ]
    },
    {
     "name": "stdout",
     "output_type": "stream",
     "text": [
      "\n",
      "[CV] max_features=0.325, min_samples_split=5, min_samples_leaf=5 .....\n",
      "[CV]  max_features=0.325, min_samples_split=5, min_samples_leaf=5, score=-460.602310 -   1.4s\n",
      "[CV] max_features=0.325, min_samples_split=10, min_samples_leaf=5 ....\n",
      "[CV]  max_features=0.325, min_samples_split=10, min_samples_leaf=5, score=-708.550034 -   1.6s"
     ]
    },
    {
     "name": "stderr",
     "output_type": "stream",
     "text": [
      "[Parallel(n_jobs=1)]: Done  81 tasks       | elapsed:  1.5min\n",
      "[Parallel(n_jobs=1)]: Done  82 tasks       | elapsed:  1.5min\n"
     ]
    },
    {
     "name": "stdout",
     "output_type": "stream",
     "text": [
      "\n",
      "[CV] max_features=0.325, min_samples_split=10, min_samples_leaf=5 ....\n",
      "[CV]  max_features=0.325, min_samples_split=10, min_samples_leaf=5, score=-767.553299 -   1.6s\n",
      "[CV] max_features=0.325, min_samples_split=10, min_samples_leaf=5 ....\n",
      "[CV]  max_features=0.325, min_samples_split=10, min_samples_leaf=5, score=-453.364611 -   1.6s"
     ]
    },
    {
     "name": "stderr",
     "output_type": "stream",
     "text": [
      "[Parallel(n_jobs=1)]: Done  83 tasks       | elapsed:  1.5min\n",
      "[Parallel(n_jobs=1)]: Done  84 tasks       | elapsed:  1.5min\n"
     ]
    },
    {
     "name": "stdout",
     "output_type": "stream",
     "text": [
      "\n",
      "[CV] max_features=0.325, min_samples_split=2, min_samples_leaf=10 ....\n",
      "[CV]  max_features=0.325, min_samples_split=2, min_samples_leaf=10, score=-814.887321 -   1.3s\n",
      "[CV] max_features=0.325, min_samples_split=2, min_samples_leaf=10 ....\n",
      "[CV]  max_features=0.325, min_samples_split=2, min_samples_leaf=10, score=-830.011063 -   1.5s"
     ]
    },
    {
     "name": "stderr",
     "output_type": "stream",
     "text": [
      "[Parallel(n_jobs=1)]: Done  85 tasks       | elapsed:  1.6min\n",
      "[Parallel(n_jobs=1)]: Done  86 tasks       | elapsed:  1.6min\n"
     ]
    },
    {
     "name": "stdout",
     "output_type": "stream",
     "text": [
      "\n",
      "[CV] max_features=0.325, min_samples_split=2, min_samples_leaf=10 ....\n",
      "[CV]  max_features=0.325, min_samples_split=2, min_samples_leaf=10, score=-473.464689 -   1.4s\n",
      "[CV] max_features=0.325, min_samples_split=3, min_samples_leaf=10 ....\n",
      "[CV]  max_features=0.325, min_samples_split=3, min_samples_leaf=10, score=-789.581873 -   1.4s"
     ]
    },
    {
     "name": "stderr",
     "output_type": "stream",
     "text": [
      "[Parallel(n_jobs=1)]: Done  87 tasks       | elapsed:  1.6min\n",
      "[Parallel(n_jobs=1)]: Done  88 tasks       | elapsed:  1.6min\n"
     ]
    },
    {
     "name": "stdout",
     "output_type": "stream",
     "text": [
      "\n",
      "[CV] max_features=0.325, min_samples_split=3, min_samples_leaf=10 ....\n",
      "[CV]  max_features=0.325, min_samples_split=3, min_samples_leaf=10, score=-849.330227 -   1.4s\n",
      "[CV] max_features=0.325, min_samples_split=3, min_samples_leaf=10 ....\n",
      "[CV]  max_features=0.325, min_samples_split=3, min_samples_leaf=10, score=-487.180612 -   1.6s"
     ]
    },
    {
     "name": "stderr",
     "output_type": "stream",
     "text": [
      "[Parallel(n_jobs=1)]: Done  89 tasks       | elapsed:  1.7min\n",
      "[Parallel(n_jobs=1)]: Done  90 tasks       | elapsed:  1.7min\n"
     ]
    },
    {
     "name": "stdout",
     "output_type": "stream",
     "text": [
      "\n",
      "[CV] max_features=0.325, min_samples_split=5, min_samples_leaf=10 ....\n",
      "[CV]  max_features=0.325, min_samples_split=5, min_samples_leaf=10, score=-815.457850 -   1.7s\n",
      "[CV] max_features=0.325, min_samples_split=5, min_samples_leaf=10 ....\n",
      "[CV]  max_features=0.325, min_samples_split=5, min_samples_leaf=10, score=-784.950742 -   1.5s"
     ]
    },
    {
     "name": "stderr",
     "output_type": "stream",
     "text": [
      "[Parallel(n_jobs=1)]: Done  91 tasks       | elapsed:  1.7min\n",
      "[Parallel(n_jobs=1)]: Done  92 tasks       | elapsed:  1.7min\n"
     ]
    },
    {
     "name": "stdout",
     "output_type": "stream",
     "text": [
      "\n",
      "[CV] max_features=0.325, min_samples_split=5, min_samples_leaf=10 ....\n",
      "[CV]  max_features=0.325, min_samples_split=5, min_samples_leaf=10, score=-490.974842 -   1.4s\n",
      "[CV] max_features=0.325, min_samples_split=10, min_samples_leaf=10 ...\n",
      "[CV]  max_features=0.325, min_samples_split=10, min_samples_leaf=10, score=-767.723919 -   1.7s"
     ]
    },
    {
     "name": "stderr",
     "output_type": "stream",
     "text": [
      "[Parallel(n_jobs=1)]: Done  93 tasks       | elapsed:  1.8min\n",
      "[Parallel(n_jobs=1)]: Done  94 tasks       | elapsed:  1.8min\n"
     ]
    },
    {
     "name": "stdout",
     "output_type": "stream",
     "text": [
      "\n",
      "[CV] max_features=0.325, min_samples_split=10, min_samples_leaf=10 ...\n",
      "[CV]  max_features=0.325, min_samples_split=10, min_samples_leaf=10, score=-828.584696 -   1.6s\n",
      "[CV] max_features=0.325, min_samples_split=10, min_samples_leaf=10 ...\n",
      "[CV]  max_features=0.325, min_samples_split=10, min_samples_leaf=10, score=-483.000870 -   1.4s"
     ]
    },
    {
     "name": "stderr",
     "output_type": "stream",
     "text": [
      "[Parallel(n_jobs=1)]: Done  95 tasks       | elapsed:  1.8min\n",
      "[Parallel(n_jobs=1)]: Done  96 tasks       | elapsed:  1.8min\n"
     ]
    },
    {
     "name": "stdout",
     "output_type": "stream",
     "text": [
      "\n",
      "[CV] max_features=0.55, min_samples_split=2, min_samples_leaf=2 ......\n",
      "[CV]  max_features=0.55, min_samples_split=2, min_samples_leaf=2, score=-662.527025 -   3.2s\n",
      "[CV] max_features=0.55, min_samples_split=2, min_samples_leaf=2 ......\n",
      "[CV]  max_features=0.55, min_samples_split=2, min_samples_leaf=2, score=-788.974967 -   3.1s"
     ]
    },
    {
     "name": "stderr",
     "output_type": "stream",
     "text": [
      "[Parallel(n_jobs=1)]: Done  97 tasks       | elapsed:  1.9min\n",
      "[Parallel(n_jobs=1)]: Done  98 tasks       | elapsed:  1.9min\n"
     ]
    },
    {
     "name": "stdout",
     "output_type": "stream",
     "text": [
      "\n",
      "[CV] max_features=0.55, min_samples_split=2, min_samples_leaf=2 ......\n",
      "[CV]  max_features=0.55, min_samples_split=2, min_samples_leaf=2, score=-496.828991 -   3.1s\n",
      "[CV] max_features=0.55, min_samples_split=3, min_samples_leaf=2 ......\n",
      "[CV]  max_features=0.55, min_samples_split=3, min_samples_leaf=2, score=-700.396507 -   3.1s"
     ]
    },
    {
     "name": "stderr",
     "output_type": "stream",
     "text": [
      "[Parallel(n_jobs=1)]: Done  99 tasks       | elapsed:  2.0min\n",
      "[Parallel(n_jobs=1)]: Done 100 tasks       | elapsed:  2.0min\n"
     ]
    },
    {
     "name": "stdout",
     "output_type": "stream",
     "text": [
      "\n",
      "[CV] max_features=0.55, min_samples_split=3, min_samples_leaf=2 ......\n",
      "[CV]  max_features=0.55, min_samples_split=3, min_samples_leaf=2, score=-744.006467 -   3.0s\n",
      "[CV] max_features=0.55, min_samples_split=3, min_samples_leaf=2 ......\n",
      "[CV]  max_features=0.55, min_samples_split=3, min_samples_leaf=2, score=-455.181594 -   3.0s"
     ]
    },
    {
     "name": "stderr",
     "output_type": "stream",
     "text": [
      "[Parallel(n_jobs=1)]: Done 101 tasks       | elapsed:  2.1min\n",
      "[Parallel(n_jobs=1)]: Done 102 tasks       | elapsed:  2.1min\n"
     ]
    },
    {
     "name": "stdout",
     "output_type": "stream",
     "text": [
      "\n",
      "[CV] max_features=0.55, min_samples_split=5, min_samples_leaf=2 ......\n",
      "[CV]  max_features=0.55, min_samples_split=5, min_samples_leaf=2, score=-653.778540 -   3.3s\n",
      "[CV] max_features=0.55, min_samples_split=5, min_samples_leaf=2 ......\n",
      "[CV]  max_features=0.55, min_samples_split=5, min_samples_leaf=2, score=-776.803667 -   2.4s"
     ]
    },
    {
     "name": "stderr",
     "output_type": "stream",
     "text": [
      "[Parallel(n_jobs=1)]: Done 103 tasks       | elapsed:  2.2min\n",
      "[Parallel(n_jobs=1)]: Done 104 tasks       | elapsed:  2.2min\n"
     ]
    },
    {
     "name": "stdout",
     "output_type": "stream",
     "text": [
      "\n",
      "[CV] max_features=0.55, min_samples_split=5, min_samples_leaf=2 ......\n",
      "[CV]  max_features=0.55, min_samples_split=5, min_samples_leaf=2, score=-483.829721 -   2.9s\n",
      "[CV] max_features=0.55, min_samples_split=10, min_samples_leaf=2 .....\n",
      "[CV]  max_features=0.55, min_samples_split=10, min_samples_leaf=2, score=-680.797110 -   2.9s"
     ]
    },
    {
     "name": "stderr",
     "output_type": "stream",
     "text": [
      "[Parallel(n_jobs=1)]: Done 105 tasks       | elapsed:  2.3min\n",
      "[Parallel(n_jobs=1)]: Done 106 tasks       | elapsed:  2.3min\n"
     ]
    },
    {
     "name": "stdout",
     "output_type": "stream",
     "text": [
      "\n",
      "[CV] max_features=0.55, min_samples_split=10, min_samples_leaf=2 .....\n",
      "[CV]  max_features=0.55, min_samples_split=10, min_samples_leaf=2, score=-762.343878 -   2.8s\n",
      "[CV] max_features=0.55, min_samples_split=10, min_samples_leaf=2 .....\n",
      "[CV]  max_features=0.55, min_samples_split=10, min_samples_leaf=2, score=-483.498198 -   2.7s"
     ]
    },
    {
     "name": "stderr",
     "output_type": "stream",
     "text": [
      "[Parallel(n_jobs=1)]: Done 107 tasks       | elapsed:  2.4min\n",
      "[Parallel(n_jobs=1)]: Done 108 tasks       | elapsed:  2.4min\n"
     ]
    },
    {
     "name": "stdout",
     "output_type": "stream",
     "text": [
      "\n",
      "[CV] max_features=0.55, min_samples_split=2, min_samples_leaf=3 ......\n",
      "[CV]  max_features=0.55, min_samples_split=2, min_samples_leaf=3, score=-676.813054 -   2.3s\n",
      "[CV] max_features=0.55, min_samples_split=2, min_samples_leaf=3 ......\n",
      "[CV]  max_features=0.55, min_samples_split=2, min_samples_leaf=3, score=-767.062884 -   2.7s"
     ]
    },
    {
     "name": "stderr",
     "output_type": "stream",
     "text": [
      "[Parallel(n_jobs=1)]: Done 109 tasks       | elapsed:  2.5min\n",
      "[Parallel(n_jobs=1)]: Done 110 tasks       | elapsed:  2.5min\n"
     ]
    },
    {
     "name": "stdout",
     "output_type": "stream",
     "text": [
      "\n",
      "[CV] max_features=0.55, min_samples_split=2, min_samples_leaf=3 ......\n",
      "[CV]  max_features=0.55, min_samples_split=2, min_samples_leaf=3, score=-489.086474 -   2.8s\n",
      "[CV] max_features=0.55, min_samples_split=3, min_samples_leaf=3 ......\n",
      "[CV]  max_features=0.55, min_samples_split=3, min_samples_leaf=3, score=-701.768573 -   2.6s"
     ]
    },
    {
     "name": "stderr",
     "output_type": "stream",
     "text": [
      "[Parallel(n_jobs=1)]: Done 111 tasks       | elapsed:  2.6min\n",
      "[Parallel(n_jobs=1)]: Done 112 tasks       | elapsed:  2.6min\n"
     ]
    },
    {
     "name": "stdout",
     "output_type": "stream",
     "text": [
      "\n",
      "[CV] max_features=0.55, min_samples_split=3, min_samples_leaf=3 ......\n",
      "[CV]  max_features=0.55, min_samples_split=3, min_samples_leaf=3, score=-753.069592 -   2.2s\n",
      "[CV] max_features=0.55, min_samples_split=3, min_samples_leaf=3 ......\n",
      "[CV]  max_features=0.55, min_samples_split=3, min_samples_leaf=3, score=-487.847270 -   2.2s"
     ]
    },
    {
     "name": "stderr",
     "output_type": "stream",
     "text": [
      "[Parallel(n_jobs=1)]: Done 113 tasks       | elapsed:  2.6min\n",
      "[Parallel(n_jobs=1)]: Done 114 tasks       | elapsed:  2.7min\n"
     ]
    },
    {
     "name": "stdout",
     "output_type": "stream",
     "text": [
      "\n",
      "[CV] max_features=0.55, min_samples_split=5, min_samples_leaf=3 ......\n",
      "[CV]  max_features=0.55, min_samples_split=5, min_samples_leaf=3, score=-698.886709 -   2.4s\n",
      "[CV] max_features=0.55, min_samples_split=5, min_samples_leaf=3 ......\n",
      "[CV]  max_features=0.55, min_samples_split=5, min_samples_leaf=3, score=-760.090329 -   2.4s"
     ]
    },
    {
     "name": "stderr",
     "output_type": "stream",
     "text": [
      "[Parallel(n_jobs=1)]: Done 115 tasks       | elapsed:  2.7min\n",
      "[Parallel(n_jobs=1)]: Done 116 tasks       | elapsed:  2.8min\n"
     ]
    },
    {
     "name": "stdout",
     "output_type": "stream",
     "text": [
      "\n",
      "[CV] max_features=0.55, min_samples_split=5, min_samples_leaf=3 ......\n",
      "[CV]  max_features=0.55, min_samples_split=5, min_samples_leaf=3, score=-473.147274 -   2.4s\n",
      "[CV] max_features=0.55, min_samples_split=10, min_samples_leaf=3 .....\n",
      "[CV]  max_features=0.55, min_samples_split=10, min_samples_leaf=3, score=-713.399304 -   2.2s"
     ]
    },
    {
     "name": "stderr",
     "output_type": "stream",
     "text": [
      "[Parallel(n_jobs=1)]: Done 117 tasks       | elapsed:  2.8min\n",
      "[Parallel(n_jobs=1)]: Done 118 tasks       | elapsed:  2.8min\n"
     ]
    },
    {
     "name": "stdout",
     "output_type": "stream",
     "text": [
      "\n",
      "[CV] max_features=0.55, min_samples_split=10, min_samples_leaf=3 .....\n",
      "[CV]  max_features=0.55, min_samples_split=10, min_samples_leaf=3, score=-787.193371 -   2.2s\n",
      "[CV] max_features=0.55, min_samples_split=10, min_samples_leaf=3 .....\n",
      "[CV]  max_features=0.55, min_samples_split=10, min_samples_leaf=3, score=-471.414050 -   2.2s"
     ]
    },
    {
     "name": "stderr",
     "output_type": "stream",
     "text": [
      "[Parallel(n_jobs=1)]: Done 119 tasks       | elapsed:  2.9min\n",
      "[Parallel(n_jobs=1)]: Done 120 tasks       | elapsed:  2.9min\n"
     ]
    },
    {
     "name": "stdout",
     "output_type": "stream",
     "text": [
      "\n",
      "[CV] max_features=0.55, min_samples_split=2, min_samples_leaf=5 ......\n",
      "[CV]  max_features=0.55, min_samples_split=2, min_samples_leaf=5, score=-713.429262 -   2.4s\n",
      "[CV] max_features=0.55, min_samples_split=2, min_samples_leaf=5 ......\n",
      "[CV]  max_features=0.55, min_samples_split=2, min_samples_leaf=5, score=-755.191721 -   2.5s"
     ]
    },
    {
     "name": "stderr",
     "output_type": "stream",
     "text": [
      "[Parallel(n_jobs=1)]: Done 121 tasks       | elapsed:  3.0min\n",
      "[Parallel(n_jobs=1)]: Done 122 tasks       | elapsed:  3.0min\n"
     ]
    },
    {
     "name": "stdout",
     "output_type": "stream",
     "text": [
      "\n",
      "[CV] max_features=0.55, min_samples_split=2, min_samples_leaf=5 ......\n",
      "[CV]  max_features=0.55, min_samples_split=2, min_samples_leaf=5, score=-471.529064 -   2.5s\n",
      "[CV] max_features=0.55, min_samples_split=3, min_samples_leaf=5 ......\n",
      "[CV]  max_features=0.55, min_samples_split=3, min_samples_leaf=5, score=-724.915249 -   2.6s"
     ]
    },
    {
     "name": "stderr",
     "output_type": "stream",
     "text": [
      "[Parallel(n_jobs=1)]: Done 123 tasks       | elapsed:  3.0min\n",
      "[Parallel(n_jobs=1)]: Done 124 tasks       | elapsed:  3.1min\n"
     ]
    },
    {
     "name": "stdout",
     "output_type": "stream",
     "text": [
      "\n",
      "[CV] max_features=0.55, min_samples_split=3, min_samples_leaf=5 ......\n",
      "[CV]  max_features=0.55, min_samples_split=3, min_samples_leaf=5, score=-748.839809 -   2.7s\n",
      "[CV] max_features=0.55, min_samples_split=3, min_samples_leaf=5 ......\n",
      "[CV]  max_features=0.55, min_samples_split=3, min_samples_leaf=5, score=-481.237223 -   2.5s"
     ]
    },
    {
     "name": "stderr",
     "output_type": "stream",
     "text": [
      "[Parallel(n_jobs=1)]: Done 125 tasks       | elapsed:  3.1min\n",
      "[Parallel(n_jobs=1)]: Done 126 tasks       | elapsed:  3.2min\n"
     ]
    },
    {
     "name": "stdout",
     "output_type": "stream",
     "text": [
      "\n",
      "[CV] max_features=0.55, min_samples_split=5, min_samples_leaf=5 ......\n",
      "[CV]  max_features=0.55, min_samples_split=5, min_samples_leaf=5, score=-688.479936 -   2.3s\n",
      "[CV] max_features=0.55, min_samples_split=5, min_samples_leaf=5 ......\n",
      "[CV]  max_features=0.55, min_samples_split=5, min_samples_leaf=5, score=-765.125439 -   2.2s"
     ]
    },
    {
     "name": "stderr",
     "output_type": "stream",
     "text": [
      "[Parallel(n_jobs=1)]: Done 127 tasks       | elapsed:  3.2min\n",
      "[Parallel(n_jobs=1)]: Done 128 tasks       | elapsed:  3.2min\n"
     ]
    },
    {
     "name": "stdout",
     "output_type": "stream",
     "text": [
      "\n",
      "[CV] max_features=0.55, min_samples_split=5, min_samples_leaf=5 ......\n",
      "[CV]  max_features=0.55, min_samples_split=5, min_samples_leaf=5, score=-481.710488 -   2.3s\n",
      "[CV] max_features=0.55, min_samples_split=10, min_samples_leaf=5 .....\n",
      "[CV]  max_features=0.55, min_samples_split=10, min_samples_leaf=5, score=-705.126787 -   2.1s"
     ]
    },
    {
     "name": "stderr",
     "output_type": "stream",
     "text": [
      "[Parallel(n_jobs=1)]: Done 129 tasks       | elapsed:  3.3min\n",
      "[Parallel(n_jobs=1)]: Done 130 tasks       | elapsed:  3.3min\n"
     ]
    },
    {
     "name": "stdout",
     "output_type": "stream",
     "text": [
      "\n",
      "[CV] max_features=0.55, min_samples_split=10, min_samples_leaf=5 .....\n",
      "[CV]  max_features=0.55, min_samples_split=10, min_samples_leaf=5, score=-789.662878 -   2.3s\n",
      "[CV] max_features=0.55, min_samples_split=10, min_samples_leaf=5 .....\n",
      "[CV]  max_features=0.55, min_samples_split=10, min_samples_leaf=5, score=-455.450630 -   2.1s"
     ]
    },
    {
     "name": "stderr",
     "output_type": "stream",
     "text": [
      "[Parallel(n_jobs=1)]: Done 131 tasks       | elapsed:  3.4min\n",
      "[Parallel(n_jobs=1)]: Done 132 tasks       | elapsed:  3.4min\n"
     ]
    },
    {
     "name": "stdout",
     "output_type": "stream",
     "text": [
      "\n",
      "[CV] max_features=0.55, min_samples_split=2, min_samples_leaf=10 .....\n",
      "[CV]  max_features=0.55, min_samples_split=2, min_samples_leaf=10, score=-778.210274 -   2.0s\n",
      "[CV] max_features=0.55, min_samples_split=2, min_samples_leaf=10 .....\n",
      "[CV]  max_features=0.55, min_samples_split=2, min_samples_leaf=10, score=-783.109516 -   1.8s"
     ]
    },
    {
     "name": "stderr",
     "output_type": "stream",
     "text": [
      "[Parallel(n_jobs=1)]: Done 133 tasks       | elapsed:  3.4min\n",
      "[Parallel(n_jobs=1)]: Done 134 tasks       | elapsed:  3.5min\n"
     ]
    },
    {
     "name": "stdout",
     "output_type": "stream",
     "text": [
      "\n",
      "[CV] max_features=0.55, min_samples_split=2, min_samples_leaf=10 .....\n",
      "[CV]  max_features=0.55, min_samples_split=2, min_samples_leaf=10, score=-471.136429 -   1.9s\n",
      "[CV] max_features=0.55, min_samples_split=3, min_samples_leaf=10 .....\n",
      "[CV]  max_features=0.55, min_samples_split=3, min_samples_leaf=10, score=-745.863091 -   1.9s"
     ]
    },
    {
     "name": "stderr",
     "output_type": "stream",
     "text": [
      "[Parallel(n_jobs=1)]: Done 135 tasks       | elapsed:  3.5min\n",
      "[Parallel(n_jobs=1)]: Done 136 tasks       | elapsed:  3.5min\n"
     ]
    },
    {
     "name": "stdout",
     "output_type": "stream",
     "text": [
      "\n",
      "[CV] max_features=0.55, min_samples_split=3, min_samples_leaf=10 .....\n",
      "[CV]  max_features=0.55, min_samples_split=3, min_samples_leaf=10, score=-799.269869 -   2.2s\n",
      "[CV] max_features=0.55, min_samples_split=3, min_samples_leaf=10 .....\n",
      "[CV]  max_features=0.55, min_samples_split=3, min_samples_leaf=10, score=-479.137180 -   2.5s"
     ]
    },
    {
     "name": "stderr",
     "output_type": "stream",
     "text": [
      "[Parallel(n_jobs=1)]: Done 137 tasks       | elapsed:  3.6min\n",
      "[Parallel(n_jobs=1)]: Done 138 tasks       | elapsed:  3.6min\n"
     ]
    },
    {
     "name": "stdout",
     "output_type": "stream",
     "text": [
      "\n",
      "[CV] max_features=0.55, min_samples_split=5, min_samples_leaf=10 .....\n",
      "[CV]  max_features=0.55, min_samples_split=5, min_samples_leaf=10, score=-788.011442 -   2.3s\n",
      "[CV] max_features=0.55, min_samples_split=5, min_samples_leaf=10 .....\n",
      "[CV]  max_features=0.55, min_samples_split=5, min_samples_leaf=10, score=-809.665150 -   2.2s"
     ]
    },
    {
     "name": "stderr",
     "output_type": "stream",
     "text": [
      "[Parallel(n_jobs=1)]: Done 139 tasks       | elapsed:  3.6min\n",
      "[Parallel(n_jobs=1)]: Done 140 tasks       | elapsed:  3.7min\n"
     ]
    },
    {
     "name": "stdout",
     "output_type": "stream",
     "text": [
      "\n",
      "[CV] max_features=0.55, min_samples_split=5, min_samples_leaf=10 .....\n",
      "[CV]  max_features=0.55, min_samples_split=5, min_samples_leaf=10, score=-466.367868 -   2.5s\n",
      "[CV] max_features=0.55, min_samples_split=10, min_samples_leaf=10 ....\n",
      "[CV]  max_features=0.55, min_samples_split=10, min_samples_leaf=10, score=-800.391367 -   2.7s"
     ]
    },
    {
     "name": "stderr",
     "output_type": "stream",
     "text": [
      "[Parallel(n_jobs=1)]: Done 141 tasks       | elapsed:  3.7min\n",
      "[Parallel(n_jobs=1)]: Done 142 tasks       | elapsed:  3.8min\n"
     ]
    },
    {
     "name": "stdout",
     "output_type": "stream",
     "text": [
      "\n",
      "[CV] max_features=0.55, min_samples_split=10, min_samples_leaf=10 ....\n",
      "[CV]  max_features=0.55, min_samples_split=10, min_samples_leaf=10, score=-783.379354 -   2.4s\n",
      "[CV] max_features=0.55, min_samples_split=10, min_samples_leaf=10 ....\n",
      "[CV]  max_features=0.55, min_samples_split=10, min_samples_leaf=10, score=-481.837685 -   2.3s"
     ]
    },
    {
     "name": "stderr",
     "output_type": "stream",
     "text": [
      "[Parallel(n_jobs=1)]: Done 143 tasks       | elapsed:  3.8min\n",
      "[Parallel(n_jobs=1)]: Done 144 tasks       | elapsed:  3.8min\n"
     ]
    },
    {
     "name": "stdout",
     "output_type": "stream",
     "text": [
      "\n",
      "[CV] max_features=0.775, min_samples_split=2, min_samples_leaf=2 .....\n",
      "[CV]  max_features=0.775, min_samples_split=2, min_samples_leaf=2, score=-735.951856 -   3.6s\n",
      "[CV] max_features=0.775, min_samples_split=2, min_samples_leaf=2 .....\n",
      "[CV]  max_features=0.775, min_samples_split=2, min_samples_leaf=2, score=-778.833459 -   3.4s"
     ]
    },
    {
     "name": "stderr",
     "output_type": "stream",
     "text": [
      "[Parallel(n_jobs=1)]: Done 145 tasks       | elapsed:  3.9min\n",
      "[Parallel(n_jobs=1)]: Done 146 tasks       | elapsed:  4.0min\n"
     ]
    },
    {
     "name": "stdout",
     "output_type": "stream",
     "text": [
      "\n",
      "[CV] max_features=0.775, min_samples_split=2, min_samples_leaf=2 .....\n",
      "[CV]  max_features=0.775, min_samples_split=2, min_samples_leaf=2, score=-453.969565 -   4.2s\n",
      "[CV] max_features=0.775, min_samples_split=3, min_samples_leaf=2 .....\n",
      "[CV]  max_features=0.775, min_samples_split=3, min_samples_leaf=2, score=-737.455647 -   3.7s"
     ]
    },
    {
     "name": "stderr",
     "output_type": "stream",
     "text": [
      "[Parallel(n_jobs=1)]: Done 147 tasks       | elapsed:  4.0min\n",
      "[Parallel(n_jobs=1)]: Done 148 tasks       | elapsed:  4.1min\n"
     ]
    },
    {
     "name": "stdout",
     "output_type": "stream",
     "text": [
      "\n",
      "[CV] max_features=0.775, min_samples_split=3, min_samples_leaf=2 .....\n",
      "[CV]  max_features=0.775, min_samples_split=3, min_samples_leaf=2, score=-777.930358 -   3.5s\n",
      "[CV] max_features=0.775, min_samples_split=3, min_samples_leaf=2 .....\n",
      "[CV]  max_features=0.775, min_samples_split=3, min_samples_leaf=2, score=-470.289238 -   4.1s"
     ]
    },
    {
     "name": "stderr",
     "output_type": "stream",
     "text": [
      "[Parallel(n_jobs=1)]: Done 149 tasks       | elapsed:  4.1min\n",
      "[Parallel(n_jobs=1)]: Done 150 tasks       | elapsed:  4.2min\n"
     ]
    },
    {
     "name": "stdout",
     "output_type": "stream",
     "text": [
      "\n",
      "[CV] max_features=0.775, min_samples_split=5, min_samples_leaf=2 .....\n",
      "[CV]  max_features=0.775, min_samples_split=5, min_samples_leaf=2, score=-706.738552 -   3.9s\n",
      "[CV] max_features=0.775, min_samples_split=5, min_samples_leaf=2 .....\n",
      "[CV]  max_features=0.775, min_samples_split=5, min_samples_leaf=2, score=-771.115126 -   3.9s"
     ]
    },
    {
     "name": "stderr",
     "output_type": "stream",
     "text": [
      "[Parallel(n_jobs=1)]: Done 151 tasks       | elapsed:  4.3min\n",
      "[Parallel(n_jobs=1)]: Done 152 tasks       | elapsed:  4.3min\n"
     ]
    },
    {
     "name": "stdout",
     "output_type": "stream",
     "text": [
      "\n",
      "[CV] max_features=0.775, min_samples_split=5, min_samples_leaf=2 .....\n",
      "[CV]  max_features=0.775, min_samples_split=5, min_samples_leaf=2, score=-479.278660 -   3.8s\n",
      "[CV] max_features=0.775, min_samples_split=10, min_samples_leaf=2 ....\n",
      "[CV]  max_features=0.775, min_samples_split=10, min_samples_leaf=2, score=-710.561892 -   4.2s"
     ]
    },
    {
     "name": "stderr",
     "output_type": "stream",
     "text": [
      "[Parallel(n_jobs=1)]: Done 153 tasks       | elapsed:  4.4min\n",
      "[Parallel(n_jobs=1)]: Done 154 tasks       | elapsed:  4.5min\n"
     ]
    },
    {
     "name": "stdout",
     "output_type": "stream",
     "text": [
      "\n",
      "[CV] max_features=0.775, min_samples_split=10, min_samples_leaf=2 ....\n",
      "[CV]  max_features=0.775, min_samples_split=10, min_samples_leaf=2, score=-766.541319 -   4.8s\n",
      "[CV] max_features=0.775, min_samples_split=10, min_samples_leaf=2 ....\n",
      "[CV]  max_features=0.775, min_samples_split=10, min_samples_leaf=2, score=-497.885822 -   4.5s"
     ]
    },
    {
     "name": "stderr",
     "output_type": "stream",
     "text": [
      "[Parallel(n_jobs=1)]: Done 155 tasks       | elapsed:  4.6min\n",
      "[Parallel(n_jobs=1)]: Done 156 tasks       | elapsed:  4.6min\n"
     ]
    },
    {
     "name": "stdout",
     "output_type": "stream",
     "text": [
      "\n",
      "[CV] max_features=0.775, min_samples_split=2, min_samples_leaf=3 .....\n",
      "[CV]  max_features=0.775, min_samples_split=2, min_samples_leaf=3, score=-750.439216 -   4.1s\n",
      "[CV] max_features=0.775, min_samples_split=2, min_samples_leaf=3 .....\n",
      "[CV]  max_features=0.775, min_samples_split=2, min_samples_leaf=3, score=-762.355798 -   3.5s"
     ]
    },
    {
     "name": "stderr",
     "output_type": "stream",
     "text": [
      "[Parallel(n_jobs=1)]: Done 157 tasks       | elapsed:  4.7min\n",
      "[Parallel(n_jobs=1)]: Done 158 tasks       | elapsed:  4.8min\n"
     ]
    },
    {
     "name": "stdout",
     "output_type": "stream",
     "text": [
      "\n",
      "[CV] max_features=0.775, min_samples_split=2, min_samples_leaf=3 .....\n",
      "[CV]  max_features=0.775, min_samples_split=2, min_samples_leaf=3, score=-459.925561 -   4.5s\n",
      "[CV] max_features=0.775, min_samples_split=3, min_samples_leaf=3 .....\n",
      "[CV]  max_features=0.775, min_samples_split=3, min_samples_leaf=3, score=-698.344566 -   4.3s"
     ]
    },
    {
     "name": "stderr",
     "output_type": "stream",
     "text": [
      "[Parallel(n_jobs=1)]: Done 159 tasks       | elapsed:  4.8min\n",
      "[Parallel(n_jobs=1)]: Done 160 tasks       | elapsed:  4.9min\n"
     ]
    },
    {
     "name": "stdout",
     "output_type": "stream",
     "text": [
      "\n",
      "[CV] max_features=0.775, min_samples_split=3, min_samples_leaf=3 .....\n",
      "[CV]  max_features=0.775, min_samples_split=3, min_samples_leaf=3, score=-787.877027 -   3.4s\n",
      "[CV] max_features=0.775, min_samples_split=3, min_samples_leaf=3 .....\n",
      "[CV]  max_features=0.775, min_samples_split=3, min_samples_leaf=3, score=-474.767113 -   3.4s"
     ]
    },
    {
     "name": "stderr",
     "output_type": "stream",
     "text": [
      "[Parallel(n_jobs=1)]: Done 161 tasks       | elapsed:  5.0min\n",
      "[Parallel(n_jobs=1)]: Done 162 tasks       | elapsed:  5.0min\n"
     ]
    },
    {
     "name": "stdout",
     "output_type": "stream",
     "text": [
      "\n",
      "[CV] max_features=0.775, min_samples_split=5, min_samples_leaf=3 .....\n",
      "[CV]  max_features=0.775, min_samples_split=5, min_samples_leaf=3, score=-774.726218 -   4.2s\n",
      "[CV] max_features=0.775, min_samples_split=5, min_samples_leaf=3 .....\n",
      "[CV]  max_features=0.775, min_samples_split=5, min_samples_leaf=3, score=-741.534120 -   3.6s"
     ]
    },
    {
     "name": "stderr",
     "output_type": "stream",
     "text": [
      "[Parallel(n_jobs=1)]: Done 163 tasks       | elapsed:  5.1min\n",
      "[Parallel(n_jobs=1)]: Done 164 tasks       | elapsed:  5.2min\n"
     ]
    },
    {
     "name": "stdout",
     "output_type": "stream",
     "text": [
      "\n",
      "[CV] max_features=0.775, min_samples_split=5, min_samples_leaf=3 .....\n",
      "[CV]  max_features=0.775, min_samples_split=5, min_samples_leaf=3, score=-508.333001 -   4.1s\n",
      "[CV] max_features=0.775, min_samples_split=10, min_samples_leaf=3 ....\n",
      "[CV]  max_features=0.775, min_samples_split=10, min_samples_leaf=3, score=-717.661179 -   4.1s"
     ]
    },
    {
     "name": "stderr",
     "output_type": "stream",
     "text": [
      "[Parallel(n_jobs=1)]: Done 165 tasks       | elapsed:  5.2min\n",
      "[Parallel(n_jobs=1)]: Done 166 tasks       | elapsed:  5.3min\n"
     ]
    },
    {
     "name": "stdout",
     "output_type": "stream",
     "text": [
      "\n",
      "[CV] max_features=0.775, min_samples_split=10, min_samples_leaf=3 ....\n",
      "[CV]  max_features=0.775, min_samples_split=10, min_samples_leaf=3, score=-764.700220 -   4.0s\n",
      "[CV] max_features=0.775, min_samples_split=10, min_samples_leaf=3 ....\n",
      "[CV]  max_features=0.775, min_samples_split=10, min_samples_leaf=3, score=-468.233149 -   3.9s"
     ]
    },
    {
     "name": "stderr",
     "output_type": "stream",
     "text": [
      "[Parallel(n_jobs=1)]: Done 167 tasks       | elapsed:  5.4min\n",
      "[Parallel(n_jobs=1)]: Done 168 tasks       | elapsed:  5.4min\n"
     ]
    },
    {
     "name": "stdout",
     "output_type": "stream",
     "text": [
      "\n",
      "[CV] max_features=0.775, min_samples_split=2, min_samples_leaf=5 .....\n",
      "[CV]  max_features=0.775, min_samples_split=2, min_samples_leaf=5, score=-721.426011 -   3.9s\n",
      "[CV] max_features=0.775, min_samples_split=2, min_samples_leaf=5 .....\n",
      "[CV]  max_features=0.775, min_samples_split=2, min_samples_leaf=5, score=-744.141567 -   3.9s"
     ]
    },
    {
     "name": "stderr",
     "output_type": "stream",
     "text": [
      "[Parallel(n_jobs=1)]: Done 169 tasks       | elapsed:  5.5min\n",
      "[Parallel(n_jobs=1)]: Done 170 tasks       | elapsed:  5.6min\n"
     ]
    },
    {
     "name": "stdout",
     "output_type": "stream",
     "text": [
      "\n",
      "[CV] max_features=0.775, min_samples_split=2, min_samples_leaf=5 .....\n",
      "[CV]  max_features=0.775, min_samples_split=2, min_samples_leaf=5, score=-482.511322 -   3.3s\n",
      "[CV] max_features=0.775, min_samples_split=3, min_samples_leaf=5 .....\n",
      "[CV]  max_features=0.775, min_samples_split=3, min_samples_leaf=5, score=-758.299033 -   3.7s"
     ]
    },
    {
     "name": "stderr",
     "output_type": "stream",
     "text": [
      "[Parallel(n_jobs=1)]: Done 171 tasks       | elapsed:  5.6min\n",
      "[Parallel(n_jobs=1)]: Done 172 tasks       | elapsed:  5.7min\n"
     ]
    },
    {
     "name": "stdout",
     "output_type": "stream",
     "text": [
      "\n",
      "[CV] max_features=0.775, min_samples_split=3, min_samples_leaf=5 .....\n",
      "[CV]  max_features=0.775, min_samples_split=3, min_samples_leaf=5, score=-741.469328 -   4.4s\n",
      "[CV] max_features=0.775, min_samples_split=3, min_samples_leaf=5 .....\n",
      "[CV]  max_features=0.775, min_samples_split=3, min_samples_leaf=5, score=-431.269925 -   3.6s"
     ]
    },
    {
     "name": "stderr",
     "output_type": "stream",
     "text": [
      "[Parallel(n_jobs=1)]: Done 173 tasks       | elapsed:  5.7min\n",
      "[Parallel(n_jobs=1)]: Done 174 tasks       | elapsed:  5.8min\n"
     ]
    },
    {
     "name": "stdout",
     "output_type": "stream",
     "text": [
      "\n",
      "[CV] max_features=0.775, min_samples_split=5, min_samples_leaf=5 .....\n",
      "[CV]  max_features=0.775, min_samples_split=5, min_samples_leaf=5, score=-739.085674 -   3.3s\n",
      "[CV] max_features=0.775, min_samples_split=5, min_samples_leaf=5 .....\n",
      "[CV]  max_features=0.775, min_samples_split=5, min_samples_leaf=5, score=-730.070196 -   3.1s"
     ]
    },
    {
     "name": "stderr",
     "output_type": "stream",
     "text": [
      "[Parallel(n_jobs=1)]: Done 175 tasks       | elapsed:  5.9min\n",
      "[Parallel(n_jobs=1)]: Done 176 tasks       | elapsed:  5.9min\n"
     ]
    },
    {
     "name": "stdout",
     "output_type": "stream",
     "text": [
      "\n",
      "[CV] max_features=0.775, min_samples_split=5, min_samples_leaf=5 .....\n",
      "[CV]  max_features=0.775, min_samples_split=5, min_samples_leaf=5, score=-488.838310 -   3.3s\n",
      "[CV] max_features=0.775, min_samples_split=10, min_samples_leaf=5 ....\n",
      "[CV]  max_features=0.775, min_samples_split=10, min_samples_leaf=5, score=-744.187501 -   3.7s"
     ]
    },
    {
     "name": "stderr",
     "output_type": "stream",
     "text": [
      "[Parallel(n_jobs=1)]: Done 177 tasks       | elapsed:  6.0min\n",
      "[Parallel(n_jobs=1)]: Done 178 tasks       | elapsed:  6.0min\n"
     ]
    },
    {
     "name": "stdout",
     "output_type": "stream",
     "text": [
      "\n",
      "[CV] max_features=0.775, min_samples_split=10, min_samples_leaf=5 ....\n",
      "[CV]  max_features=0.775, min_samples_split=10, min_samples_leaf=5, score=-745.429587 -   3.8s\n",
      "[CV] max_features=0.775, min_samples_split=10, min_samples_leaf=5 ....\n",
      "[CV]  max_features=0.775, min_samples_split=10, min_samples_leaf=5, score=-485.128788 -   3.4s"
     ]
    },
    {
     "name": "stderr",
     "output_type": "stream",
     "text": [
      "[Parallel(n_jobs=1)]: Done 179 tasks       | elapsed:  6.1min\n",
      "[Parallel(n_jobs=1)]: Done 180 tasks       | elapsed:  6.1min\n"
     ]
    },
    {
     "name": "stdout",
     "output_type": "stream",
     "text": [
      "\n",
      "[CV] max_features=0.775, min_samples_split=2, min_samples_leaf=10 ....\n",
      "[CV]  max_features=0.775, min_samples_split=2, min_samples_leaf=10, score=-806.659077 -   3.0s\n",
      "[CV] max_features=0.775, min_samples_split=2, min_samples_leaf=10 ....\n",
      "[CV]  max_features=0.775, min_samples_split=2, min_samples_leaf=10, score=-767.109614 -   2.9s"
     ]
    },
    {
     "name": "stderr",
     "output_type": "stream",
     "text": [
      "[Parallel(n_jobs=1)]: Done 181 tasks       | elapsed:  6.2min\n",
      "[Parallel(n_jobs=1)]: Done 182 tasks       | elapsed:  6.2min\n"
     ]
    },
    {
     "name": "stdout",
     "output_type": "stream",
     "text": [
      "\n",
      "[CV] max_features=0.775, min_samples_split=2, min_samples_leaf=10 ....\n",
      "[CV]  max_features=0.775, min_samples_split=2, min_samples_leaf=10, score=-461.004311 -   2.7s\n",
      "[CV] max_features=0.775, min_samples_split=3, min_samples_leaf=10 ....\n",
      "[CV]  max_features=0.775, min_samples_split=3, min_samples_leaf=10, score=-799.492833 -   2.9s"
     ]
    },
    {
     "name": "stderr",
     "output_type": "stream",
     "text": [
      "[Parallel(n_jobs=1)]: Done 183 tasks       | elapsed:  6.3min\n",
      "[Parallel(n_jobs=1)]: Done 184 tasks       | elapsed:  6.3min\n"
     ]
    },
    {
     "name": "stdout",
     "output_type": "stream",
     "text": [
      "\n",
      "[CV] max_features=0.775, min_samples_split=3, min_samples_leaf=10 ....\n",
      "[CV]  max_features=0.775, min_samples_split=3, min_samples_leaf=10, score=-788.330031 -   2.9s\n",
      "[CV] max_features=0.775, min_samples_split=3, min_samples_leaf=10 ....\n",
      "[CV]  max_features=0.775, min_samples_split=3, min_samples_leaf=10, score=-458.584279 -   3.0s"
     ]
    },
    {
     "name": "stderr",
     "output_type": "stream",
     "text": [
      "[Parallel(n_jobs=1)]: Done 185 tasks       | elapsed:  6.4min\n",
      "[Parallel(n_jobs=1)]: Done 186 tasks       | elapsed:  6.4min\n"
     ]
    },
    {
     "name": "stdout",
     "output_type": "stream",
     "text": [
      "\n",
      "[CV] max_features=0.775, min_samples_split=5, min_samples_leaf=10 ....\n",
      "[CV]  max_features=0.775, min_samples_split=5, min_samples_leaf=10, score=-786.334168 -   2.6s\n",
      "[CV] max_features=0.775, min_samples_split=5, min_samples_leaf=10 ....\n",
      "[CV]  max_features=0.775, min_samples_split=5, min_samples_leaf=10, score=-774.666646 -   2.7s"
     ]
    },
    {
     "name": "stderr",
     "output_type": "stream",
     "text": [
      "[Parallel(n_jobs=1)]: Done 187 tasks       | elapsed:  6.5min\n",
      "[Parallel(n_jobs=1)]: Done 188 tasks       | elapsed:  6.5min\n"
     ]
    },
    {
     "name": "stdout",
     "output_type": "stream",
     "text": [
      "\n",
      "[CV] max_features=0.775, min_samples_split=5, min_samples_leaf=10 ....\n",
      "[CV]  max_features=0.775, min_samples_split=5, min_samples_leaf=10, score=-459.642851 -   3.1s\n",
      "[CV] max_features=0.775, min_samples_split=10, min_samples_leaf=10 ...\n",
      "[CV]  max_features=0.775, min_samples_split=10, min_samples_leaf=10, score=-761.518685 -   3.0s"
     ]
    },
    {
     "name": "stderr",
     "output_type": "stream",
     "text": [
      "[Parallel(n_jobs=1)]: Done 189 tasks       | elapsed:  6.6min\n",
      "[Parallel(n_jobs=1)]: Done 190 tasks       | elapsed:  6.6min\n"
     ]
    },
    {
     "name": "stdout",
     "output_type": "stream",
     "text": [
      "\n",
      "[CV] max_features=0.775, min_samples_split=10, min_samples_leaf=10 ...\n",
      "[CV]  max_features=0.775, min_samples_split=10, min_samples_leaf=10, score=-760.643916 -   3.3s\n",
      "[CV] max_features=0.775, min_samples_split=10, min_samples_leaf=10 ...\n",
      "[CV]  max_features=0.775, min_samples_split=10, min_samples_leaf=10, score=-480.047276 -   3.5s"
     ]
    },
    {
     "name": "stderr",
     "output_type": "stream",
     "text": [
      "[Parallel(n_jobs=1)]: Done 191 tasks       | elapsed:  6.7min\n",
      "[Parallel(n_jobs=1)]: Done 192 tasks       | elapsed:  6.7min\n"
     ]
    },
    {
     "name": "stdout",
     "output_type": "stream",
     "text": [
      "\n",
      "[CV] max_features=1.0, min_samples_split=2, min_samples_leaf=2 .......\n",
      "[CV]  max_features=1.0, min_samples_split=2, min_samples_leaf=2, score=-715.710633 -   6.1s\n",
      "[CV] max_features=1.0, min_samples_split=2, min_samples_leaf=2 .......\n",
      "[CV]  max_features=1.0, min_samples_split=2, min_samples_leaf=2, score=-790.115172 -   6.4s"
     ]
    },
    {
     "name": "stderr",
     "output_type": "stream",
     "text": [
      "[Parallel(n_jobs=1)]: Done 193 tasks       | elapsed:  6.8min\n",
      "[Parallel(n_jobs=1)]: Done 194 tasks       | elapsed:  6.9min\n"
     ]
    },
    {
     "name": "stdout",
     "output_type": "stream",
     "text": [
      "\n",
      "[CV] max_features=1.0, min_samples_split=2, min_samples_leaf=2 .......\n",
      "[CV]  max_features=1.0, min_samples_split=2, min_samples_leaf=2, score=-473.890871 -   5.6s\n",
      "[CV] max_features=1.0, min_samples_split=3, min_samples_leaf=2 .......\n",
      "[CV]  max_features=1.0, min_samples_split=3, min_samples_leaf=2, score=-732.914957 -   4.7s"
     ]
    },
    {
     "name": "stderr",
     "output_type": "stream",
     "text": [
      "[Parallel(n_jobs=1)]: Done 195 tasks       | elapsed:  7.0min\n",
      "[Parallel(n_jobs=1)]: Done 196 tasks       | elapsed:  7.1min\n"
     ]
    },
    {
     "name": "stdout",
     "output_type": "stream",
     "text": [
      "\n",
      "[CV] max_features=1.0, min_samples_split=3, min_samples_leaf=2 .......\n",
      "[CV]  max_features=1.0, min_samples_split=3, min_samples_leaf=2, score=-785.457217 -   4.7s\n",
      "[CV] max_features=1.0, min_samples_split=3, min_samples_leaf=2 .......\n",
      "[CV]  max_features=1.0, min_samples_split=3, min_samples_leaf=2, score=-496.198704 -   6.0s"
     ]
    },
    {
     "name": "stderr",
     "output_type": "stream",
     "text": [
      "[Parallel(n_jobs=1)]: Done 197 tasks       | elapsed:  7.2min\n",
      "[Parallel(n_jobs=1)]: Done 198 tasks       | elapsed:  7.3min\n"
     ]
    },
    {
     "name": "stdout",
     "output_type": "stream",
     "text": [
      "\n",
      "[CV] max_features=1.0, min_samples_split=5, min_samples_leaf=2 .......\n",
      "[CV]  max_features=1.0, min_samples_split=5, min_samples_leaf=2, score=-679.582864 -   5.6s\n",
      "[CV] max_features=1.0, min_samples_split=5, min_samples_leaf=2 .......\n",
      "[CV]  max_features=1.0, min_samples_split=5, min_samples_leaf=2, score=-757.714056 -   5.2s"
     ]
    },
    {
     "name": "stderr",
     "output_type": "stream",
     "text": [
      "[Parallel(n_jobs=1)]: Done 199 tasks       | elapsed:  7.4min\n",
      "[Parallel(n_jobs=1)]: Done 200 tasks       | elapsed:  7.5min\n"
     ]
    },
    {
     "name": "stdout",
     "output_type": "stream",
     "text": [
      "\n",
      "[CV] max_features=1.0, min_samples_split=5, min_samples_leaf=2 .......\n",
      "[CV]  max_features=1.0, min_samples_split=5, min_samples_leaf=2, score=-466.814686 -   5.8s\n",
      "[CV] max_features=1.0, min_samples_split=10, min_samples_leaf=2 ......\n",
      "[CV]  max_features=1.0, min_samples_split=10, min_samples_leaf=2, score=-679.964969 -   4.5s"
     ]
    },
    {
     "name": "stderr",
     "output_type": "stream",
     "text": [
      "[Parallel(n_jobs=1)]: Done 201 tasks       | elapsed:  7.6min\n",
      "[Parallel(n_jobs=1)]: Done 202 tasks       | elapsed:  7.7min\n"
     ]
    },
    {
     "name": "stdout",
     "output_type": "stream",
     "text": [
      "\n",
      "[CV] max_features=1.0, min_samples_split=10, min_samples_leaf=2 ......\n",
      "[CV]  max_features=1.0, min_samples_split=10, min_samples_leaf=2, score=-786.376060 -   5.0s\n",
      "[CV] max_features=1.0, min_samples_split=10, min_samples_leaf=2 ......\n",
      "[CV]  max_features=1.0, min_samples_split=10, min_samples_leaf=2, score=-475.121705 -   5.5s"
     ]
    },
    {
     "name": "stderr",
     "output_type": "stream",
     "text": [
      "[Parallel(n_jobs=1)]: Done 203 tasks       | elapsed:  7.7min\n",
      "[Parallel(n_jobs=1)]: Done 204 tasks       | elapsed:  7.8min\n"
     ]
    },
    {
     "name": "stdout",
     "output_type": "stream",
     "text": [
      "\n",
      "[CV] max_features=1.0, min_samples_split=2, min_samples_leaf=3 .......\n",
      "[CV]  max_features=1.0, min_samples_split=2, min_samples_leaf=3, score=-704.587623 -   5.5s\n",
      "[CV] max_features=1.0, min_samples_split=2, min_samples_leaf=3 .......\n",
      "[CV]  max_features=1.0, min_samples_split=2, min_samples_leaf=3, score=-745.669353 -   5.2s"
     ]
    },
    {
     "name": "stderr",
     "output_type": "stream",
     "text": [
      "[Parallel(n_jobs=1)]: Done 205 tasks       | elapsed:  7.9min\n",
      "[Parallel(n_jobs=1)]: Done 206 tasks       | elapsed:  8.0min\n"
     ]
    },
    {
     "name": "stdout",
     "output_type": "stream",
     "text": [
      "\n",
      "[CV] max_features=1.0, min_samples_split=2, min_samples_leaf=3 .......\n",
      "[CV]  max_features=1.0, min_samples_split=2, min_samples_leaf=3, score=-485.886329 -   5.4s\n",
      "[CV] max_features=1.0, min_samples_split=3, min_samples_leaf=3 .......\n",
      "[CV]  max_features=1.0, min_samples_split=3, min_samples_leaf=3, score=-669.460766 -   6.3s"
     ]
    },
    {
     "name": "stderr",
     "output_type": "stream",
     "text": [
      "[Parallel(n_jobs=1)]: Done 207 tasks       | elapsed:  8.1min\n",
      "[Parallel(n_jobs=1)]: Done 208 tasks       | elapsed:  8.2min\n"
     ]
    },
    {
     "name": "stdout",
     "output_type": "stream",
     "text": [
      "\n",
      "[CV] max_features=1.0, min_samples_split=3, min_samples_leaf=3 .......\n",
      "[CV]  max_features=1.0, min_samples_split=3, min_samples_leaf=3, score=-747.303110 -   5.7s\n",
      "[CV] max_features=1.0, min_samples_split=3, min_samples_leaf=3 .......\n",
      "[CV]  max_features=1.0, min_samples_split=3, min_samples_leaf=3, score=-460.161018 -   5.3s"
     ]
    },
    {
     "name": "stderr",
     "output_type": "stream",
     "text": [
      "[Parallel(n_jobs=1)]: Done 209 tasks       | elapsed:  8.3min\n",
      "[Parallel(n_jobs=1)]: Done 210 tasks       | elapsed:  8.4min\n"
     ]
    },
    {
     "name": "stdout",
     "output_type": "stream",
     "text": [
      "\n",
      "[CV] max_features=1.0, min_samples_split=5, min_samples_leaf=3 .......\n",
      "[CV]  max_features=1.0, min_samples_split=5, min_samples_leaf=3, score=-735.228618 -   4.9s\n",
      "[CV] max_features=1.0, min_samples_split=5, min_samples_leaf=3 .......\n",
      "[CV]  max_features=1.0, min_samples_split=5, min_samples_leaf=3, score=-769.320972 -   5.2s"
     ]
    },
    {
     "name": "stderr",
     "output_type": "stream",
     "text": [
      "[Parallel(n_jobs=1)]: Done 211 tasks       | elapsed:  8.5min\n",
      "[Parallel(n_jobs=1)]: Done 212 tasks       | elapsed:  8.6min\n"
     ]
    },
    {
     "name": "stdout",
     "output_type": "stream",
     "text": [
      "\n",
      "[CV] max_features=1.0, min_samples_split=5, min_samples_leaf=3 .......\n",
      "[CV]  max_features=1.0, min_samples_split=5, min_samples_leaf=3, score=-467.996223 -   5.1s\n",
      "[CV] max_features=1.0, min_samples_split=10, min_samples_leaf=3 ......\n",
      "[CV]  max_features=1.0, min_samples_split=10, min_samples_leaf=3, score=-723.951397 -   4.8s"
     ]
    },
    {
     "name": "stderr",
     "output_type": "stream",
     "text": [
      "[Parallel(n_jobs=1)]: Done 213 tasks       | elapsed:  8.6min\n",
      "[Parallel(n_jobs=1)]: Done 214 tasks       | elapsed:  8.7min\n"
     ]
    },
    {
     "name": "stdout",
     "output_type": "stream",
     "text": [
      "\n",
      "[CV] max_features=1.0, min_samples_split=10, min_samples_leaf=3 ......\n",
      "[CV]  max_features=1.0, min_samples_split=10, min_samples_leaf=3, score=-760.071782 -   4.9s\n",
      "[CV] max_features=1.0, min_samples_split=10, min_samples_leaf=3 ......\n",
      "[CV]  max_features=1.0, min_samples_split=10, min_samples_leaf=3, score=-473.814396 -   5.1s"
     ]
    },
    {
     "name": "stderr",
     "output_type": "stream",
     "text": [
      "[Parallel(n_jobs=1)]: Done 215 tasks       | elapsed:  8.8min\n",
      "[Parallel(n_jobs=1)]: Done 216 tasks       | elapsed:  8.9min\n"
     ]
    },
    {
     "name": "stdout",
     "output_type": "stream",
     "text": [
      "\n",
      "[CV] max_features=1.0, min_samples_split=2, min_samples_leaf=5 .......\n",
      "[CV]  max_features=1.0, min_samples_split=2, min_samples_leaf=5, score=-790.878059 -   4.2s\n",
      "[CV] max_features=1.0, min_samples_split=2, min_samples_leaf=5 .......\n",
      "[CV]  max_features=1.0, min_samples_split=2, min_samples_leaf=5, score=-737.269714 -   4.6s"
     ]
    },
    {
     "name": "stderr",
     "output_type": "stream",
     "text": [
      "[Parallel(n_jobs=1)]: Done 217 tasks       | elapsed:  9.0min\n",
      "[Parallel(n_jobs=1)]: Done 218 tasks       | elapsed:  9.0min\n"
     ]
    },
    {
     "name": "stdout",
     "output_type": "stream",
     "text": [
      "\n",
      "[CV] max_features=1.0, min_samples_split=2, min_samples_leaf=5 .......\n",
      "[CV]  max_features=1.0, min_samples_split=2, min_samples_leaf=5, score=-467.698348 -   3.8s\n",
      "[CV] max_features=1.0, min_samples_split=3, min_samples_leaf=5 .......\n",
      "[CV]  max_features=1.0, min_samples_split=3, min_samples_leaf=5, score=-741.495410 -   3.9s"
     ]
    },
    {
     "name": "stderr",
     "output_type": "stream",
     "text": [
      "[Parallel(n_jobs=1)]: Done 219 tasks       | elapsed:  9.1min\n",
      "[Parallel(n_jobs=1)]: Done 220 tasks       | elapsed:  9.2min\n"
     ]
    },
    {
     "name": "stdout",
     "output_type": "stream",
     "text": [
      "\n",
      "[CV] max_features=1.0, min_samples_split=3, min_samples_leaf=5 .......\n",
      "[CV]  max_features=1.0, min_samples_split=3, min_samples_leaf=5, score=-749.405547 -   4.7s\n",
      "[CV] max_features=1.0, min_samples_split=3, min_samples_leaf=5 .......\n",
      "[CV]  max_features=1.0, min_samples_split=3, min_samples_leaf=5, score=-478.332659 -   4.6s"
     ]
    },
    {
     "name": "stderr",
     "output_type": "stream",
     "text": [
      "[Parallel(n_jobs=1)]: Done 221 tasks       | elapsed:  9.2min\n",
      "[Parallel(n_jobs=1)]: Done 222 tasks       | elapsed:  9.3min\n"
     ]
    },
    {
     "name": "stdout",
     "output_type": "stream",
     "text": [
      "\n",
      "[CV] max_features=1.0, min_samples_split=5, min_samples_leaf=5 .......\n",
      "[CV]  max_features=1.0, min_samples_split=5, min_samples_leaf=5, score=-767.347178 -   3.8s\n",
      "[CV] max_features=1.0, min_samples_split=5, min_samples_leaf=5 .......\n",
      "[CV]  max_features=1.0, min_samples_split=5, min_samples_leaf=5, score=-762.346218 -   4.2s"
     ]
    },
    {
     "name": "stderr",
     "output_type": "stream",
     "text": [
      "[Parallel(n_jobs=1)]: Done 223 tasks       | elapsed:  9.4min\n",
      "[Parallel(n_jobs=1)]: Done 224 tasks       | elapsed:  9.5min\n"
     ]
    },
    {
     "name": "stdout",
     "output_type": "stream",
     "text": [
      "\n",
      "[CV] max_features=1.0, min_samples_split=5, min_samples_leaf=5 .......\n",
      "[CV]  max_features=1.0, min_samples_split=5, min_samples_leaf=5, score=-464.954163 -   3.9s\n",
      "[CV] max_features=1.0, min_samples_split=10, min_samples_leaf=5 ......\n",
      "[CV]  max_features=1.0, min_samples_split=10, min_samples_leaf=5, score=-723.638163 -   4.5s"
     ]
    },
    {
     "name": "stderr",
     "output_type": "stream",
     "text": [
      "[Parallel(n_jobs=1)]: Done 225 tasks       | elapsed:  9.5min\n",
      "[Parallel(n_jobs=1)]: Done 226 tasks       | elapsed:  9.6min\n"
     ]
    },
    {
     "name": "stdout",
     "output_type": "stream",
     "text": [
      "\n",
      "[CV] max_features=1.0, min_samples_split=10, min_samples_leaf=5 ......\n",
      "[CV]  max_features=1.0, min_samples_split=10, min_samples_leaf=5, score=-774.119221 -   4.7s\n",
      "[CV] max_features=1.0, min_samples_split=10, min_samples_leaf=5 ......\n",
      "[CV]  max_features=1.0, min_samples_split=10, min_samples_leaf=5, score=-453.431975 -   4.2s"
     ]
    },
    {
     "name": "stderr",
     "output_type": "stream",
     "text": [
      "[Parallel(n_jobs=1)]: Done 227 tasks       | elapsed:  9.7min\n",
      "[Parallel(n_jobs=1)]: Done 228 tasks       | elapsed:  9.7min\n"
     ]
    },
    {
     "name": "stdout",
     "output_type": "stream",
     "text": [
      "\n",
      "[CV] max_features=1.0, min_samples_split=2, min_samples_leaf=10 ......\n",
      "[CV]  max_features=1.0, min_samples_split=2, min_samples_leaf=10, score=-784.292801 -   3.8s\n",
      "[CV] max_features=1.0, min_samples_split=2, min_samples_leaf=10 ......\n",
      "[CV]  max_features=1.0, min_samples_split=2, min_samples_leaf=10, score=-785.142767 -   4.5s"
     ]
    },
    {
     "name": "stderr",
     "output_type": "stream",
     "text": [
      "[Parallel(n_jobs=1)]: Done 229 tasks       | elapsed:  9.8min\n",
      "[Parallel(n_jobs=1)]: Done 230 tasks       | elapsed:  9.9min\n"
     ]
    },
    {
     "name": "stdout",
     "output_type": "stream",
     "text": [
      "\n",
      "[CV] max_features=1.0, min_samples_split=2, min_samples_leaf=10 ......\n",
      "[CV]  max_features=1.0, min_samples_split=2, min_samples_leaf=10, score=-482.441083 -   4.2s\n",
      "[CV] max_features=1.0, min_samples_split=3, min_samples_leaf=10 ......\n",
      "[CV]  max_features=1.0, min_samples_split=3, min_samples_leaf=10, score=-836.470767 -   3.6s"
     ]
    },
    {
     "name": "stderr",
     "output_type": "stream",
     "text": [
      "[Parallel(n_jobs=1)]: Done 231 tasks       | elapsed:  9.9min\n",
      "[Parallel(n_jobs=1)]: Done 232 tasks       | elapsed: 10.0min\n"
     ]
    },
    {
     "name": "stdout",
     "output_type": "stream",
     "text": [
      "\n",
      "[CV] max_features=1.0, min_samples_split=3, min_samples_leaf=10 ......\n",
      "[CV]  max_features=1.0, min_samples_split=3, min_samples_leaf=10, score=-765.015244 -   4.4s\n",
      "[CV] max_features=1.0, min_samples_split=3, min_samples_leaf=10 ......\n",
      "[CV]  max_features=1.0, min_samples_split=3, min_samples_leaf=10, score=-495.321678 -   4.2s"
     ]
    },
    {
     "name": "stderr",
     "output_type": "stream",
     "text": [
      "[Parallel(n_jobs=1)]: Done 233 tasks       | elapsed: 10.1min\n",
      "[Parallel(n_jobs=1)]: Done 234 tasks       | elapsed: 10.2min\n"
     ]
    },
    {
     "name": "stdout",
     "output_type": "stream",
     "text": [
      "\n",
      "[CV] max_features=1.0, min_samples_split=5, min_samples_leaf=10 ......\n",
      "[CV]  max_features=1.0, min_samples_split=5, min_samples_leaf=10, score=-757.552929 -   3.9s\n",
      "[CV] max_features=1.0, min_samples_split=5, min_samples_leaf=10 ......\n",
      "[CV]  max_features=1.0, min_samples_split=5, min_samples_leaf=10, score=-746.561967 -   4.0s"
     ]
    },
    {
     "name": "stderr",
     "output_type": "stream",
     "text": [
      "[Parallel(n_jobs=1)]: Done 235 tasks       | elapsed: 10.2min\n",
      "[Parallel(n_jobs=1)]: Done 236 tasks       | elapsed: 10.3min\n"
     ]
    },
    {
     "name": "stdout",
     "output_type": "stream",
     "text": [
      "\n",
      "[CV] max_features=1.0, min_samples_split=5, min_samples_leaf=10 ......\n",
      "[CV]  max_features=1.0, min_samples_split=5, min_samples_leaf=10, score=-472.034278 -   3.7s\n",
      "[CV] max_features=1.0, min_samples_split=10, min_samples_leaf=10 .....\n",
      "[CV]  max_features=1.0, min_samples_split=10, min_samples_leaf=10, score=-800.488217 -   3.8s"
     ]
    },
    {
     "name": "stderr",
     "output_type": "stream",
     "text": [
      "[Parallel(n_jobs=1)]: Done 237 tasks       | elapsed: 10.3min\n",
      "[Parallel(n_jobs=1)]: Done 238 tasks       | elapsed: 10.4min\n"
     ]
    },
    {
     "name": "stdout",
     "output_type": "stream",
     "text": [
      "\n",
      "[CV] max_features=1.0, min_samples_split=10, min_samples_leaf=10 .....\n",
      "[CV]  max_features=1.0, min_samples_split=10, min_samples_leaf=10, score=-764.669495 -   4.2s\n",
      "[CV] max_features=1.0, min_samples_split=10, min_samples_leaf=10 .....\n",
      "[CV]  max_features=1.0, min_samples_split=10, min_samples_leaf=10, score=-486.993223 -   4.3s"
     ]
    },
    {
     "name": "stderr",
     "output_type": "stream",
     "text": [
      "[Parallel(n_jobs=1)]: Done 239 tasks       | elapsed: 10.5min\n",
      "[Parallel(n_jobs=1)]: Done 240 tasks       | elapsed: 10.5min\n"
     ]
    },
    {
     "name": "stdout",
     "output_type": "stream",
     "text": [
      "\n"
     ]
    },
    {
     "name": "stderr",
     "output_type": "stream",
     "text": [
      "[Parallel(n_jobs=1)]: Done 240 out of 240 | elapsed: 10.5min finished\n"
     ]
    },
    {
     "data": {
      "text/plain": [
       "GridSearchCV(cv=None, error_score='raise',\n",
       "       estimator=RandomForestRegressor(bootstrap=True, criterion='mse', max_depth=None,\n",
       "           max_features='auto', max_leaf_nodes=None, min_samples_leaf=1,\n",
       "           min_samples_split=2, min_weight_fraction_leaf=0.0,\n",
       "           n_estimators=35, n_jobs=8, oob_score=False, random_state=None,\n",
       "           verbose=0, warm_start=False),\n",
       "       fit_params={}, iid=True, n_jobs=1,\n",
       "       param_grid={'min_samples_split': [2, 3, 5, 10], 'max_features': array([ 0.1  ,  0.325,  0.55 ,  0.775,  1.   ]), 'min_samples_leaf': [2, 3, 5, 10]},\n",
       "       pre_dispatch='2*n_jobs', refit=True, scoring='mean_squared_error',\n",
       "       verbose=35)"
      ]
     },
     "execution_count": 159,
     "metadata": {},
     "output_type": "execute_result"
    }
   ],
   "source": [
    "parameters = {'min_samples_split': [2, 3, 5, 10],\n",
    "              'max_features': np.linspace(0.1, 1.0, 5),\n",
    "              'min_samples_leaf': [2, 3, 5, 10]\n",
    "}\n",
    "clf = RandomForestRegressor(n_estimators=35, n_jobs=8)\n",
    "clf = GridSearchCV(clf, parameters, verbose=35, scoring='mean_squared_error')\n",
    "clf.fit(train_set[train_set.columns[:-1]], train_set[train_set.columns[-1]])"
   ]
  },
  {
   "cell_type": "code",
   "execution_count": 161,
   "metadata": {
    "collapsed": false
   },
   "outputs": [
    {
     "name": "stdout",
     "output_type": "stream",
     "text": [
      "Best params: {'max_features': 0.32500000000000001, 'min_samples_split': 2, 'min_samples_leaf': 3}\n",
      "Best score: -623.096695594\n"
     ]
    }
   ],
   "source": [
    "print 'Best params:', clf.best_params_\n",
    "print 'Best score:', clf.best_score_"
   ]
  },
  {
   "cell_type": "markdown",
   "metadata": {},
   "source": [
    "Оптимальные параметры: max_features: 0.32500000000000001, min_samples_split: 2, min_samples_leaf: 3 <br>\n",
    "MSE: 623.096695594"
   ]
  },
  {
   "cell_type": "code",
   "execution_count": 62,
   "metadata": {
    "collapsed": false
   },
   "outputs": [
    {
     "name": "stdout",
     "output_type": "stream",
     "text": [
      "Estimators:  5\n",
      "MSE train:  280.071418175\n",
      "MSE test:  668.338441379\n",
      "Estimators:  15\n",
      "MSE train:  244.025336567\n",
      "MSE test:  653.400009715\n",
      "Estimators:  25\n",
      "MSE train:  234.199212334\n",
      "MSE test:  655.490582058\n",
      "Estimators:  35\n",
      "MSE train:  243.564128549\n",
      "MSE test:  643.947020828\n",
      "Estimators:  45\n",
      "MSE train:  234.583928329\n",
      "MSE test:  647.93000425\n",
      "Estimators:  55\n",
      "MSE train:  227.497271163\n",
      "MSE test:  643.096783914\n",
      "Estimators:  65\n",
      "MSE train:  230.429947347\n",
      "MSE test:  633.350447644\n",
      "Estimators:  75\n",
      "MSE train:  225.377068014\n",
      "MSE test:  640.794051023\n",
      "Estimators:  85\n",
      "MSE train:  228.5784008\n",
      "MSE test:  637.776171019\n",
      "Estimators:  95\n",
      "MSE train:  225.288103331\n",
      "MSE test:  640.040271472\n"
     ]
    }
   ],
   "source": [
    "params={'max_features': 0.32500000000000001, 'min_samples_split': 2, 'min_samples_leaf': 3}\n",
    "train_scores, test_scores = get_scores(RandomForestRegressor, train_set, test_set, range(5, 100, 10), params)"
   ]
  },
  {
   "cell_type": "code",
   "execution_count": 185,
   "metadata": {
    "collapsed": false
   },
   "outputs": [
    {
     "data": {
      "image/png": "[encoded data removed]",
      "text/plain": [
       "<matplotlib.figure.Figure at 0x1062ae190>"
      ]
     },
     "metadata": {},
     "output_type": "display_data"
    }
   ],
   "source": [
    "size = range(5, 100, 10)\n",
    "plt.figure(figsize=(12, 6))\n",
    "plt.subplot(121)\n",
    "plt.plot(size, bag_train_scores, label='bagging', lw=2, marker='o')\n",
    "plt.plot(size, train_scores, label='random forest', lw=2, marker='o')\n",
    "plt.xlim(5, 80)\n",
    "plt.xticks(size)\n",
    "plt.xlabel('estimators number')\n",
    "plt.ylabel('error')\n",
    "plt.title('Train set')\n",
    "plt.subplot(122)\n",
    "plt.plot(size, bag_test_scores, label='bagging', lw=2, marker='o')\n",
    "plt.plot(size, test_scores, label='random forest', lw=2, marker='o')\n",
    "plt.xlim(5, 80)\n",
    "plt.xticks(size)\n",
    "plt.xlabel('estimators number')\n",
    "plt.ylabel('error')\n",
    "plt.title('Test set')\n",
    "plt.legend(loc='best')\n",
    "plt.show()"
   ]
  },
  {
   "cell_type": "markdown",
   "metadata": {},
   "source": [
    "На тренировочной выборке победил Bagging. На тестовой все же лучшим оказался Random forest. Хотя самая лучшая модель - это Bagging из 45 базовых алгоритмов."
   ]
  },
  {
   "cell_type": "markdown",
   "metadata": {},
   "source": [
    "## Gradient Boost"
   ]
  },
  {
   "cell_type": "markdown",
   "metadata": {},
   "source": [
    "Обучите градиентый бустинг над 100 деревьями с одинаковыми параметрами, используя библиотеки scikit-learn и xgboost. Сравните получившиеся композиции, построив графики качества на обучающей и тестовой выборке в зависимости от количества деревьев. В дальнейших экспериментах используйте реализацию бустинга, показавшую лучший результат."
   ]
  },
  {
   "cell_type": "code",
   "execution_count": 91,
   "metadata": {
    "collapsed": false
   },
   "outputs": [
    {
     "data": {
      "text/plain": [
       "GradientBoostingRegressor(alpha=0.9, init=None, learning_rate=0.1, loss='ls',\n",
       "             max_depth=3, max_features=None, max_leaf_nodes=None,\n",
       "             min_samples_leaf=1, min_samples_split=2,\n",
       "             min_weight_fraction_leaf=0.0, n_estimators=100,\n",
       "             presort='auto', random_state=None, subsample=1.0, verbose=0,\n",
       "             warm_start=False)"
      ]
     },
     "execution_count": 91,
     "metadata": {},
     "output_type": "execute_result"
    }
   ],
   "source": [
    "clf = GradientBoostingRegressor(n_estimators=100)\n",
    "clf.fit(train_set[train_set.columns[:-1]], train_set[train_set.columns[-1]])"
   ]
  },
  {
   "cell_type": "code",
   "execution_count": 92,
   "metadata": {
    "collapsed": false
   },
   "outputs": [],
   "source": [
    "sk_train_scores = []\n",
    "sk_test_scores = []\n",
    "train_predicts = clf.staged_predict(train_set[train_set.columns[:-1]])\n",
    "test_predicts = clf.staged_predict(test_set[test_set.columns[:-1]])\n",
    "for i, predict in enumerate(train_predicts):\n",
    "    train_score = mean_squared_error(predict, train_set[train_set.columns[-1]])\n",
    "    sk_train_scores.append(train_score)\n",
    "for i, predict in enumerate(test_predicts):\n",
    "    test_score = mean_squared_error(predict, test_set[test_set.columns[-1]])\n",
    "    sk_test_scores.append(test_score)"
   ]
  },
  {
   "cell_type": "code",
   "execution_count": 93,
   "metadata": {
    "collapsed": true
   },
   "outputs": [],
   "source": [
    "train_data = np.array(train_set[train_set.columns[:-1]])\n",
    "labels = np.array(train_set[train_set.columns[-1]])\n",
    "test_data = np.array(test_set[test_set.columns[:-1]])\n",
    "test_labels = np.array(test_set[test_set.columns[-1]])\n",
    "dtrain = xgb.DMatrix(train_data, label=labels)\n",
    "dtest = xgb.DMatrix(test_data, label=test_labels)"
   ]
  },
  {
   "cell_type": "code",
   "execution_count": 94,
   "metadata": {
    "collapsed": true
   },
   "outputs": [],
   "source": [
    "param = {'bst:max_depth':3, 'bst:eta':0.1, 'silent':1,\n",
    "        'eval_metric':'rmse', 'nthread':4}\n",
    "evallist  = [(dtest,'eval'), (dtrain,'train')]"
   ]
  },
  {
   "cell_type": "code",
   "execution_count": 95,
   "metadata": {
    "collapsed": false
   },
   "outputs": [
    {
     "name": "stderr",
     "output_type": "stream",
     "text": [
      "Will train until train error hasn't decreased in 10 rounds.\n",
      "[0]\teval-rmse:33.024746\ttrain-rmse:29.587259\n",
      "[1]\teval-rmse:30.059578\ttrain-rmse:24.332916\n",
      "[2]\teval-rmse:28.311743\ttrain-rmse:20.534853\n",
      "[3]\teval-rmse:27.382818\ttrain-rmse:17.754658\n",
      "[4]\teval-rmse:27.031353\ttrain-rmse:15.809454\n",
      "[5]\teval-rmse:26.652878\ttrain-rmse:14.568861\n",
      "[6]\teval-rmse:26.452236\ttrain-rmse:13.360563\n",
      "[7]\teval-rmse:26.288221\ttrain-rmse:12.380862\n",
      "[8]\teval-rmse:26.170542\ttrain-rmse:11.708527\n",
      "[9]\teval-rmse:26.148310\ttrain-rmse:11.319448\n",
      "[10]\teval-rmse:26.181217\ttrain-rmse:11.008653\n",
      "[11]\teval-rmse:26.139065\ttrain-rmse:10.801548\n",
      "[12]\teval-rmse:26.161245\ttrain-rmse:10.633608\n",
      "[13]\teval-rmse:26.183489\ttrain-rmse:10.438463\n",
      "[14]\teval-rmse:26.192457\ttrain-rmse:10.317122\n",
      "[15]\teval-rmse:26.196844\ttrain-rmse:10.245735\n",
      "[16]\teval-rmse:26.161274\ttrain-rmse:9.939538\n",
      "[17]\teval-rmse:26.148909\ttrain-rmse:9.604264\n",
      "[18]\teval-rmse:26.126123\ttrain-rmse:9.080054\n",
      "[19]\teval-rmse:26.134689\ttrain-rmse:8.927215\n",
      "[20]\teval-rmse:26.142447\ttrain-rmse:8.897074\n",
      "[21]\teval-rmse:26.147690\ttrain-rmse:8.487883\n",
      "[22]\teval-rmse:26.142588\ttrain-rmse:8.331794\n",
      "[23]\teval-rmse:26.144619\ttrain-rmse:8.309527\n",
      "[24]\teval-rmse:26.126266\ttrain-rmse:8.102168\n",
      "[25]\teval-rmse:26.103001\ttrain-rmse:7.989442\n",
      "[26]\teval-rmse:26.089672\ttrain-rmse:7.849654\n",
      "[27]\teval-rmse:26.070427\ttrain-rmse:7.652754\n",
      "[28]\teval-rmse:26.070101\ttrain-rmse:7.558700\n",
      "[29]\teval-rmse:26.075474\ttrain-rmse:7.459961\n",
      "[30]\teval-rmse:26.084785\ttrain-rmse:7.415586\n",
      "[31]\teval-rmse:26.084732\ttrain-rmse:7.402786\n",
      "[32]\teval-rmse:26.096605\ttrain-rmse:7.192447\n",
      "[33]\teval-rmse:26.109245\ttrain-rmse:7.154431\n",
      "[34]\teval-rmse:26.114981\ttrain-rmse:7.100453\n",
      "[35]\teval-rmse:26.118685\ttrain-rmse:7.045904\n",
      "[36]\teval-rmse:26.109167\ttrain-rmse:7.010385\n",
      "[37]\teval-rmse:26.103996\ttrain-rmse:6.889495\n",
      "[38]\teval-rmse:26.100368\ttrain-rmse:6.795572\n",
      "[39]\teval-rmse:26.108362\ttrain-rmse:6.637051\n",
      "[40]\teval-rmse:26.113386\ttrain-rmse:6.618966\n",
      "[41]\teval-rmse:26.119585\ttrain-rmse:6.560616\n",
      "[42]\teval-rmse:26.122801\ttrain-rmse:6.411141\n",
      "[43]\teval-rmse:26.121119\ttrain-rmse:6.352057\n",
      "[44]\teval-rmse:26.119194\ttrain-rmse:6.301411\n",
      "[45]\teval-rmse:26.123068\ttrain-rmse:6.243017\n",
      "[46]\teval-rmse:26.136148\ttrain-rmse:6.191411\n",
      "[47]\teval-rmse:26.113010\ttrain-rmse:6.029846\n",
      "[48]\teval-rmse:26.123627\ttrain-rmse:5.895315\n",
      "[49]\teval-rmse:26.125616\ttrain-rmse:5.856219\n",
      "[50]\teval-rmse:26.124012\ttrain-rmse:5.755228\n",
      "[51]\teval-rmse:26.124456\ttrain-rmse:5.749214\n",
      "[52]\teval-rmse:26.129099\ttrain-rmse:5.699305\n",
      "[53]\teval-rmse:26.132381\ttrain-rmse:5.653823\n",
      "[54]\teval-rmse:26.145212\ttrain-rmse:5.605903\n",
      "[55]\teval-rmse:26.139299\ttrain-rmse:5.456559\n",
      "[56]\teval-rmse:26.139763\ttrain-rmse:5.414861\n",
      "[57]\teval-rmse:26.133017\ttrain-rmse:5.350158\n",
      "[58]\teval-rmse:26.129917\ttrain-rmse:5.329329\n",
      "[59]\teval-rmse:26.129612\ttrain-rmse:5.290768\n",
      "[60]\teval-rmse:26.126955\ttrain-rmse:5.266203\n",
      "[61]\teval-rmse:26.126835\ttrain-rmse:5.254223\n",
      "[62]\teval-rmse:26.129263\ttrain-rmse:5.219380\n",
      "[63]\teval-rmse:26.142330\ttrain-rmse:5.110812\n",
      "[64]\teval-rmse:26.142187\ttrain-rmse:5.031377\n",
      "[65]\teval-rmse:26.136259\ttrain-rmse:4.962644\n",
      "[66]\teval-rmse:26.134027\ttrain-rmse:4.922355\n",
      "[67]\teval-rmse:26.134533\ttrain-rmse:4.879574\n",
      "[68]\teval-rmse:26.128878\ttrain-rmse:4.862731\n",
      "[69]\teval-rmse:26.131458\ttrain-rmse:4.789357\n",
      "[70]\teval-rmse:26.137058\ttrain-rmse:4.737155\n",
      "[71]\teval-rmse:26.135498\ttrain-rmse:4.718729\n",
      "[72]\teval-rmse:26.134766\ttrain-rmse:4.701767\n",
      "[73]\teval-rmse:26.135422\ttrain-rmse:4.691149\n",
      "[74]\teval-rmse:26.143072\ttrain-rmse:4.623631\n",
      "[75]\teval-rmse:26.135523\ttrain-rmse:4.561217\n",
      "[76]\teval-rmse:26.135744\ttrain-rmse:4.525639\n",
      "[77]\teval-rmse:26.135885\ttrain-rmse:4.518617\n",
      "[78]\teval-rmse:26.130350\ttrain-rmse:4.482306\n",
      "[79]\teval-rmse:26.133282\ttrain-rmse:4.452381\n",
      "[80]\teval-rmse:26.134739\ttrain-rmse:4.442711\n",
      "[81]\teval-rmse:26.137018\ttrain-rmse:4.410972\n",
      "[82]\teval-rmse:26.137892\ttrain-rmse:4.402801\n",
      "[83]\teval-rmse:26.136768\ttrain-rmse:4.383729\n",
      "[84]\teval-rmse:26.139894\ttrain-rmse:4.352097\n",
      "[85]\teval-rmse:26.142664\ttrain-rmse:4.248337\n",
      "[86]\teval-rmse:26.145014\ttrain-rmse:4.231921\n",
      "[87]\teval-rmse:26.144388\ttrain-rmse:4.218961\n",
      "[88]\teval-rmse:26.138706\ttrain-rmse:4.174214\n",
      "[89]\teval-rmse:26.147326\ttrain-rmse:4.103199\n",
      "[90]\teval-rmse:26.148106\ttrain-rmse:4.093656\n",
      "[91]\teval-rmse:26.149330\ttrain-rmse:4.006196\n",
      "[92]\teval-rmse:26.153959\ttrain-rmse:3.964636\n",
      "[93]\teval-rmse:26.157354\ttrain-rmse:3.927417\n",
      "[94]\teval-rmse:26.154604\ttrain-rmse:3.852946\n",
      "[95]\teval-rmse:26.152142\ttrain-rmse:3.815047\n",
      "[96]\teval-rmse:26.150721\ttrain-rmse:3.800168\n",
      "[97]\teval-rmse:26.155985\ttrain-rmse:3.718357\n",
      "[98]\teval-rmse:26.161682\ttrain-rmse:3.687723\n",
      "[99]\teval-rmse:26.160135\ttrain-rmse:3.618483\n"
     ]
    }
   ],
   "source": [
    "bst = xgb.train(param, dtrain, 100, evallist, early_stopping_rounds=10)"
   ]
  },
  {
   "cell_type": "code",
   "execution_count": 100,
   "metadata": {
    "collapsed": false
   },
   "outputs": [],
   "source": [
    "bst_train_scores = []\n",
    "bst_test_scores = []\n",
    "for size in range(1, 101):\n",
    "    test_predict = bst.predict(dtest, ntree_limit=size)\n",
    "    test_score = mean_squared_error(test_predict, test_labels)\n",
    "    train_predict = bst.predict(dtrain, ntree_limit=size)\n",
    "    train_score = mean_squared_error(train_predict, labels)\n",
    "    bst_train_scores.append(train_score)\n",
    "    bst_test_scores.append(test_score)"
   ]
  },
  {
   "cell_type": "code",
   "execution_count": 104,
   "metadata": {
    "collapsed": false
   },
   "outputs": [
    {
     "data": {
      "image/png": "[encoded data removed]",
      "text/plain": [
       "<matplotlib.figure.Figure at 0x11aaa72d0>"
      ]
     },
     "metadata": {},
     "output_type": "display_data"
    }
   ],
   "source": [
    "size = range(0, 100)\n",
    "plt.figure(figsize=(12, 6))\n",
    "plt.subplot(121)\n",
    "plt.plot(size, sk_train_scores, label='sklearn', lw=2)\n",
    "plt.plot(size, bst_train_scores, label='xboost', lw=2)\n",
    "plt.xlim(5, 80)\n",
    "#plt.xticks(size)\n",
    "plt.xlabel('estimators number')\n",
    "plt.ylabel('error')\n",
    "plt.title('Train set')\n",
    "plt.subplot(122)\n",
    "plt.plot(size, sk_test_scores, label='sklearn', lw=2)\n",
    "plt.plot(size, bst_test_scores, label='xboost', lw=2)\n",
    "plt.xlim(5, 80)\n",
    "#plt.xticks(size)\n",
    "plt.xlabel('estimators number')\n",
    "plt.ylabel('error')\n",
    "plt.title('Test set')\n",
    "plt.legend(loc='best')\n",
    "plt.show()"
   ]
  },
  {
   "cell_type": "markdown",
   "metadata": {},
   "source": [
    "Видим, что на xboost намного лучше подстраивается под данные из обучающей выборки. На тестовой выборке, начиная от 40 деревьев алгоритмы дают примерно одинаковое качество. В качестве победителя выберем xboost так как его предсказания в целом лучше для разного количества деревьев."
   ]
  },
  {
   "cell_type": "markdown",
   "metadata": {},
   "source": [
    "## Compositions and Gradient Boost"
   ]
  },
  {
   "cell_type": "markdown",
   "metadata": {},
   "source": [
    "Сравните лучшую композицию из пункта 2 с лучшим бустингом из пункта 3 по следующим параметрам:\n",
    "  - время обучения в зависимости от количества деревьев,\n",
    "  - качество предсказания на тестовой выборке в зависимости от количества деревьев."
   ]
  },
  {
   "cell_type": "code",
   "execution_count": 53,
   "metadata": {
    "collapsed": false
   },
   "outputs": [
    {
     "name": "stdout",
     "output_type": "stream",
     "text": [
      "Estimators: 1\n",
      "Time: 0.22\n",
      "MSE: 1091.02\n",
      "Estimators: 11\n",
      "Time: 1.53\n",
      "MSE: 673.13\n",
      "Estimators: 21\n",
      "Time: 3.00\n",
      "MSE: 652.99\n",
      "Estimators: 31\n",
      "Time: 4.42\n",
      "MSE: 654.93\n",
      "Estimators: 41\n",
      "Time: 5.65\n",
      "MSE: 646.27\n",
      "Estimators: 51\n",
      "Time: 7.15\n",
      "MSE: 638.03\n",
      "Estimators: 61\n",
      "Time: 8.80\n",
      "MSE: 643.53\n",
      "Estimators: 71\n",
      "Time: 10.50\n",
      "MSE: 637.57\n",
      "Estimators: 81\n",
      "Time: 11.84\n",
      "MSE: 640.90\n",
      "Estimators: 91\n",
      "Time: 13.73\n",
      "MSE: 640.72\n"
     ]
    }
   ],
   "source": [
    "rf_test_scores = []\n",
    "rf_times = []\n",
    "for n in xrange(1, 101, 10):\n",
    "    clf = RandomForestRegressor(n_estimators=n, max_features=0.325, min_samples_split=2, min_samples_leaf=3)\n",
    "    start_time = time()\n",
    "    clf = clf.fit(train_set[train_set.columns[:-1]], train_set[train_set.columns[-1]])\n",
    "    end_time = time()-start_time\n",
    "    predict = clf.predict(test_set[test_set.columns[:-1]])\n",
    "    test_score = mean_squared_error(test_set[test_set.columns[-1]], predict)\n",
    "    rf_test_scores.append(test_score)\n",
    "    rf_times.append(end_time)\n",
    "    print 'Estimators:', n\n",
    "    print 'Time: {:.2f}'.format(end_time)\n",
    "    print 'MSE: {:.2f}'.format(test_score)  "
   ]
  },
  {
   "cell_type": "code",
   "execution_count": 117,
   "metadata": {
    "collapsed": false
   },
   "outputs": [
    {
     "name": "stdout",
     "output_type": "stream",
     "text": [
      "Estimators: 1\n",
      "Time: 0.19\n",
      "MSE: 1090.63\n",
      "Estimators: 11\n",
      "Time: 2.29\n",
      "MSE: 685.46\n",
      "Estimators: 21\n",
      "Time: 3.98\n",
      "MSE: 683.43\n",
      "Estimators: 31\n",
      "Time: 5.72\n",
      "MSE: 680.42\n",
      "Estimators: 41\n",
      "Time: 8.41\n",
      "MSE: 681.91\n",
      "Estimators: 51\n",
      "Time: 9.91\n",
      "MSE: 682.46\n",
      "Estimators: 61\n",
      "Time: 11.85\n",
      "MSE: 682.62\n",
      "Estimators: 71\n",
      "Time: 14.06\n",
      "MSE: 683.15\n",
      "Estimators: 81\n",
      "Time: 15.90\n",
      "MSE: 683.02\n",
      "Estimators: 91\n",
      "Time: 17.70\n",
      "MSE: 683.72\n"
     ]
    }
   ],
   "source": [
    "bst_test_scores = []\n",
    "bst_times = []\n",
    "for n in xrange(1, 101, 10):\n",
    "    start_time = time()\n",
    "    bst = xgb.train(param, dtrain, n, evallist, verbose_eval=False)\n",
    "    end_time = time()-start_time\n",
    "    predict = bst.predict(dtest, ntree_limit=n)\n",
    "    test_score = mean_squared_error(test_labels, predict)\n",
    "    bst_test_scores.append(test_score)\n",
    "    bst_times.append(end_time)\n",
    "    print 'Estimators:', n\n",
    "    print 'Time: {:.2f}'.format(end_time)\n",
    "    print 'MSE: {:.2f}'.format(test_score)  "
   ]
  },
  {
   "cell_type": "code",
   "execution_count": 57,
   "metadata": {
    "collapsed": false
   },
   "outputs": [
    {
     "data": {
      "image/png": "[encoded data removed]",
      "text/plain": [
       "<matplotlib.figure.Figure at 0x11b3f23d0>"
      ]
     },
     "metadata": {},
     "output_type": "display_data"
    }
   ],
   "source": [
    "size = range(1, 101, 10)\n",
    "plt.figure(figsize=(12, 6))\n",
    "plt.subplot(121)\n",
    "plt.plot(size, rf_times, label='random forest', lw=2, marker='o')\n",
    "plt.plot(size, bst_times, label='boosting', lw=2, marker='o')\n",
    "plt.xlim(5, 80)\n",
    "plt.xticks(size)\n",
    "plt.xlabel('estimators number')\n",
    "plt.ylabel('time')\n",
    "plt.title('Train time')\n",
    "plt.subplot(122)\n",
    "plt.plot(size, rf_test_scores, label='random forest', lw=2, marker='o')\n",
    "plt.plot(size, bst_test_scores, label='boosting', lw=2, marker='o')\n",
    "plt.xlim(5, 80)\n",
    "plt.xticks(size)\n",
    "plt.xlabel('estimators number')\n",
    "plt.ylabel('error')\n",
    "plt.title('MSE')\n",
    "plt.legend(loc='best')\n",
    "plt.show()"
   ]
  },
  {
   "cell_type": "markdown",
   "metadata": {},
   "source": [
    "Вывод: бустинг обучается дольше, но дает лучшее качество на тестовой выборке, в сравнении с random forest. Время обучения обеих моделей линейно зависит от числа базовых алгоритмов."
   ]
  },
  {
   "cell_type": "markdown",
   "metadata": {},
   "source": [
    "##  Gradient boosting с начальным приближением"
   ]
  },
  {
   "cell_type": "markdown",
   "metadata": {},
   "source": [
    "Используйте лучшую композицию из пункта 2 в качестве начального приближения для градиентного бустинга над деревьями, т.е. обучайте бустинг на ошибки, которые дает композиция. Аналогичную операцию проделайте для начального приближения линейной регрессией. Дали ли подобные подходы прирост качества по сравнению с обычным градиентным бустингом и почему?"
   ]
  },
  {
   "cell_type": "code",
   "execution_count": 148,
   "metadata": {
    "collapsed": true
   },
   "outputs": [],
   "source": [
    "train_data = np.array(train_set[train_set.columns[:-1]])\n",
    "labels = np.array(train_set[train_set.columns[-1]])\n",
    "test_data = np.array(test_set[test_set.columns[:-1]])\n",
    "test_labels = np.array(test_set[test_set.columns[-1]])\n",
    "dtrain = xgb.DMatrix(train_data, label=labels)\n",
    "dtest = xgb.DMatrix(test_data, label=test_labels)\n",
    "param = {'bst:max_depth':3, 'bst:eta':0.1, 'silent':1,\n",
    "        'eval_metric':'rmse', 'nthread':4}\n",
    "evallist  = [(dtest,'eval'), (dtrain,'train')]"
   ]
  },
  {
   "cell_type": "code",
   "execution_count": 150,
   "metadata": {
    "collapsed": false
   },
   "outputs": [
    {
     "name": "stdout",
     "output_type": "stream",
     "text": [
      "Linear regression (train) mse: 715.29\n",
      "Linear regression (test) mse: 980.35\n"
     ]
    }
   ],
   "source": [
    "lin_reg_clf = LinearRegression()\n",
    "lin_reg_clf=lin_reg_clf.fit(train_set[train_set.columns[:-1]], train_set[train_set.columns[-1]])\n",
    "lr_predicts = lin_reg_clf.predict(train_set[train_set.columns[:-1]])\n",
    "lr_test_predict = lin_reg_clf.predict(test_set[test_set.columns[:-1]])\n",
    "print 'Linear regression (train) mse: {:.2f}'.format(mean_squared_error(lr_predicts, labels))\n",
    "print 'Linear regression (test) mse: {:.2f}'.format(mean_squared_error(lr_test_predict, test_labels))\n",
    "dtrain_lr = xgb.DMatrix(train_data, label=labels)\n",
    "dtrain_lr.set_base_margin(lr_predicts)\n",
    "dtest_lr = xgb.DMatrix(test_data, label=test_labels)\n",
    "dtest_lr.set_base_margin(lr_test_predict)"
   ]
  },
  {
   "cell_type": "code",
   "execution_count": 151,
   "metadata": {
    "collapsed": false
   },
   "outputs": [
    {
     "name": "stdout",
     "output_type": "stream",
     "text": [
      "Bagging mse (train): 166.42\n",
      "Bagging mse (test): 644.23\n"
     ]
    }
   ],
   "source": [
    "bag_reg_clf = BaggingRegressor(n_estimators=250, max_features=0.775, max_samples=0.55, n_jobs=8)\n",
    "bag_reg_clf.fit(train_set[train_set.columns[:-1]], train_set[train_set.columns[-1]])\n",
    "bag_predict = bag_reg_clf.predict(train_set[train_set.columns[:-1]])\n",
    "bag_test_predict = bag_reg_clf.predict(test_set[test_set.columns[:-1]])\n",
    "dtrain_bag = xgb.DMatrix(train_data, label=labels)\n",
    "dtrain_bag.set_base_margin(bag_predict)\n",
    "dtest_bag = xgb.DMatrix(test_data, label=test_labels)\n",
    "dtest_bag.set_base_margin(bag_test_predict)\n",
    "print 'Bagging mse (train): {:.2f}'.format(mean_squared_error(bag_predict, labels))\n",
    "print 'Bagging mse (test): {:.2f}'.format(mean_squared_error(bag_test_predict, test_labels))"
   ]
  },
  {
   "cell_type": "code",
   "execution_count": 152,
   "metadata": {
    "collapsed": false
   },
   "outputs": [],
   "source": [
    "bst_bag = xgb.train(param, dtrain_bag, 100, evallist, verbose_eval=False, early_stopping_rounds=10)\n",
    "bst_lr = xgb.train(param, dtrain_lr, 100, evallist, verbose_eval=False, early_stopping_rounds=10)\n",
    "bst = xgb.train(param, dtrain, 100, evallist, verbose_eval=False, early_stopping_rounds=10)"
   ]
  },
  {
   "cell_type": "code",
   "execution_count": 153,
   "metadata": {
    "collapsed": false
   },
   "outputs": [],
   "source": [
    "bag_test_scores = []\n",
    "lr_test_scores = []\n",
    "bst_test_scores = []\n",
    "\n",
    "for n in xrange(1, 101):\n",
    "    bst_bag_predict = bst_bag.predict(dtest_bag, ntree_limit=n)\n",
    "    bag_test_score = mean_squared_error(test_labels, bst_bag_predict)\n",
    "    \n",
    "    bst_lr_predict = bst_lr.predict(dtest_lr, ntree_limit=n)\n",
    "    lr_test_score = mean_squared_error(test_labels, bst_lr_predict)\n",
    "    \n",
    "    bst_predict = bst.predict(dtest, ntree_limit=n)\n",
    "    bst_test_score = mean_squared_error(test_labels, bst_predict)\n",
    "    \n",
    "    bag_test_scores.append(bag_test_score)\n",
    "    lr_test_scores.append(lr_test_score)\n",
    "    bst_test_scores.append(bst_test_score)"
   ]
  },
  {
   "cell_type": "markdown",
   "metadata": {},
   "source": [
    "Как и предполагалось, неудачная модель линейной регрессии все испортила. На графике ее показывать не будем."
   ]
  },
  {
   "cell_type": "code",
   "execution_count": 155,
   "metadata": {
    "collapsed": false
   },
   "outputs": [
    {
     "data": {
      "image/png": "[encoded data removed]",
      "text/plain": [
       "<matplotlib.figure.Figure at 0x111345250>"
      ]
     },
     "metadata": {},
     "output_type": "display_data"
    }
   ],
   "source": [
    "size = range(0, 100)\n",
    "plt.figure(figsize=(12, 6))\n",
    "plt.plot(size, bag_test_scores, label='Gradient boosting + Bagging')\n",
    "plt.plot(size, lr_test_scores, label='Gradient boosting + Linear regression')\n",
    "plt.plot(size, bst_test_scores, label='Gradient boosting')\n",
    "plt.ylim(600, 1200)\n",
    "plt.xlabel('estimators number')\n",
    "plt.ylabel('mse score')\n",
    "plt.title('Start approximation')\n",
    "plt.legend(loc='best')\n",
    "plt.show()"
   ]
  },
  {
   "cell_type": "markdown",
   "metadata": {},
   "source": [
    "Из графика видно, что использование композиции Bagging в качестве начального приближения повысило точность градиентного бустинга, что закономерно, так как градиентный бустинг на каждом шаге пытается улучшить начальное приближение. Хорошее начально приближение облегчает эту задачу. Начальное приближение в случае линейной регрессии имело не очень высокое качество, и видимо поэтому даже ухудшило исходный бустинг."
   ]
  },
  {
   "cell_type": "markdown",
   "metadata": {},
   "source": [
    "## Смесь алгоритмов"
   ]
  },
  {
   "cell_type": "markdown",
   "metadata": {},
   "source": [
    "Обучите линейную регрессию (LR), Random Forest (RF) и градиентный бустинг (GBDT). Подберите оптимальные $\\alpha$ для алгоритмов $\\alpha \\cdot RF + (1 - \\alpha) \\cdot GBDT$ и $\\alpha \\cdot LR + (1 - \\alpha) \\cdot GBDT$. Сравните качество новых моделей между собой и моделями из предыдущего пункта."
   ]
  },
  {
   "cell_type": "code",
   "execution_count": 171,
   "metadata": {
    "collapsed": false
   },
   "outputs": [
    {
     "name": "stdout",
     "output_type": "stream",
     "text": [
      "MSE:  980.354906778\n"
     ]
    }
   ],
   "source": [
    "LR = LinearRegression()\n",
    "LR.fit(train_data, labels)\n",
    "LR_train_prediction = LR.predict(train_data)\n",
    "LR_test_prediction = LR.predict(test_data)\n",
    "print 'MSE: ', mean_squared_error(LR_test_prediction, test_labels)"
   ]
  },
  {
   "cell_type": "code",
   "execution_count": 165,
   "metadata": {
    "collapsed": false
   },
   "outputs": [
    {
     "name": "stdout",
     "output_type": "stream",
     "text": [
      "MSE:  610.421347573\n"
     ]
    }
   ],
   "source": [
    "RF = RandomForestRegressor(n_estimators=250, min_samples_split=2, min_samples_leaf=3)\n",
    "RF.fit(train_data, labels)\n",
    "RF_train_prediction = RF.predict(train_data)\n",
    "RF_test_prediction = RF.predict(test_data)\n",
    "print 'MSE: ', mean_squared_error(RF_test_prediction, test_labels)"
   ]
  },
  {
   "cell_type": "code",
   "execution_count": 162,
   "metadata": {
    "collapsed": false
   },
   "outputs": [
    {
     "name": "stdout",
     "output_type": "stream",
     "text": [
      "MSE:  684.084169976\n"
     ]
    }
   ],
   "source": [
    "GBDT = xgb.train(param, dtrain, 250, evallist, verbose_eval=False, early_stopping_rounds=10)\n",
    "GBDT_train_prediction = GBDT.predict(dtrain)\n",
    "GBDT_test_prediction = GBDT.predict(dtest)\n",
    "print 'MSE: ', mean_squared_error(GBDT_test_prediction, test_labels)"
   ]
  },
  {
   "cell_type": "code",
   "execution_count": 207,
   "metadata": {
    "collapsed": false
   },
   "outputs": [],
   "source": [
    "def find_optimal_alpha(pred_1, pred_2, real):\n",
    "    pred_1, pred_2 = np.array(pred_1), np.array(pred_2)\n",
    "    mse = []\n",
    "    for alpha in np.linspace(0., 1.0, 100):\n",
    "        pred = pred_1*alpha + pred_2*(1-alpha)\n",
    "        score = mean_squared_error(pred, real)\n",
    "        mse.append(score)\n",
    "    return np.argmin(mse)*(0.01), mse\n",
    "\n",
    "rf_alpha, rf_errors = find_optimal_alpha(RF_test_prediction, GBDT_test_prediction, test_labels)\n",
    "lr_alpha, lr_errors = find_optimal_alpha(LR_test_prediction, GBDT_test_prediction, test_labels)"
   ]
  },
  {
   "cell_type": "code",
   "execution_count": 205,
   "metadata": {
    "collapsed": false
   },
   "outputs": [
    {
     "data": {
      "image/png": "[encoded data removed]",
      "text/plain": [
       "<matplotlib.figure.Figure at 0x11a4a1cd0>"
      ]
     },
     "metadata": {},
     "output_type": "display_data"
    }
   ],
   "source": [
    "size = np.linspace(0, 1.0, 100)\n",
    "plt.figure(figsize=(12, 6))\n",
    "plt.subplot(121)\n",
    "plt.plot(size, rf_errors)\n",
    "plt.xlabel('alpha')\n",
    "plt.ylabel('mse score')\n",
    "plt.title('Random Forest + Gradient boosting')\n",
    "plt.legend(loc='best')\n",
    "plt.subplot(122)\n",
    "plt.plot(size, lr_errors)\n",
    "plt.xlabel('alpha')\n",
    "plt.ylabel('mse score')\n",
    "plt.title('Gradient boosting + Linear regression')\n",
    "plt.show()"
   ]
  },
  {
   "cell_type": "code",
   "execution_count": 208,
   "metadata": {
    "collapsed": false
   },
   "outputs": [
    {
     "name": "stdout",
     "output_type": "stream",
     "text": [
      "Random forest + Gradient boost alpha: 0.84\n",
      "Random forest + Linear regression alpha: 0.2\n"
     ]
    }
   ],
   "source": [
    "print 'Random forest + Gradient boost alpha:', rf_alpha\n",
    "print 'Random forest + Linear regression alpha:', lr_alpha"
   ]
  },
  {
   "cell_type": "code",
   "execution_count": 212,
   "metadata": {
    "collapsed": false
   },
   "outputs": [
    {
     "name": "stdout",
     "output_type": "stream",
     "text": [
      "Random forest + Gradient boost MSE: 608.07\n",
      "Random forest + Linear regression MSE: 663.81\n"
     ]
    }
   ],
   "source": [
    "rf_predict = rf_alpha * RF_test_prediction + (1.-rf_alpha) * GBDT_test_prediction\n",
    "lr_predict = lr_alpha * LR_test_prediction + (1.-lr_alpha) * GBDT_test_prediction\n",
    "print 'Random forest + Gradient boost MSE: {:.2f}'.format(mean_squared_error(rf_predict, test_labels))\n",
    "print 'Random forest + Linear regression MSE: {:.2f}'.format(mean_squared_error(lr_predict, test_labels))"
   ]
  },
  {
   "cell_type": "markdown",
   "metadata": {},
   "source": [
    "Видим, что смесь Random forest + Gradient boost получилась отличная. Эта модель имеет наименьшую ошибку из всех ранее построенных. В случае линейной регрессии лучше было бы совсем не смешивать. Эта модель сама по себе имеет значительно более низкое качество, чем остальные модели. Поэтому в смесь она добавит больше ошибок, чем полезной информации."
   ]
  }
 ],
 "metadata": {
  "kernelspec": {
   "display_name": "Python 2",
   "language": "python",
   "name": "python2"
  },
  "language_info": {
   "codemirror_mode": {
    "name": "ipython",
    "version": 2
   },
   "file_extension": ".py",
   "mimetype": "text/x-python",
   "name": "python",
   "nbconvert_exporter": "python",
   "pygments_lexer": "ipython2",
   "version": "2.7.10"
  }
 },
 "nbformat": 4,
 "nbformat_minor": 0
}
