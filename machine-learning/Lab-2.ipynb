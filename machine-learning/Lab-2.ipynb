{
 "metadata": {
  "name": "",
  "signature": "sha256:2d2a393dea9961f327efee16cea547280c8977ccb333d0c0e8cc61d11067ef6b"
 },
 "nbformat": 3,
 "nbformat_minor": 0,
 "worksheets": [
  {
   "cells": [
    {
     "cell_type": "heading",
     "level": 1,
     "metadata": {},
     "source": [
      "\u041c\u0430\u0448\u0438\u043d\u043d\u043e\u0435 \u043e\u0431\u0443\u0447\u0435\u043d\u0438\u0435"
     ]
    },
    {
     "cell_type": "heading",
     "level": 2,
     "metadata": {},
     "source": [
      "\u041b\u0430\u0431\u043e\u0440\u0430\u0442\u043e\u0440\u043d\u0430\u044f \u0440\u0430\u0431\u043e\u0442\u0430 \u21162: \u041e\u0431\u0443\u0447\u0435\u043d\u0438\u0435 \u0438 \u043e\u0446\u0435\u043d\u043a\u0430 \u043a\u0430\u0447\u0435\u0441\u0442\u0432\u0430 \u043c\u043e\u0434\u0435\u043b\u0435\u0439"
     ]
    },
    {
     "cell_type": "heading",
     "level": 2,
     "metadata": {},
     "source": [
      "\u0412\u044b\u043f\u043e\u043b\u043d\u0438\u043b\u0430 \u0415\u0433\u043e\u0440\u043e\u0432\u0430 \u0412\u0435\u0440\u0430 \u0412\u043b\u0430\u0434\u0438\u043c\u0438\u0440\u043e\u0432\u043d\u0430"
     ]
    },
    {
     "cell_type": "heading",
     "level": 3,
     "metadata": {},
     "source": [
      "1. \u041e\u043f\u0440\u0435\u0434\u0435\u043b\u0435\u043d\u0438\u0435 \u0441\u043f\u0430\u043c\u0430 \u043f\u043e \u0442\u0435\u043a\u0441\u0442\u0443 \u044d\u043b\u0435\u043a\u0442\u0440\u043e\u043d\u043d\u043e\u0433\u043e \u043f\u0438\u0441\u044c\u043c\u0430"
     ]
    },
    {
     "cell_type": "code",
     "collapsed": false,
     "input": [
      "%pylab inline\n",
      "import pandas\n",
      "import urllib2\n",
      "import numpy as np\n",
      "import matplotlib.pyplot as plt\n",
      "from sklearn.tree import DecisionTreeClassifier\n",
      "from sklearn.neighbors import KNeighborsClassifier\n",
      "from sklearn.dummy import DummyClassifier\n",
      "from sklearn.preprocessing import scale\n",
      "from sklearn.preprocessing import MinMaxScaler\n",
      "from sklearn.grid_search import GridSearchCV\n",
      "from sklearn.cross_validation import train_test_split\n",
      "from sklearn.metrics import accuracy_score\n",
      "from sklearn.metrics import precision_recall_fscore_support\n",
      "from sklearn.metrics import roc_curve, auc\n",
      "from sklearn.metrics import precision_recall_curve\n",
      "import warnings\n",
      "warnings.filterwarnings('ignore')"
     ],
     "language": "python",
     "metadata": {},
     "outputs": [
      {
       "output_type": "stream",
       "stream": "stdout",
       "text": [
        "Populating the interactive namespace from numpy and matplotlib\n"
       ]
      }
     ],
     "prompt_number": 523
    },
    {
     "cell_type": "markdown",
     "metadata": {},
     "source": [
      "\u0417\u0430\u0433\u0440\u0443\u0437\u0438\u043c \u043d\u0430\u0431\u043e\u0440 \u0434\u0430\u043d\u043d\u044b\u0445 UCI. \u041e\u0431\u044a\u0435\u043a\u0442\u044b \u0432 \u043d\u0435\u043c \u0441\u043e\u043e\u0442\u0432\u0435\u0442\u0441\u0442\u0432\u0443\u044e\u0442 \u043f\u0438\u0441\u044c\u043c\u0430\u043c, \u043a\u043e\u0442\u043e\u0440\u044b\u0435 \u043e\u043f\u0438\u0441\u0430\u043d\u044b \u043f\u0440\u0438\u0437\u043d\u0430\u043a\u0430\u043c\u0438 \u043d\u0430 \u043e\u0441\u043d\u043e\u0432\u0435 \u0442\u0435\u043a\u0441\u0442\u0430 \u043f\u0438\u0441\u044c\u043c\u0430, \u0441\u043f\u0430\u043c \u2014 \u043f\u043e\u043b\u043e\u0436\u0438\u0442\u0435\u043b\u044c\u043d\u044b\u0439 \u043f\u0440\u0438\u043c\u0435\u0440 \u0434\u043b\u044f \u043a\u043b\u0430\u0441\u0441\u0438\u0444\u0438\u043a\u0430\u0446\u0438\u0438, \u0445\u043e\u0440\u043e\u0448\u0435\u0435 \u043f\u0438\u0441\u044c\u043c\u043e \u2014 \u043e\u0442\u0440\u0438\u0446\u0430\u0442\u0435\u043b\u044c\u043d\u044b\u0439 \u043f\u0440\u0438\u043c\u0435\u0440."
     ]
    },
    {
     "cell_type": "code",
     "collapsed": false,
     "input": [
      "SPAMBASE_NAMES_URL = 'https://archive.ics.uci.edu/ml/machine-learning-databases/spambase/spambase.names'\n",
      "SPAMBASE_DATA_URL = 'https://archive.ics.uci.edu/ml/machine-learning-databases/spambase/spambase.data'\n",
      "\n",
      "feature_names = [\n",
      "    line.strip().split(':')[0] \n",
      "    for line in urllib2.urlopen(SPAMBASE_NAMES_URL).readlines()[33:]\n",
      "]\n",
      "spam_data = pandas.read_csv(SPAMBASE_DATA_URL, header=None, names=(feature_names + ['spam']))\n",
      " \n",
      "spam_data[:10]"
     ],
     "language": "python",
     "metadata": {},
     "outputs": [
      {
       "html": [
        "<div style=\"max-height:1000px;max-width:1500px;overflow:auto;\">\n",
        "<table border=\"1\" class=\"dataframe\">\n",
        "  <thead>\n",
        "    <tr style=\"text-align: right;\">\n",
        "      <th></th>\n",
        "      <th>word_freq_make</th>\n",
        "      <th>word_freq_address</th>\n",
        "      <th>word_freq_all</th>\n",
        "      <th>word_freq_3d</th>\n",
        "      <th>word_freq_our</th>\n",
        "      <th>word_freq_over</th>\n",
        "      <th>word_freq_remove</th>\n",
        "      <th>word_freq_internet</th>\n",
        "      <th>word_freq_order</th>\n",
        "      <th>word_freq_mail</th>\n",
        "      <th>...</th>\n",
        "      <th>char_freq_;</th>\n",
        "      <th>char_freq_(</th>\n",
        "      <th>char_freq_[</th>\n",
        "      <th>char_freq_!</th>\n",
        "      <th>char_freq_$</th>\n",
        "      <th>char_freq_#</th>\n",
        "      <th>capital_run_length_average</th>\n",
        "      <th>capital_run_length_longest</th>\n",
        "      <th>capital_run_length_total</th>\n",
        "      <th>spam</th>\n",
        "    </tr>\n",
        "  </thead>\n",
        "  <tbody>\n",
        "    <tr>\n",
        "      <th>0</th>\n",
        "      <td> 0.00</td>\n",
        "      <td> 0.64</td>\n",
        "      <td> 0.64</td>\n",
        "      <td> 0</td>\n",
        "      <td> 0.32</td>\n",
        "      <td> 0.00</td>\n",
        "      <td> 0.00</td>\n",
        "      <td> 0.00</td>\n",
        "      <td> 0.00</td>\n",
        "      <td> 0.00</td>\n",
        "      <td>...</td>\n",
        "      <td> 0.00</td>\n",
        "      <td> 0.000</td>\n",
        "      <td> 0</td>\n",
        "      <td> 0.778</td>\n",
        "      <td> 0.000</td>\n",
        "      <td> 0.000</td>\n",
        "      <td> 3.756</td>\n",
        "      <td>  61</td>\n",
        "      <td>  278</td>\n",
        "      <td> 1</td>\n",
        "    </tr>\n",
        "    <tr>\n",
        "      <th>1</th>\n",
        "      <td> 0.21</td>\n",
        "      <td> 0.28</td>\n",
        "      <td> 0.50</td>\n",
        "      <td> 0</td>\n",
        "      <td> 0.14</td>\n",
        "      <td> 0.28</td>\n",
        "      <td> 0.21</td>\n",
        "      <td> 0.07</td>\n",
        "      <td> 0.00</td>\n",
        "      <td> 0.94</td>\n",
        "      <td>...</td>\n",
        "      <td> 0.00</td>\n",
        "      <td> 0.132</td>\n",
        "      <td> 0</td>\n",
        "      <td> 0.372</td>\n",
        "      <td> 0.180</td>\n",
        "      <td> 0.048</td>\n",
        "      <td> 5.114</td>\n",
        "      <td> 101</td>\n",
        "      <td> 1028</td>\n",
        "      <td> 1</td>\n",
        "    </tr>\n",
        "    <tr>\n",
        "      <th>2</th>\n",
        "      <td> 0.06</td>\n",
        "      <td> 0.00</td>\n",
        "      <td> 0.71</td>\n",
        "      <td> 0</td>\n",
        "      <td> 1.23</td>\n",
        "      <td> 0.19</td>\n",
        "      <td> 0.19</td>\n",
        "      <td> 0.12</td>\n",
        "      <td> 0.64</td>\n",
        "      <td> 0.25</td>\n",
        "      <td>...</td>\n",
        "      <td> 0.01</td>\n",
        "      <td> 0.143</td>\n",
        "      <td> 0</td>\n",
        "      <td> 0.276</td>\n",
        "      <td> 0.184</td>\n",
        "      <td> 0.010</td>\n",
        "      <td> 9.821</td>\n",
        "      <td> 485</td>\n",
        "      <td> 2259</td>\n",
        "      <td> 1</td>\n",
        "    </tr>\n",
        "    <tr>\n",
        "      <th>3</th>\n",
        "      <td> 0.00</td>\n",
        "      <td> 0.00</td>\n",
        "      <td> 0.00</td>\n",
        "      <td> 0</td>\n",
        "      <td> 0.63</td>\n",
        "      <td> 0.00</td>\n",
        "      <td> 0.31</td>\n",
        "      <td> 0.63</td>\n",
        "      <td> 0.31</td>\n",
        "      <td> 0.63</td>\n",
        "      <td>...</td>\n",
        "      <td> 0.00</td>\n",
        "      <td> 0.137</td>\n",
        "      <td> 0</td>\n",
        "      <td> 0.137</td>\n",
        "      <td> 0.000</td>\n",
        "      <td> 0.000</td>\n",
        "      <td> 3.537</td>\n",
        "      <td>  40</td>\n",
        "      <td>  191</td>\n",
        "      <td> 1</td>\n",
        "    </tr>\n",
        "    <tr>\n",
        "      <th>4</th>\n",
        "      <td> 0.00</td>\n",
        "      <td> 0.00</td>\n",
        "      <td> 0.00</td>\n",
        "      <td> 0</td>\n",
        "      <td> 0.63</td>\n",
        "      <td> 0.00</td>\n",
        "      <td> 0.31</td>\n",
        "      <td> 0.63</td>\n",
        "      <td> 0.31</td>\n",
        "      <td> 0.63</td>\n",
        "      <td>...</td>\n",
        "      <td> 0.00</td>\n",
        "      <td> 0.135</td>\n",
        "      <td> 0</td>\n",
        "      <td> 0.135</td>\n",
        "      <td> 0.000</td>\n",
        "      <td> 0.000</td>\n",
        "      <td> 3.537</td>\n",
        "      <td>  40</td>\n",
        "      <td>  191</td>\n",
        "      <td> 1</td>\n",
        "    </tr>\n",
        "    <tr>\n",
        "      <th>5</th>\n",
        "      <td> 0.00</td>\n",
        "      <td> 0.00</td>\n",
        "      <td> 0.00</td>\n",
        "      <td> 0</td>\n",
        "      <td> 1.85</td>\n",
        "      <td> 0.00</td>\n",
        "      <td> 0.00</td>\n",
        "      <td> 1.85</td>\n",
        "      <td> 0.00</td>\n",
        "      <td> 0.00</td>\n",
        "      <td>...</td>\n",
        "      <td> 0.00</td>\n",
        "      <td> 0.223</td>\n",
        "      <td> 0</td>\n",
        "      <td> 0.000</td>\n",
        "      <td> 0.000</td>\n",
        "      <td> 0.000</td>\n",
        "      <td> 3.000</td>\n",
        "      <td>  15</td>\n",
        "      <td>   54</td>\n",
        "      <td> 1</td>\n",
        "    </tr>\n",
        "    <tr>\n",
        "      <th>6</th>\n",
        "      <td> 0.00</td>\n",
        "      <td> 0.00</td>\n",
        "      <td> 0.00</td>\n",
        "      <td> 0</td>\n",
        "      <td> 1.92</td>\n",
        "      <td> 0.00</td>\n",
        "      <td> 0.00</td>\n",
        "      <td> 0.00</td>\n",
        "      <td> 0.00</td>\n",
        "      <td> 0.64</td>\n",
        "      <td>...</td>\n",
        "      <td> 0.00</td>\n",
        "      <td> 0.054</td>\n",
        "      <td> 0</td>\n",
        "      <td> 0.164</td>\n",
        "      <td> 0.054</td>\n",
        "      <td> 0.000</td>\n",
        "      <td> 1.671</td>\n",
        "      <td>   4</td>\n",
        "      <td>  112</td>\n",
        "      <td> 1</td>\n",
        "    </tr>\n",
        "    <tr>\n",
        "      <th>7</th>\n",
        "      <td> 0.00</td>\n",
        "      <td> 0.00</td>\n",
        "      <td> 0.00</td>\n",
        "      <td> 0</td>\n",
        "      <td> 1.88</td>\n",
        "      <td> 0.00</td>\n",
        "      <td> 0.00</td>\n",
        "      <td> 1.88</td>\n",
        "      <td> 0.00</td>\n",
        "      <td> 0.00</td>\n",
        "      <td>...</td>\n",
        "      <td> 0.00</td>\n",
        "      <td> 0.206</td>\n",
        "      <td> 0</td>\n",
        "      <td> 0.000</td>\n",
        "      <td> 0.000</td>\n",
        "      <td> 0.000</td>\n",
        "      <td> 2.450</td>\n",
        "      <td>  11</td>\n",
        "      <td>   49</td>\n",
        "      <td> 1</td>\n",
        "    </tr>\n",
        "    <tr>\n",
        "      <th>8</th>\n",
        "      <td> 0.15</td>\n",
        "      <td> 0.00</td>\n",
        "      <td> 0.46</td>\n",
        "      <td> 0</td>\n",
        "      <td> 0.61</td>\n",
        "      <td> 0.00</td>\n",
        "      <td> 0.30</td>\n",
        "      <td> 0.00</td>\n",
        "      <td> 0.92</td>\n",
        "      <td> 0.76</td>\n",
        "      <td>...</td>\n",
        "      <td> 0.00</td>\n",
        "      <td> 0.271</td>\n",
        "      <td> 0</td>\n",
        "      <td> 0.181</td>\n",
        "      <td> 0.203</td>\n",
        "      <td> 0.022</td>\n",
        "      <td> 9.744</td>\n",
        "      <td> 445</td>\n",
        "      <td> 1257</td>\n",
        "      <td> 1</td>\n",
        "    </tr>\n",
        "    <tr>\n",
        "      <th>9</th>\n",
        "      <td> 0.06</td>\n",
        "      <td> 0.12</td>\n",
        "      <td> 0.77</td>\n",
        "      <td> 0</td>\n",
        "      <td> 0.19</td>\n",
        "      <td> 0.32</td>\n",
        "      <td> 0.38</td>\n",
        "      <td> 0.00</td>\n",
        "      <td> 0.06</td>\n",
        "      <td> 0.00</td>\n",
        "      <td>...</td>\n",
        "      <td> 0.04</td>\n",
        "      <td> 0.030</td>\n",
        "      <td> 0</td>\n",
        "      <td> 0.244</td>\n",
        "      <td> 0.081</td>\n",
        "      <td> 0.000</td>\n",
        "      <td> 1.729</td>\n",
        "      <td>  43</td>\n",
        "      <td>  749</td>\n",
        "      <td> 1</td>\n",
        "    </tr>\n",
        "  </tbody>\n",
        "</table>\n",
        "<p>10 rows \u00d7 58 columns</p>\n",
        "</div>"
       ],
       "metadata": {},
       "output_type": "pyout",
       "prompt_number": 471,
       "text": [
        "   word_freq_make  word_freq_address  word_freq_all  word_freq_3d  \\\n",
        "0            0.00               0.64           0.64             0   \n",
        "1            0.21               0.28           0.50             0   \n",
        "2            0.06               0.00           0.71             0   \n",
        "3            0.00               0.00           0.00             0   \n",
        "4            0.00               0.00           0.00             0   \n",
        "5            0.00               0.00           0.00             0   \n",
        "6            0.00               0.00           0.00             0   \n",
        "7            0.00               0.00           0.00             0   \n",
        "8            0.15               0.00           0.46             0   \n",
        "9            0.06               0.12           0.77             0   \n",
        "\n",
        "   word_freq_our  word_freq_over  word_freq_remove  word_freq_internet  \\\n",
        "0           0.32            0.00              0.00                0.00   \n",
        "1           0.14            0.28              0.21                0.07   \n",
        "2           1.23            0.19              0.19                0.12   \n",
        "3           0.63            0.00              0.31                0.63   \n",
        "4           0.63            0.00              0.31                0.63   \n",
        "5           1.85            0.00              0.00                1.85   \n",
        "6           1.92            0.00              0.00                0.00   \n",
        "7           1.88            0.00              0.00                1.88   \n",
        "8           0.61            0.00              0.30                0.00   \n",
        "9           0.19            0.32              0.38                0.00   \n",
        "\n",
        "   word_freq_order  word_freq_mail       ...        char_freq_;  char_freq_(  \\\n",
        "0             0.00            0.00       ...               0.00        0.000   \n",
        "1             0.00            0.94       ...               0.00        0.132   \n",
        "2             0.64            0.25       ...               0.01        0.143   \n",
        "3             0.31            0.63       ...               0.00        0.137   \n",
        "4             0.31            0.63       ...               0.00        0.135   \n",
        "5             0.00            0.00       ...               0.00        0.223   \n",
        "6             0.00            0.64       ...               0.00        0.054   \n",
        "7             0.00            0.00       ...               0.00        0.206   \n",
        "8             0.92            0.76       ...               0.00        0.271   \n",
        "9             0.06            0.00       ...               0.04        0.030   \n",
        "\n",
        "   char_freq_[  char_freq_!  char_freq_$  char_freq_#  \\\n",
        "0            0        0.778        0.000        0.000   \n",
        "1            0        0.372        0.180        0.048   \n",
        "2            0        0.276        0.184        0.010   \n",
        "3            0        0.137        0.000        0.000   \n",
        "4            0        0.135        0.000        0.000   \n",
        "5            0        0.000        0.000        0.000   \n",
        "6            0        0.164        0.054        0.000   \n",
        "7            0        0.000        0.000        0.000   \n",
        "8            0        0.181        0.203        0.022   \n",
        "9            0        0.244        0.081        0.000   \n",
        "\n",
        "   capital_run_length_average  capital_run_length_longest  \\\n",
        "0                       3.756                          61   \n",
        "1                       5.114                         101   \n",
        "2                       9.821                         485   \n",
        "3                       3.537                          40   \n",
        "4                       3.537                          40   \n",
        "5                       3.000                          15   \n",
        "6                       1.671                           4   \n",
        "7                       2.450                          11   \n",
        "8                       9.744                         445   \n",
        "9                       1.729                          43   \n",
        "\n",
        "   capital_run_length_total  spam  \n",
        "0                       278     1  \n",
        "1                      1028     1  \n",
        "2                      2259     1  \n",
        "3                       191     1  \n",
        "4                       191     1  \n",
        "5                        54     1  \n",
        "6                       112     1  \n",
        "7                        49     1  \n",
        "8                      1257     1  \n",
        "9                       749     1  \n",
        "\n",
        "[10 rows x 58 columns]"
       ]
      }
     ],
     "prompt_number": 471
    },
    {
     "cell_type": "markdown",
     "metadata": {},
     "source": [
      "\u041f\u043e\u0434\u0441\u0447\u0438\u0442\u0430\u0435\u043c \u043a\u043e\u043b\u0438\u0447\u0435\u0441\u0442\u0432\u043e \u0432\u0441\u0435\u0445 \u043f\u0438\u0441\u0435\u043c \u0438 \u043a\u043e\u043b\u0438\u0447\u0435\u0441\u0442\u0432\u043e \u043f\u0438\u0441\u0435\u043c \u0441\u043e \u0441\u043f\u0430\u043c\u043e\u043c:"
     ]
    },
    {
     "cell_type": "code",
     "collapsed": false,
     "input": [
      "print \"\u041a\u043e\u043b\u0438\u0447\u0435\u0441\u0442\u0432\u043e \u043f\u0440\u0438\u043c\u0435\u0440\u043e\u0432 \u0432 \u0434\u0430\u0442\u0430\u0441\u0435\u0442\u0435:\", len(spam_data)\n",
      "spam_data_size = len(spam_data[spam_data['spam'] == 1])\n",
      "spam_data_part = float(spam_data_size) / len(spam_data)\n",
      "print '\u0414\u043e\u043b\u044f \u043f\u043b\u043e\u0445\u0438\u0445 \u043f\u0438\u0441\u0435\u043c:{0} ({1:.1%})'.format(spam_data_size, spam_data_part)"
     ],
     "language": "python",
     "metadata": {},
     "outputs": [
      {
       "output_type": "stream",
       "stream": "stdout",
       "text": [
        "\u041a\u043e\u043b\u0438\u0447\u0435\u0441\u0442\u0432\u043e \u043f\u0440\u0438\u043c\u0435\u0440\u043e\u0432 \u0432 \u0434\u0430\u0442\u0430\u0441\u0435\u0442\u0435: 4601\n",
        "\u0414\u043e\u043b\u044f \u043f\u043b\u043e\u0445\u0438\u0445 \u043f\u0438\u0441\u0435\u043c:1813 (39.4%)\n"
       ]
      }
     ],
     "prompt_number": 472
    },
    {
     "cell_type": "code",
     "collapsed": false,
     "input": [
      "figure(figsize(6, 6))\n",
      "spam = spam_data['spam'].value_counts(normalize = True, sort = False)\n",
      "spam.plot(kind='pie', \n",
      "             labels=['Good mail', 'Spam!'], autopct='%1.f%%', \n",
      "             colormap = 'Set1',\n",
      "             fontsize=20, \n",
      "             shadow=True,\n",
      "             startangle=180)"
     ],
     "language": "python",
     "metadata": {},
     "outputs": [
      {
       "metadata": {},
       "output_type": "pyout",
       "prompt_number": 473,
       "text": [
        "<matplotlib.axes._subplots.AxesSubplot at 0x2864e198>"
       ]
      },
      {
       "metadata": {},
       "output_type": "display_data",
       "png": "[encoded data removed]",
       "text": [
        "<matplotlib.figure.Figure at 0x2864e278>"
       ]
      }
     ],
     "prompt_number": 473
    },
    {
     "cell_type": "code",
     "collapsed": false,
     "input": [
      "print \"\u041a\u043e\u043b\u0438\u0447\u0435\u0441\u0442\u0432\u043e \u043f\u0440\u0438\u0437\u043d\u0430\u043a\u043e\u0432:\", len(feature_names)"
     ],
     "language": "python",
     "metadata": {},
     "outputs": [
      {
       "output_type": "stream",
       "stream": "stdout",
       "text": [
        "\u041a\u043e\u043b\u0438\u0447\u0435\u0441\u0442\u0432\u043e \u043f\u0440\u0438\u0437\u043d\u0430\u043a\u043e\u0432: 57\n"
       ]
      }
     ],
     "prompt_number": 474
    },
    {
     "cell_type": "markdown",
     "metadata": {},
     "source": [
      "\u0412 \u043d\u0430\u0431\u043e\u0440 \u0434\u0430\u043d\u043d\u044b\u0445 SPAM E-mail Database \u0432\u0445\u043e\u0434\u0438\u0442 \u0432\u0441\u0435\u0433\u043e 4601 \u043f\u0438\u0441\u044c\u043c\u043e, \u0438\u0437 \u043d\u0438\u0445 1813 \u043f\u0438\u0441\u0435\u043c  \u044f\u0432\u043b\u044f\u044e\u0442\u0441\u044f \u0441\u043f\u0430\u043c\u043e\u043c (\u0447\u0442\u043e \u0441\u043e\u0441\u0442\u0430\u0432\u043b\u044f\u0435\u0442 39% \u0432\u0441\u0435\u0445 \u043f\u0438\u0441\u0435\u043c). \u041a\u0430\u0436\u0434\u044b\u0439 \u043e\u0431\u044a\u0435\u043a\u0442 \u043d\u0430\u0431\u043e\u0440\u0430 \u043e\u043f\u0438\u0441\u044b\u0432\u0430\u0435\u0442\u0441\u044f 57 \u043f\u0440\u0438\u0437\u043d\u0430\u043a\u0438\u043c\u0438:\n",
      "<ul>\n",
      "    <li>spam - \u041f\u043e\u0441\u043b\u0435\u0434\u043d\u0438\u0439 \u043f\u0440\u0438\u0437\u043d\u0430\u043a \u0433\u043e\u0432\u043e\u0440\u0438\u0442 \u043e \u0442\u043e\u043c, \u044f\u0432\u043b\u044f\u0435\u0442\u0441\u044f \u043b\u0438 \u0434\u0430\u043d\u043d\u043e\u0435 \u043f\u0438\u0441\u044c\u043c\u043e \u0441\u043f\u0430\u043c\u043e\u043c</li>\n",
      "    <li>word_freq_WORD - 48 \u043f\u0440\u0438\u0437\u043d\u0430\u043a\u043e\u0432 \u0441\u043e\u043e\u0442\u0432\u0435\u0442\u0441\u0442\u0432\u0443\u044e\u0442 \u043f\u0440\u043e\u0446\u0435\u043d\u0442\u0443 \u0432\u0441\u0442\u0440\u0435\u0447\u0430\u0435\u043c\u043e\u0441\u0442\u0438 \u0437\u0430\u0434\u0430\u043d\u043d\u044b\u0445 \u0441\u043b\u043e\u0432 \u0432 \u043f\u0438\u0441\u044c\u043c\u0435:\n"
     ]
    },
    {
     "cell_type": "code",
     "collapsed": false,
     "input": [
      "words = []\n",
      "count = 1\n",
      "for feature in feature_names:\n",
      "    if feature.find('word_freq_') == 0:\n",
      "        word = (feature[len('word_freq_'):])\n",
      "        print '{0}. {1}'.format(count, word)\n",
      "        count = count + 1\n",
      "        words.append(word)"
     ],
     "language": "python",
     "metadata": {},
     "outputs": [
      {
       "output_type": "stream",
       "stream": "stdout",
       "text": [
        "1. make\n",
        "2. address\n",
        "3. all\n",
        "4. 3d\n",
        "5. our\n",
        "6. over\n",
        "7. remove\n",
        "8. internet\n",
        "9. order\n",
        "10. mail\n",
        "11. receive\n",
        "12. will\n",
        "13. people\n",
        "14. report\n",
        "15. addresses\n",
        "16. free\n",
        "17. business\n",
        "18. email\n",
        "19. you\n",
        "20. credit\n",
        "21. your\n",
        "22. font\n",
        "23. 000\n",
        "24. money\n",
        "25. hp\n",
        "26. hpl\n",
        "27. george\n",
        "28. 650\n",
        "29. lab\n",
        "30. labs\n",
        "31. telnet\n",
        "32. 857\n",
        "33. data\n",
        "34. 415\n",
        "35. 85\n",
        "36. technology\n",
        "37. 1999\n",
        "38. parts\n",
        "39. pm\n",
        "40. direct\n",
        "41. cs\n",
        "42. meeting\n",
        "43. original\n",
        "44. project\n",
        "45. re\n",
        "46. edu\n",
        "47. table\n",
        "48. conference\n"
       ]
      }
     ],
     "prompt_number": 475
    },
    {
     "cell_type": "markdown",
     "metadata": {},
     "source": [
      "<li> char_freq_CHAR - 6 \u0430\u0442\u0442\u0440\u0438\u0431\u0443\u0442\u043e\u0432 \u0445\u0430\u0440\u0430\u043a\u0442\u0435\u0440\u0438\u0437\u0443\u044e\u0442 \u043f\u0440\u043e\u0446\u0435\u043d\u0442 \u0432\u0441\u0442\u0440\u0435\u0447\u0430\u0435\u043c\u043e\u0441\u0442\u0438 \u0432 \u043f\u0438\u0441\u044c\u043c\u0435 \u0441\u043f\u0435\u0446\u0438\u0430\u043b\u044c\u043d\u044b\u0445 \u0441\u0438\u043c\u0432\u043e\u043b\u043e\u0432:"
     ]
    },
    {
     "cell_type": "code",
     "collapsed": false,
     "input": [
      "symbols = []\n",
      "count = 1\n",
      "for feature in feature_names:\n",
      "    if feature.find('char_freq_') == 0:\n",
      "        symbol = (feature[len('char_freq_'):])\n",
      "        print '{0}. {1}'.format(count, symbol)\n",
      "        count = count + 1\n",
      "        symbols.append(symbol)"
     ],
     "language": "python",
     "metadata": {},
     "outputs": [
      {
       "output_type": "stream",
       "stream": "stdout",
       "text": [
        "1. ;\n",
        "2. (\n",
        "3. [\n",
        "4. !\n",
        "5. $\n",
        "6. #\n"
       ]
      }
     ],
     "prompt_number": 476
    },
    {
     "cell_type": "markdown",
     "metadata": {},
     "source": [
      "<li> \u043f\u0440\u0438\u0437\u043d\u0430\u043a capital_run_length_average - \u0441\u0440\u0435\u0434\u043d\u044f\u044f \u0434\u043b\u0438\u043d\u0430 \u043d\u0435\u043f\u0440\u0435\u0440\u044b\u0432\u043d\u043e\u0439 \u043f\u043e\u0441\u043b\u0435\u0434\u043e\u0432\u0430\u0442\u0435\u043b\u044c\u043d\u043e\u0441\u0442\u0438 \u0437\u0430\u0433\u043b\u0430\u0432\u043d\u044b\u0445 \u0431\u0443\u043a\u0432\n",
      "<li> \u043f\u0440\u0438\u0437\u043d\u0430\u043a capital_run_length_average - \u0434\u043b\u0438\u043d\u0430 \u043d\u0430\u0438\u0431\u043e\u043b\u044c\u0448\u0435\u0439 \u043d\u0435\u043f\u0440\u0435\u0440\u044b\u0432\u043d\u043e\u0439 \u043f\u043e\u0441\u043b\u0435\u0434\u043e\u0432\u0430\u0442\u0435\u043b\u044c\u043d\u043e\u0441\u0442\u0438 \u0437\u0430\u0433\u043b\u0430\u0432\u043d\u044b\u0445 \u0431\u0443\u043a\u0432\n",
      "<li> \u043f\u0440\u0438\u0437\u043d\u0430\u043a capital_run_length_average - \u043e\u0431\u0449\u0435\u0435 \u0447\u0438\u0441\u043b\u043e \u0437\u0430\u0433\u043b\u0430\u0432\u043d\u044b\u0445 \u0431\u0443\u043a\u0432 \u0432 \u043f\u0438\u0441\u044c\u043c\u0435\n",
      "</ul>"
     ]
    },
    {
     "cell_type": "heading",
     "level": 3,
     "metadata": {},
     "source": [
      "2. \u041e\u0431\u0443\u0447\u0435\u043d\u0438\u0435 \u043a\u043b\u0430\u0441\u0441\u0438\u0444\u0438\u043a\u0430\u0442\u043e\u0440\u0430 \u0438 \u043e\u0446\u0435\u043d\u043a\u0430 \u0435\u0433\u043e \u043a\u0430\u0447\u0435\u0441\u0442\u0432\u0430"
     ]
    },
    {
     "cell_type": "markdown",
     "metadata": {},
     "source": [
      "\u0420\u0430\u0437\u043e\u0431\u044c\u0435\u043c \u043d\u0430\u0431\u043e\u0440 \u043f\u0440\u0438\u043c\u0435\u0440\u043e\u0432 \u043d\u0430 \u0434\u0432\u0435 \u043d\u0435\u043f\u0435\u0440\u0435\u0441\u0435\u043a\u0430\u044e\u0449\u0438\u0435\u0441\u044f \u043f\u043e\u0434\u0432\u044b\u0431\u043e\u0440\u043a\u0438: train, \u0441\u043e\u0434\u0435\u0440\u0436\u0430\u0449\u0443\u044e \u043f\u0435\u0440\u0432\u044b\u0435 3000 \u043f\u0440\u0438\u043c\u0435\u0440\u043e\u0432, \u0438 test, \u0441\u043e\u0434\u0435\u0440\u0436\u0430\u0449\u0443\u044e \u0432\u0441\u0435 \u043e\u0441\u0442\u0430\u043b\u044c\u043d\u044b\u0435 \u043f\u0440\u0438\u043c\u0435\u0440\u044b, \u043f\u043e\u0441\u0442\u0440\u043e\u0438\u043c \u0440\u0435\u0448\u0430\u044e\u0449\u0435\u0435 \u0434\u0435\u0440\u0435\u0432\u043e \u0438 \u043f\u0440\u043e\u0432\u0435\u0440\u0438\u043c \u0435\u0433\u043e \u043d\u0430 \u0442\u0435\u0441\u0442\u043e\u0432\u043e\u0439 \u0432\u044b\u0431\u043e\u0440\u043a\u0435:"
     ]
    },
    {
     "cell_type": "code",
     "collapsed": false,
     "input": [
      "models = []\n",
      "train_set_size = 3000\n",
      "def GetClassifierPredicition(dataset, Classifier):\n",
      "    data = dataset.drop(['spam'], axis=1)\n",
      "    train_set_size = 3000\n",
      "    train_X = data[:train_set_size]\n",
      "    train_y = dataset[:train_set_size]['spam']\n",
      "    test_X = data[train_set_size:]\n",
      "    \n",
      "    classifier = Classifier.fit(train_X, train_y)\n",
      "    models.append(classifier)\n",
      "    return classifier.predict(test_X)\n",
      "\n",
      "dt_classifier = DecisionTreeClassifier(max_depth=7, criterion='gini')\n",
      "y_pred = GetClassifierPredicition(spam_data, dt_classifier)"
     ],
     "language": "python",
     "metadata": {},
     "outputs": [],
     "prompt_number": 477
    },
    {
     "cell_type": "markdown",
     "metadata": {},
     "source": [
      "\u041f\u043e\u0441\u0447\u0438\u0442\u0430\u0435\u043c \u043c\u0435\u0442\u0440\u0438\u043a\u0438 \u043a\u0430\u0447\u0435\u0441\u0442\u0432\u0430 \u043a\u043b\u0430\u0441\u0441\u0438\u0444\u0438\u043a\u0430\u0446\u0438\u0438:"
     ]
    },
    {
     "cell_type": "code",
     "collapsed": false,
     "input": [
      "def CalculateErrors(y_pred, test_y):\n",
      "    TP = 0\n",
      "    FP = 0\n",
      "    FN = 0\n",
      "    TN = 0\n",
      "    total = len(y_pred)\n",
      "    for predict_y, real_y in zip(y_pred, test_y):\n",
      "        if predict_y == 1:\n",
      "            if real_y == 1:\n",
      "                TP = TP + 1\n",
      "            else:\n",
      "                FP = FP + 1\n",
      "        else:\n",
      "            if real_y == 0:\n",
      "                TN = TN + 1\n",
      "            else:\n",
      "                FN = FN + 1\n",
      "    TP = float(TP)/total\n",
      "    TN = float(TN)/total\n",
      "    FP = float(FP)/total\n",
      "    FN = float(FN)/total\n",
      "    print 'True Positive: {0:.2%}'.format(TP)\n",
      "    print 'True Negative: {0:.2%}'.format(TN)\n",
      "    print 'False Positive: {0:.2%}'.format(FP)\n",
      "    print 'False Negative: {0:.2%}'.format(FN)\n",
      "    return (TP, FP, TN, FN)\n",
      "\n",
      "test_y = spam_data[train_set_size:]['spam']\n",
      "TP, FP, TN, FN = CalculateErrors(y_pred, test_y)\n",
      "\n",
      "models_quality_df = pandas.DataFrame(columns=('Classifier', 'TP', 'FP', 'TN', 'FN', 'Accuracy', 'Percision', 'Recall', 'F1'))"
     ],
     "language": "python",
     "metadata": {},
     "outputs": [
      {
       "output_type": "stream",
       "stream": "stdout",
       "text": [
        "True Positive: 0.00%\n",
        "True Negative: 77.01%\n",
        "False Positive: 22.99%\n",
        "False Negative: 0.00%\n"
       ]
      }
     ],
     "prompt_number": 478
    },
    {
     "cell_type": "code",
     "collapsed": false,
     "input": [
      "def CalculateAccuracy(TP, FP, TN, FN):\n",
      "    return (TP + TN) / (TP + TN + FP + FN)\n",
      "\n",
      "def CalculatePercision(TP, FP, TN, FN):\n",
      "    positive = TP + FP\n",
      "    if positive != 0:\n",
      "        return TP / positive\n",
      "    return -1\n",
      "\n",
      "def CalculateRecall(TP, FP, TN, FN):\n",
      "    val = TP + FN\n",
      "    if val != 0:\n",
      "        return TP / val\n",
      "    return NaN\n",
      "\n",
      "def CalculateF1Measure(TP, FP, TN, FN):\n",
      "    val = 2*TP + FP + FN\n",
      "    if val != 0:\n",
      "        return 2 * TP / val\n",
      "    return NaN\n"
     ],
     "language": "python",
     "metadata": {},
     "outputs": [],
     "prompt_number": 479
    },
    {
     "cell_type": "code",
     "collapsed": false,
     "input": [
      "def CalculateQualityMetrics(TP, FP, TN, FN, clas_name):\n",
      "    accuracy = CalculateAccuracy(TP, FP, TN, FN)\n",
      "    percision = CalculatePercision(TP, FP, TN, FN)\n",
      "    recall = CalculateRecall(TP, FP, TN, FN)\n",
      "    f1 = CalculateF1Measure(TP, FP, TN, FN)\n",
      "    index = len(models_quality_df)\n",
      "    values = [TP, FP, TN, FN,accuracy, percision, recall, f1]\n",
      "    models_quality_df.loc[index] = [clas_name] + [x * 100 for x in values]\n",
      "    index = index + 1\n",
      "    \n",
      "    print '\u0414\u043e\u043b\u044f \u043f\u0440\u0430\u0432\u0438\u043b\u044c\u043d\u044b\u0445 \u043e\u0442\u0432\u0435\u0442\u043e\u0432: {0:.2%}'.format(accuracy)\n",
      "    print '\u0414\u043e\u043b\u044f \u0441\u043f\u0430\u043c\u0430 \u0441\u0440\u0435\u0434\u0438 \u043f\u0438\u0441\u0435\u043c, \u043a\u043b\u0430\u0441\u0441\u0438\u0444\u0438\u0446\u0438\u0440\u043e\u0432\u0430\u043d\u043d\u044b\u0445 \u043a\u0430\u043a \u0441\u043f\u0430\u043c: {0:.2%}'.format(percision)\n",
      "    print '\u0414\u043e\u043b\u044f \u043e\u0442\u0444\u0438\u043b\u044c\u0442\u0440\u043e\u0432\u0430\u043d\u043d\u043e\u0433\u043e \u0441\u043f\u0430\u043c\u0430:  {0:.2%}'.format(recall)\n",
      "    print 'C\u0440\u0435\u0434\u043d\u0435\u0435 \u0433\u0430\u0440\u043c\u043e\u043d\u0438\u0447\u0435\u0441\u043a\u043e\u0435 \u043c\u0435\u0436\u0434\u0443 \u0442\u043e\u0447\u043d\u043e\u0441\u0442\u044c\u044e \u0438 \u043f\u043e\u043b\u043d\u043e\u0442\u043e\u0439: {0:.2%}'.format(f1)\n",
      "    \n",
      "CalculateQualityMetrics(TP, FP, TN, FN, \"dt\")"
     ],
     "language": "python",
     "metadata": {},
     "outputs": [
      {
       "output_type": "stream",
       "stream": "stdout",
       "text": [
        "\u0414\u043e\u043b\u044f \u043f\u0440\u0430\u0432\u0438\u043b\u044c\u043d\u044b\u0445 \u043e\u0442\u0432\u0435\u0442\u043e\u0432: 77.01%\n",
        "\u0414\u043e\u043b\u044f \u0441\u043f\u0430\u043c\u0430 \u0441\u0440\u0435\u0434\u0438 \u043f\u0438\u0441\u0435\u043c, \u043a\u043b\u0430\u0441\u0441\u0438\u0444\u0438\u0446\u0438\u0440\u043e\u0432\u0430\u043d\u043d\u044b\u0445 \u043a\u0430\u043a \u0441\u043f\u0430\u043c: 0.00%\n",
        "\u0414\u043e\u043b\u044f \u043e\u0442\u0444\u0438\u043b\u044c\u0442\u0440\u043e\u0432\u0430\u043d\u043d\u043e\u0433\u043e \u0441\u043f\u0430\u043c\u0430:  nan%\n",
        "C\u0440\u0435\u0434\u043d\u0435\u0435 \u0433\u0430\u0440\u043c\u043e\u043d\u0438\u0447\u0435\u0441\u043a\u043e\u0435 \u043c\u0435\u0436\u0434\u0443 \u0442\u043e\u0447\u043d\u043e\u0441\u0442\u044c\u044e \u0438 \u043f\u043e\u043b\u043d\u043e\u0442\u043e\u0439: 0.00%\n"
       ]
      }
     ],
     "prompt_number": 480
    },
    {
     "cell_type": "markdown",
     "metadata": {},
     "source": [
      "\u041f\u043e \u043f\u043e\u043b\u0443\u0447\u0435\u043d\u043d\u044b\u043c \u043c\u0435\u0442\u0440\u0438\u043a\u0430\u043c \u043c\u043e\u0436\u043d\u043e \u0441\u0434\u0435\u043b\u0430\u0442\u044c \u0432\u044b\u0432\u043e\u0434, \u0447\u0442\u043e \u0432\u0441\u0435 \u0442\u0435\u0441\u0442\u043e\u0432\u0430\u044f \u0432\u044b\u0431\u043e\u0440\u043a\u0430 \u0441\u043e\u0441\u0442\u043e\u044f\u043b\u0430 \u0438\u0437 \u043f\u0440\u0438\u043c\u0435\u0440\u043e\u0432, \u043d\u0435 \u044f\u0432\u043b\u044f\u044e\u0449\u0438\u0445\u0441\u044f \u0441\u043f\u0430\u043c\u043e\u043c. \u041d\u0430 \u044d\u0442\u043e\u0439 \u0432\u044b\u0431\u043e\u0440\u043a\u0435 \u043c\u044b \u043d\u0435 \u043c\u043e\u0436\u0435\u043c \u043a\u043e\u0440\u0440\u0435\u043a\u0442\u043d\u043e \u043e\u0446\u0435\u043d\u0438\u0442\u044c \u043a\u0430\u0447\u0435\u0441\u0442\u0432\u043e \u043f\u043e\u0441\u0442\u0440\u043e\u0435\u043d\u043d\u043e\u0439 \u043c\u043e\u0434\u0435\u043b\u0438. \u0417\u0434\u0435\u0441\u044c \u043c\u044b \u0432\u0438\u0434\u0435\u043c \u0442\u043e\u043b\u044c\u043a\u043e, \u0447\u0442\u043e \u0432 77% \u0441\u043b\u0443\u0447\u0430\u0435\u0432 \u0430\u043b\u0433\u043e\u0440\u0438\u0442\u043c \u043a\u043e\u0440\u0440\u0435\u043a\u0442\u043d\u043e \u043e\u0431\u0440\u0430\u0431\u0430\u0442\u044b\u0432\u0430\u0435\u0442 \u043f\u0438\u0441\u044c\u043c\u0430, \u043a\u043e\u0442\u043e\u0440\u044b\u0435 \u0441\u043f\u0430\u043c\u043e\u043c \u043d\u0435 \u044f\u0432\u043b\u044f\u044e\u0442\u0441\u044f, \u043f\u0440\u0438 \u044d\u0442\u043e\u043c \u0442\u0430\u043a \u043a\u0430\u043a \u043f\u043e\u043b\u043d\u043e\u0442\u0430 \u043a\u043b\u0430\u0441\u0441\u0438\u0444\u0438\u043a\u0430\u0446\u0438\u0438 \u043d\u0435 \u043e\u043f\u0440\u0435\u0434\u0435\u043b\u0435\u043d\u0430, \u0442\u043e \u043c\u044b \u043d\u0435 \u043c\u043e\u0436\u0435\u043c \u043f\u043e\u043d\u044f\u0442\u044c, \u043d\u0430\u0441\u043a\u043e\u043b\u044c\u043a\u043e \u0445\u043e\u0440\u043e\u0448\u043e \u043f\u043e\u0441\u0442\u0440\u043e\u0435\u043d\u043d\u0430\u044f \u043c\u043e\u0434\u0435\u043b\u044c \u0432\u044b\u043f\u043e\u043b\u043d\u044f\u0435\u0442 \u0441\u0432\u043e\u044e \u043f\u0440\u044f\u043c\u0443\u044e \u0437\u0430\u0434\u0430\u0447\u0443 - \u043e\u0442\u0444\u0438\u043b\u044c\u0442\u0440\u043e\u0432\u044b\u0432\u0430\u0435\u0442 \u0441\u043f\u0430\u043c. \u041f\u043e\u044d\u0442\u043e\u043c\u0443, \u043c\u043e\u0436\u043d\u043e \u0441\u0434\u0435\u043b\u0430\u0442\u044c \u0432\u044b\u0432\u043e\u0434, \u0447\u0442\u043e \u0432 \u0434\u0430\u043d\u043d\u043e\u043c \u0441\u043b\u0443\u0447\u0430\u0435 \u0440\u0430\u0437\u0431\u0438\u0435\u043d\u0438\u0435 \u043d\u0430 \u043e\u0431\u0443\u0447\u0430\u044e\u0449\u0443\u044e \u0438 \u0442\u0435\u0441\u0442\u043e\u0432\u0443\u044e \u0432\u044b\u0431\u043e\u0440\u043a\u0443 \u043e\u043a\u0430\u0437\u0430\u043b\u043e\u0441\u044c \u043d\u0435\u0443\u0434\u0430\u0447\u043d\u044b\u043c. \n",
      "\u0427\u0442\u043e\u0431\u044b \u0441\u0434\u0435\u043b\u0430\u0442\u044c \u043e\u0446\u0435\u043d\u043a\u0443 \u043a\u0430\u0447\u0435\u0441\u0442\u0432\u0430 \u043c\u043e\u0434\u0435\u043b\u0438 \u0431\u043e\u043b\u0435\u0435 \u0438\u043d\u0444\u043e\u0440\u043c\u0430\u0442\u0438\u0432\u043d\u043e\u0439, \u043d\u0443\u0436\u043d\u043e \u0440\u0430\u0441\u0441\u043c\u043e\u0442\u0440\u0435\u0442\u044c \u0434\u0440\u0443\u0433\u0438\u0435 \u0440\u0430\u0437\u0431\u0438\u0435\u043d\u0438\u044f \u043d\u0430\u0431\u043e\u0440\u0430 \u0434\u0430\u043d\u043d\u044b\u0445 \u043d\u0430 \u0442\u0435\u0441\u0442\u043e\u0432\u0443\u044e \u0438 \u043e\u0431\u0443\u0447\u0430\u044e\u0449\u0443\u044e \u0432\u044b\u0431\u043e\u0440\u043a\u0438. \u0414\u043b\u044f \u043f\u0440\u0438\u043c\u0435\u0440\u0430 \u0440\u0430\u0441\u0441\u043c\u043e\u0442\u0440\u0438\u043c \u0441\u043b\u0443\u0447\u0430\u0439\u043d\u043e\u0435 \u0440\u0430\u0437\u0431\u0438\u0435\u043d\u0438\u0435:"
     ]
    },
    {
     "cell_type": "code",
     "collapsed": false,
     "input": [
      "mixed_dataset = spam_data.reindex(np.random.permutation(spam_data.index))\n",
      "dt_classifier = DecisionTreeClassifier(max_depth=7, criterion='gini')\n",
      "y_pred = GetClassifierPredicition(mixed_dataset, dt_classifier)\n",
      "test_y = mixed_dataset[train_set_size:]['spam']\n",
      "TP, FP, TN, FN = CalculateErrors(y_pred, test_y)\n",
      "CalculateQualityMetrics(TP, FP, TN, FN, 'dt_mixed')\n"
     ],
     "language": "python",
     "metadata": {},
     "outputs": [
      {
       "output_type": "stream",
       "stream": "stdout",
       "text": [
        "True Positive: 32.67%\n",
        "True Negative: 58.34%\n",
        "False Positive: 3.25%\n",
        "False Negative: 5.75%\n",
        "\u0414\u043e\u043b\u044f \u043f\u0440\u0430\u0432\u0438\u043b\u044c\u043d\u044b\u0445 \u043e\u0442\u0432\u0435\u0442\u043e\u0432: 91.01%\n",
        "\u0414\u043e\u043b\u044f \u0441\u043f\u0430\u043c\u0430 \u0441\u0440\u0435\u0434\u0438 \u043f\u0438\u0441\u0435\u043c, \u043a\u043b\u0430\u0441\u0441\u0438\u0444\u0438\u0446\u0438\u0440\u043e\u0432\u0430\u043d\u043d\u044b\u0445 \u043a\u0430\u043a \u0441\u043f\u0430\u043c: 90.96%\n",
        "\u0414\u043e\u043b\u044f \u043e\u0442\u0444\u0438\u043b\u044c\u0442\u0440\u043e\u0432\u0430\u043d\u043d\u043e\u0433\u043e \u0441\u043f\u0430\u043c\u0430:  85.04%\n",
        "C\u0440\u0435\u0434\u043d\u0435\u0435 \u0433\u0430\u0440\u043c\u043e\u043d\u0438\u0447\u0435\u0441\u043a\u043e\u0435 \u043c\u0435\u0436\u0434\u0443 \u0442\u043e\u0447\u043d\u043e\u0441\u0442\u044c\u044e \u0438 \u043f\u043e\u043b\u043d\u043e\u0442\u043e\u0439: 87.90%\n"
       ]
      }
     ],
     "prompt_number": 481
    },
    {
     "cell_type": "markdown",
     "metadata": {},
     "source": [
      "\u0422\u0430\u043a\u0438\u043c \u043e\u0431\u0440\u0430\u0437\u043e\u043c, \u043f\u0435\u0440\u0435\u043c\u0435\u0448\u0430\u0432 \u0434\u0430\u043d\u043d\u044b\u0435 \u0432 \u0438\u0441\u0445\u043e\u0434\u043d\u043e\u043c \u043d\u0430\u0431\u043e\u0440\u0435, \u043c\u044b \u0441\u043c\u043e\u0433\u043b\u0438 \u043f\u043e\u043b\u0443\u0447\u0438\u0442\u044c \u0431\u043e\u043b\u0435\u0435 \u0445\u043e\u0440\u043e\u0448\u0435\u0435 \u0440\u0430\u0437\u0431\u0438\u0435\u043d\u0438\u0435 \u0432\u044b\u0431\u043e\u0440\u043a\u0438 \u043d\u0430 train \u0438 test. \u0422\u0435\u043f\u0440\u044c \u043e\u0446\u0435\u043d\u043a\u0438 \u043a\u0430\u0447\u0435\u0441\u0442\u0432\u0430 \u0445\u043e\u0440\u043e\u0448\u043e \u0445\u0430\u0440\u0430\u043a\u0442\u0435\u0440\u0438\u0437\u0443\u044e\u0442 \u043f\u043e\u043b\u0443\u0447\u0435\u043d\u043d\u0443\u044e \u043c\u043e\u0434\u0435\u043b\u044c. \u041e\u043d\u0430 \u0443\u0441\u043f\u0435\u0448\u043d\u043e \u043e\u0442\u0431\u0438\u0440\u0430\u0435\u0442 85% \u0441\u043f\u0430\u043c\u0430, \u0438 \u043f\u0440\u0438 \u044d\u0442\u043e\u043c \u043e\u0442\u043f\u0440\u0430\u0432\u043b\u044f\u0435\u0442 \u0432 \u0441\u043f\u0430\u043c \u0442\u043e\u043b\u044c\u043a\u043e 3% \"\u0445\u043e\u0440\u043e\u0448\u0438\u0445\" \u043f\u0438\u0441\u0435\u043c."
     ]
    },
    {
     "cell_type": "markdown",
     "metadata": {},
     "source": [
      "\u0412\u044b\u0434\u0435\u043b\u0438\u043c \u043f\u0440\u0438\u0437\u043d\u0430\u043a\u0438, \u043a\u043e\u0442\u043e\u0440\u044b\u0435 \u043e\u043a\u0430\u0437\u0430\u043b\u0438\u0441\u044c \u043d\u0430\u0438\u0431\u043e\u043b\u0435\u0435 \u0432\u0430\u0436\u043d\u044b\u043c\u0438 \u043f\u0440\u0438 \u043e\u043f\u0440\u0435\u0434\u0435\u043b\u0435\u043d\u0438\u0438 \u0441\u043f\u0430\u043c\u0430. \n",
      "\u0412\u0430\u0436\u043d\u043e\u0441\u0442\u044c \u043f\u0440\u0438\u0437\u043d\u0430\u043a\u043e\u0432 \u0432\u044b\u0447\u0438\u0441\u043b\u044f\u0435\u0442\u0441\u044f \u043d\u0430 \u043e\u0441\u043d\u043e\u0432\u0430\u043d\u0438\u0438 \u0447\u0430\u0441\u0442\u043e\u0442\u044b \u0440\u0430\u0437\u0431\u0438\u0435\u043d\u0438\u044f \u043f\u043e \u043f\u0440\u0438\u0437\u043d\u0430\u043a\u0443 \u0438 \u0433\u043b\u0443\u0431\u0438\u043d\u044b \u0443\u0437\u043b\u043e\u0432 \u0434\u0435\u0440\u0435\u0432\u0430 \u0432 \u043a\u043e\u0442\u043e\u0440\u044b\u0445 \u043f\u0440\u043e\u0438\u0441\u0445\u043e\u0434\u0438\u043b\u043e \u0440\u0430\u0437\u0431\u0438\u0435\u043d\u0438\u0435 \u043f\u043e \u043f\u0440\u0438\u0437\u043d\u0430\u043a\u0443."
     ]
    },
    {
     "cell_type": "code",
     "collapsed": false,
     "input": [
      "most_important_features = argsort(dt_classifier.feature_importances_)[::-1]\n",
      "for idx in most_important_features:\n",
      "    if dt_classifier.feature_importances_[idx] > 0:\n",
      "        print '%s, importance = %.5f' % (feature_names[idx], dt_classifier.feature_importances_[idx])"
     ],
     "language": "python",
     "metadata": {},
     "outputs": [
      {
       "output_type": "stream",
       "stream": "stdout",
       "text": [
        "char_freq_$, importance = 0.42004\n",
        "word_freq_remove, importance = 0.20311\n",
        "char_freq_!, importance = 0.08789\n",
        "word_freq_hp, importance = 0.06894\n",
        "capital_run_length_total, importance = 0.03977\n",
        "word_freq_edu, importance = 0.02836\n",
        "word_freq_money, importance = 0.02364\n",
        "word_freq_george, importance = 0.02362\n",
        "word_freq_free, importance = 0.02263\n",
        "capital_run_length_average, importance = 0.01485\n",
        "capital_run_length_longest, importance = 0.01332\n",
        "word_freq_you, importance = 0.01089\n",
        "word_freq_1999, importance = 0.00938\n",
        "word_freq_hpl, importance = 0.00657\n",
        "word_freq_our, importance = 0.00490\n",
        "word_freq_conference, importance = 0.00331\n",
        "word_freq_meeting, importance = 0.00317\n",
        "word_freq_project, importance = 0.00306\n",
        "word_freq_receive, importance = 0.00291\n",
        "word_freq_business, importance = 0.00269\n",
        "char_freq_;, importance = 0.00195\n",
        "word_freq_mail, importance = 0.00168\n",
        "word_freq_order, importance = 0.00160\n",
        "word_freq_over, importance = 0.00116\n",
        "word_freq_report, importance = 0.00054\n"
       ]
      }
     ],
     "prompt_number": 482
    },
    {
     "cell_type": "markdown",
     "metadata": {},
     "source": [
      "\u0422\u0430\u043a\u0438\u043c \u043e\u0431\u0440\u0430\u0437\u043e\u043c, \u043d\u0430\u0438\u0431\u043e\u043b\u0435\u0435 \u0432\u0430\u0436\u043d\u044b\u043c\u0438 \u043f\u0440\u0438\u0437\u043d\u0430\u043a\u0430\u043c\u0438 \u0434\u043b\u044f \u0444\u0438\u043b\u044c\u0442\u0440\u0430\u0446\u0438\u0438 \u0441\u043f\u0430\u043c\u0430 \u043e\u043a\u0430\u0437\u0430\u043b\u0438\u0441\u044c:\n",
      "<ul>\n",
      "    <li> \u0421\u0438\u043c\u0432\u043e\u043b\u044b $ \u0438 !\n",
      "    <li> \u0421\u043b\u043e\u0432\u0430 remove, hp, free, edu\n",
      "    <li> \u0414\u043b\u0438\u043d\u0430 \u043d\u0430\u0438\u0431\u043e\u043b\u044c\u0448\u0435\u0439 \u043d\u0435\u043f\u0440\u0435\u0440\u044b\u0432\u043d\u043e\u0439 \u043f\u043e\u0441\u043b\u0435\u0434\u043e\u0432\u0430\u0442\u0435\u043b\u044c\u043d\u043e\u0441\u0442\u0438 \u0437\u0430\u0433\u043b\u0430\u0432\u043d\u044b\u0445 \u0431\u0443\u043a\u0432.\n",
      " </ul>"
     ]
    },
    {
     "cell_type": "markdown",
     "metadata": {},
     "source": [
      "\u0420\u0430\u0441\u0441\u043c\u043e\u0442\u0440\u0438\u043c \u043a\u043e\u043d\u0441\u0442\u0430\u043d\u0442\u043d\u0443\u044e \u043c\u043e\u0434\u0435\u043b\u044c, \u043a\u043e\u0442\u043e\u0440\u0430\u044f \u0441\u0447\u0438\u0442\u0430\u0435\u0442 \u043a\u0430\u0436\u0434\u043e\u0435 \u043f\u0438\u0441\u044c\u043c\u043e \u0441\u043f\u0430\u043c\u043e\u043c. \u041e\u0446\u0435\u043d\u0438\u043c \u043a\u0430\u0447\u0435\u0442\u0441\u0432\u043e \u0434\u0430\u043d\u043d\u043e\u0439 \u043c\u043e\u0434\u0435\u043b\u0438."
     ]
    },
    {
     "cell_type": "code",
     "collapsed": false,
     "input": [
      "mixed_dataset = spam_data.reindex(np.random.permutation(spam_data.index))\n",
      "const_classifier = DummyClassifier(strategy='constant', constant=1)\n",
      "y_pred = GetClassifierPredicition(mixed_dataset, const_classifier)\n",
      "test_y = mixed_dataset[train_set_size:]['spam']\n",
      "TP, FP, TN, FN = CalculateErrors(y_pred, test_y)\n",
      "\n",
      "CalculateQualityMetrics(TP, FP, TN, FN, '\u0441onst')"
     ],
     "language": "python",
     "metadata": {},
     "outputs": [
      {
       "output_type": "stream",
       "stream": "stdout",
       "text": [
        "True Positive: 37.85%\n",
        "True Negative: 0.00%\n",
        "False Positive: 62.15%\n",
        "False Negative: 0.00%\n",
        "\u0414\u043e\u043b\u044f \u043f\u0440\u0430\u0432\u0438\u043b\u044c\u043d\u044b\u0445 \u043e\u0442\u0432\u0435\u0442\u043e\u0432: 37.85%\n",
        "\u0414\u043e\u043b\u044f \u0441\u043f\u0430\u043c\u0430 \u0441\u0440\u0435\u0434\u0438 \u043f\u0438\u0441\u0435\u043c, \u043a\u043b\u0430\u0441\u0441\u0438\u0444\u0438\u0446\u0438\u0440\u043e\u0432\u0430\u043d\u043d\u044b\u0445 \u043a\u0430\u043a \u0441\u043f\u0430\u043c: 37.85%\n",
        "\u0414\u043e\u043b\u044f \u043e\u0442\u0444\u0438\u043b\u044c\u0442\u0440\u043e\u0432\u0430\u043d\u043d\u043e\u0433\u043e \u0441\u043f\u0430\u043c\u0430:  100.00%\n",
        "C\u0440\u0435\u0434\u043d\u0435\u0435 \u0433\u0430\u0440\u043c\u043e\u043d\u0438\u0447\u0435\u0441\u043a\u043e\u0435 \u043c\u0435\u0436\u0434\u0443 \u0442\u043e\u0447\u043d\u043e\u0441\u0442\u044c\u044e \u0438 \u043f\u043e\u043b\u043d\u043e\u0442\u043e\u0439: 54.92%\n"
       ]
      }
     ],
     "prompt_number": 483
    },
    {
     "cell_type": "markdown",
     "metadata": {},
     "source": [
      "\u041e\u0447\u0435\u0432\u0438\u0434\u043d\u043e, \u0447\u0442\u043e \u0442\u0430\u043a\u0430\u044f \u043a\u043e\u043d\u0441\u0442\u0430\u043d\u0442\u043d\u0430\u044f \u043c\u043e\u0434\u0435\u043b\u044c \u0432 100% \u0441\u043b\u0443\u0447\u0430\u0435\u0432 \u0443\u0441\u043f\u0435\u0448\u043d\u043e \u043a\u043b\u0430\u0441\u0441\u0438\u0444\u0438\u0446\u0438\u0440\u0443\u0435\u0442 \u043f\u0438\u0441\u044c\u043c\u0430 \u0441\u043e \u0441\u043f\u0430\u043c\u043e\u043c. \u041d\u043e \u043f\u0440\u0438 \u044d\u0442\u043e\u043c \u043a\u043b\u0430\u0441\u0441\u0438\u0444\u0438\u043a\u0430\u0442\u043e\u0440 \u0447\u0430\u0441\u0442\u043e \u043e\u0448\u0438\u0431\u0430\u0435\u0442\u0441\u044f (62 %): \u043e\u0442\u043f\u0440\u0430\u0432\u043b\u044f\u0435\u0442 \u0432 \u0441\u043f\u0430\u043c \"\u0445\u043e\u0440\u043e\u0448\u0435\u0435\" \u043f\u0438\u0441\u044c\u043c\u043e. \u0422\u0430\u043a\u0430\u044f \u043e\u0448\u0438\u0431\u043a\u0430 \u0432 \u0434\u0430\u043d\u043d\u043e\u043c \u0441\u043b\u0443\u0447\u0430\u0435 \u044f\u0432\u043b\u044f\u0435\u0442\u0441\u044f \u0431\u043e\u043b\u0435\u0435 \u043a\u0440\u0438\u0442\u0438\u0447\u043d\u043e\u0439, \u0447\u0435\u043c \u043f\u0440\u043e\u043f\u0443\u0449\u0435\u043d\u043d\u043e\u0435 \u043f\u0438\u0441\u044c\u043c\u043e \u0441\u043e \u0441\u043f\u0430\u043c\u043e\u043c, \u0442\u0430\u043a \u043a\u0430\u043a \u0432 \u0441\u043f\u0430\u043c \u043c\u043e\u0436\u0435\u0442 \u043e\u0442\u043f\u0440\u0430\u0432\u0442\u044c\u0441\u044f \u043e\u0447\u0435\u043d\u044c \u0432\u0430\u0436\u043d\u043e\u0435 \u043f\u0438\u0441\u044c\u043c\u043e, \u043e \u0447\u0435\u043c \u043f\u043e\u043b\u044c\u0437\u043e\u0432\u0430\u0442\u0435\u043b\u044e \u0435\u0434\u0432\u0430 \u043b\u0438 \u0441\u0442\u0430\u043d\u0435\u0442 \u0438\u0437\u0432\u0435\u0441\u0442\u043d\u043e. "
     ]
    },
    {
     "cell_type": "markdown",
     "metadata": {},
     "source": [
      "\u0422\u0435\u043f\u0435\u0440\u044c \u043f\u0440\u0438\u043c\u0435\u043d\u0438\u043c \u043a \u043d\u0430\u0431\u043e\u0440\u0443 \u0434\u0430\u043d\u043d\u044b\u0445 \u043c\u0435\u0442\u0440\u0438\u0447\u0435\u0441\u043a\u0438\u0439 \u0430\u043b\u0433\u043e\u0440\u0438\u0442\u043c \u043a\u043b\u0430\u0441\u0441\u0438\u0444\u0438\u043a\u0430\u0446\u0438\u0438 - \u043c\u0435\u0442\u043e\u0434 \u0431\u043b\u0438\u0436\u0430\u0439\u0448\u0438\u0445 \u0441\u043e\u0441\u0435\u0434\u0435\u0439. \u041f\u0440\u0438 \u043f\u043e\u0441\u0442\u0440\u043e\u0435\u043d\u0438\u0438 \u0431\u0443\u0434\u0435\u043c \u0440\u0430\u0441\u0441\u043c\u0430\u0442\u0440\u0438\u0432\u0430\u0442\u044c 10 \u0431\u043b\u0438\u0436\u0430\u0439\u0448\u0438\u0445 \u0441\u043e\u0441\u0435\u0434\u0435\u0439, \u0440\u0430\u0441\u0441\u0442\u043e\u044f\u043d\u0438\u0435 \u043e\u043f\u0440\u0435\u0434\u0435\u043b\u0438\u043c \u0441 \u043f\u043e\u043c\u043e\u0449\u044c\u044e \u0435\u0432\u043a\u043b\u0438\u0434\u043e\u0432\u043e\u0439 \u043c\u0435\u0442\u0440\u0438\u043a\u0438."
     ]
    },
    {
     "cell_type": "code",
     "collapsed": false,
     "input": [
      "knn_classifier = KNeighborsClassifier(n_neighbors=10)\n",
      "y_pred = GetClassifierPredicition(mixed_dataset, knn_classifier)\n",
      "test_y = mixed_dataset[train_set_size:]['spam']"
     ],
     "language": "python",
     "metadata": {},
     "outputs": [],
     "prompt_number": 484
    },
    {
     "cell_type": "markdown",
     "metadata": {},
     "source": [
      "\u041e\u0446\u0435\u043d\u0438\u043c \u043a\u0430\u0447\u0435\u0441\u0442\u0432\u043e \u043f\u043e\u0441\u0442\u0440\u043e\u0435\u043d\u043d\u043e\u0439 \u043c\u043e\u0434\u0435\u043b\u0438 \u043d\u0430 \u0442\u0435\u0441\u0442\u043e\u0432\u043e\u0439 \u0432\u044b\u0431\u043e\u0440\u043a\u0435, \u043f\u043e\u043b\u0443\u0447\u0435\u043d\u043d\u043e\u0439 \u0432 \u0440\u0435\u0437\u0443\u043b\u044c\u0442\u0430\u0442\u0435 \u0441\u043b\u0443\u0447\u0430\u0439\u043d\u043e\u0433\u043e \u0440\u0430\u0437\u0431\u0438\u0435\u043d\u0438\u044f."
     ]
    },
    {
     "cell_type": "code",
     "collapsed": false,
     "input": [
      "TP, FP, TN, FN = CalculateErrors(y_pred, test_y)\n",
      "CalculateQualityMetrics(TP, FP, TN, FN, 'knn')"
     ],
     "language": "python",
     "metadata": {},
     "outputs": [
      {
       "output_type": "stream",
       "stream": "stdout",
       "text": [
        "True Positive: 24.36%\n",
        "True Negative: 53.15%\n",
        "False Positive: 8.99%\n",
        "False Negative: 13.49%\n",
        "\u0414\u043e\u043b\u044f \u043f\u0440\u0430\u0432\u0438\u043b\u044c\u043d\u044b\u0445 \u043e\u0442\u0432\u0435\u0442\u043e\u0432: 77.51%\n",
        "\u0414\u043e\u043b\u044f \u0441\u043f\u0430\u043c\u0430 \u0441\u0440\u0435\u0434\u0438 \u043f\u0438\u0441\u0435\u043c, \u043a\u043b\u0430\u0441\u0441\u0438\u0444\u0438\u0446\u0438\u0440\u043e\u0432\u0430\u043d\u043d\u044b\u0445 \u043a\u0430\u043a \u0441\u043f\u0430\u043c: 73.03%\n",
        "\u0414\u043e\u043b\u044f \u043e\u0442\u0444\u0438\u043b\u044c\u0442\u0440\u043e\u0432\u0430\u043d\u043d\u043e\u0433\u043e \u0441\u043f\u0430\u043c\u0430:  64.36%\n",
        "C\u0440\u0435\u0434\u043d\u0435\u0435 \u0433\u0430\u0440\u043c\u043e\u043d\u0438\u0447\u0435\u0441\u043a\u043e\u0435 \u043c\u0435\u0436\u0434\u0443 \u0442\u043e\u0447\u043d\u043e\u0441\u0442\u044c\u044e \u0438 \u043f\u043e\u043b\u043d\u043e\u0442\u043e\u0439: 68.42%\n"
       ]
      }
     ],
     "prompt_number": 485
    },
    {
     "cell_type": "markdown",
     "metadata": {},
     "source": [
      "\u041f\u0440\u0438\u0432\u0435\u0434\u0435\u043c \u043f\u0440\u0438\u0437\u043d\u0430\u043a\u0438 \u043e\u0431\u044a\u0435\u043a\u0442\u043e\u0432 \u043a \u043e\u0434\u043d\u043e\u043c\u0443 \u043c\u0430\u0441\u0448\u0442\u0430\u0431\u0443:"
     ]
    },
    {
     "cell_type": "code",
     "collapsed": false,
     "input": [
      "def Scale_1(data):\n",
      "    for feature in feature_names:\n",
      "        mean = data[feature].mean()\n",
      "        std = data[feature].std()\n",
      "        data[feature] = scale(data[feature])\n",
      "        \n",
      "def Scale_2(data):\n",
      "    for feature in feature_names:\n",
      "        x_min = data[feature].min()\n",
      "        x_max = data[feature].max()\n",
      "        data[feature] = MinMaxScaler().fit_transform(data[feature])"
     ],
     "language": "python",
     "metadata": {},
     "outputs": [],
     "prompt_number": 486
    },
    {
     "cell_type": "code",
     "collapsed": false,
     "input": [
      "mixed_dataset_1 = spam_data.reindex(np.random.permutation(spam_data.index))\n",
      "Scale_1(mixed_dataset_1)"
     ],
     "language": "python",
     "metadata": {},
     "outputs": [],
     "prompt_number": 487
    },
    {
     "cell_type": "code",
     "collapsed": false,
     "input": [
      "mixed_dataset_2 = spam_data.reindex(np.random.permutation(spam_data.index))\n",
      "Scale_2(mixed_dataset_2)"
     ],
     "language": "python",
     "metadata": {},
     "outputs": [],
     "prompt_number": 488
    },
    {
     "cell_type": "markdown",
     "metadata": {},
     "source": [
      "\u041f\u043e\u0441\u0442\u0440\u043e\u0438\u043c \u0440\u0435\u0448\u0430\u044e\u0449\u0435\u0435 \u0434\u0435\u0440\u0435\u0432\u043e \u0438 KNN \u043f\u043e \u043f\u043e\u043b\u0443\u0447\u0435\u043d\u043d\u044b\u043c \u043e\u0442\u043c\u0430\u0441\u0448\u0442\u0430\u0431\u0438\u0440\u043e\u0432\u0430\u043d\u043d\u044b\u043c \u043f\u0440\u0438\u0437\u043d\u0430\u043a\u0430\u043c \u0438 \u043e\u0446\u0435\u043d\u0438\u043c \u0438\u0445 \u043a\u0430\u0447\u0435\u0441\u0442\u0432\u043e \u043d\u0430 \u0442\u0435\u0441\u0442\u043e\u0432\u043e\u0439 \u043f\u043e\u0434\u0432\u044b\u0431\u043e\u0440\u043a\u0435."
     ]
    },
    {
     "cell_type": "heading",
     "level": 5,
     "metadata": {},
     "source": [
      "\u041f\u0435\u0440\u0432\u044b\u0439 \u0441\u043f\u043e\u0441\u043e\u0431 \u043c\u0430\u0441\u0448\u0442\u0430\u0431\u0438\u0440\u043e\u0432\u0430\u043d\u0438\u044f"
     ]
    },
    {
     "cell_type": "heading",
     "level": 6,
     "metadata": {},
     "source": [
      "\u041c\u043e\u0434\u0435\u043b\u044c KNN"
     ]
    },
    {
     "cell_type": "code",
     "collapsed": false,
     "input": [
      "knn_classifier = KNeighborsClassifier(n_neighbors=10)\n",
      "y_pred = GetClassifierPredicition(mixed_dataset_1, knn_classifier)\n",
      "test_y = mixed_dataset_1[train_set_size:]['spam']\n",
      "TP, FP, TN, FN = CalculateErrors(y_pred, test_y)\n",
      "CalculateQualityMetrics(TP, FP, TN, FN, 'knn_scale_1')"
     ],
     "language": "python",
     "metadata": {},
     "outputs": [
      {
       "output_type": "stream",
       "stream": "stdout",
       "text": [
        "True Positive: 30.67%\n",
        "True Negative: 58.15%\n",
        "False Positive: 3.94%\n",
        "False Negative: 7.25%\n",
        "\u0414\u043e\u043b\u044f \u043f\u0440\u0430\u0432\u0438\u043b\u044c\u043d\u044b\u0445 \u043e\u0442\u0432\u0435\u0442\u043e\u0432: 88.82%\n",
        "\u0414\u043e\u043b\u044f \u0441\u043f\u0430\u043c\u0430 \u0441\u0440\u0435\u0434\u0438 \u043f\u0438\u0441\u0435\u043c, \u043a\u043b\u0430\u0441\u0441\u0438\u0444\u0438\u0446\u0438\u0440\u043e\u0432\u0430\u043d\u043d\u044b\u0445 \u043a\u0430\u043a \u0441\u043f\u0430\u043c: 88.63%\n",
        "\u0414\u043e\u043b\u044f \u043e\u0442\u0444\u0438\u043b\u044c\u0442\u0440\u043e\u0432\u0430\u043d\u043d\u043e\u0433\u043e \u0441\u043f\u0430\u043c\u0430:  80.89%\n",
        "C\u0440\u0435\u0434\u043d\u0435\u0435 \u0433\u0430\u0440\u043c\u043e\u043d\u0438\u0447\u0435\u0441\u043a\u043e\u0435 \u043c\u0435\u0436\u0434\u0443 \u0442\u043e\u0447\u043d\u043e\u0441\u0442\u044c\u044e \u0438 \u043f\u043e\u043b\u043d\u043e\u0442\u043e\u0439: 84.58%\n"
       ]
      }
     ],
     "prompt_number": 489
    },
    {
     "cell_type": "heading",
     "level": 6,
     "metadata": {},
     "source": [
      "\u0420\u0435\u0448\u0430\u044e\u0449\u0435\u0435 \u0434\u0435\u0440\u0435\u0432\u043e"
     ]
    },
    {
     "cell_type": "code",
     "collapsed": false,
     "input": [
      "dt_classifier = DecisionTreeClassifier(max_depth=7, criterion='gini')\n",
      "y_pred = GetClassifierPredicition(mixed_dataset_1, dt_classifier)\n",
      "test_y = mixed_dataset_1[train_set_size:]['spam']\n",
      "TP, FP, TN, FN = CalculateErrors(y_pred, test_y)\n",
      "CalculateQualityMetrics(TP, FP, TN, FN, 'dt_scale_1')"
     ],
     "language": "python",
     "metadata": {},
     "outputs": [
      {
       "output_type": "stream",
       "stream": "stdout",
       "text": [
        "True Positive: 33.79%\n",
        "True Negative: 58.09%\n",
        "False Positive: 4.00%\n",
        "False Negative: 4.12%\n",
        "\u0414\u043e\u043b\u044f \u043f\u0440\u0430\u0432\u0438\u043b\u044c\u043d\u044b\u0445 \u043e\u0442\u0432\u0435\u0442\u043e\u0432: 91.88%\n",
        "\u0414\u043e\u043b\u044f \u0441\u043f\u0430\u043c\u0430 \u0441\u0440\u0435\u0434\u0438 \u043f\u0438\u0441\u0435\u043c, \u043a\u043b\u0430\u0441\u0441\u0438\u0444\u0438\u0446\u0438\u0440\u043e\u0432\u0430\u043d\u043d\u044b\u0445 \u043a\u0430\u043a \u0441\u043f\u0430\u043c: 89.42%\n",
        "\u0414\u043e\u043b\u044f \u043e\u0442\u0444\u0438\u043b\u044c\u0442\u0440\u043e\u0432\u0430\u043d\u043d\u043e\u0433\u043e \u0441\u043f\u0430\u043c\u0430:  89.13%\n",
        "C\u0440\u0435\u0434\u043d\u0435\u0435 \u0433\u0430\u0440\u043c\u043e\u043d\u0438\u0447\u0435\u0441\u043a\u043e\u0435 \u043c\u0435\u0436\u0434\u0443 \u0442\u043e\u0447\u043d\u043e\u0441\u0442\u044c\u044e \u0438 \u043f\u043e\u043b\u043d\u043e\u0442\u043e\u0439: 89.27%\n"
       ]
      }
     ],
     "prompt_number": 490
    },
    {
     "cell_type": "heading",
     "level": 5,
     "metadata": {},
     "source": [
      "\u0412\u0442\u043e\u0440\u043e\u0439 \u0441\u043f\u043e\u0441\u043e\u0431 \u043c\u0430\u0441\u0448\u0442\u0430\u0431\u0438\u0440\u043e\u0432\u0430\u043d\u0438\u044f"
     ]
    },
    {
     "cell_type": "heading",
     "level": 6,
     "metadata": {},
     "source": [
      "\u041c\u043e\u0434\u0435\u043b\u044c KNN"
     ]
    },
    {
     "cell_type": "code",
     "collapsed": false,
     "input": [
      "knn_classifier = KNeighborsClassifier(n_neighbors=10)\n",
      "y_pred = GetClassifierPredicition(mixed_dataset_2, knn_classifier)\n",
      "test_y = mixed_dataset_2[train_set_size:]['spam']\n",
      "TP, FP, TN, FN = CalculateErrors(y_pred, test_y)\n",
      "CalculateQualityMetrics(TP, FP, TN, FN,  'knn_scale_2')"
     ],
     "language": "python",
     "metadata": {},
     "outputs": [
      {
       "output_type": "stream",
       "stream": "stdout",
       "text": [
        "True Positive: 30.11%\n",
        "True Negative: 59.03%\n",
        "False Positive: 3.31%\n",
        "False Negative: 7.56%\n",
        "\u0414\u043e\u043b\u044f \u043f\u0440\u0430\u0432\u0438\u043b\u044c\u043d\u044b\u0445 \u043e\u0442\u0432\u0435\u0442\u043e\u0432: 89.13%\n",
        "\u0414\u043e\u043b\u044f \u0441\u043f\u0430\u043c\u0430 \u0441\u0440\u0435\u0434\u0438 \u043f\u0438\u0441\u0435\u043c, \u043a\u043b\u0430\u0441\u0441\u0438\u0444\u0438\u0446\u0438\u0440\u043e\u0432\u0430\u043d\u043d\u044b\u0445 \u043a\u0430\u043a \u0441\u043f\u0430\u043c: 90.09%\n",
        "\u0414\u043e\u043b\u044f \u043e\u0442\u0444\u0438\u043b\u044c\u0442\u0440\u043e\u0432\u0430\u043d\u043d\u043e\u0433\u043e \u0441\u043f\u0430\u043c\u0430:  79.93%\n",
        "C\u0440\u0435\u0434\u043d\u0435\u0435 \u0433\u0430\u0440\u043c\u043e\u043d\u0438\u0447\u0435\u0441\u043a\u043e\u0435 \u043c\u0435\u0436\u0434\u0443 \u0442\u043e\u0447\u043d\u043e\u0441\u0442\u044c\u044e \u0438 \u043f\u043e\u043b\u043d\u043e\u0442\u043e\u0439: 84.71%\n"
       ]
      }
     ],
     "prompt_number": 491
    },
    {
     "cell_type": "heading",
     "level": 6,
     "metadata": {},
     "source": [
      "\u0420\u0435\u0448\u0430\u044e\u0449\u0435\u0435 \u0434\u0435\u0440\u0435\u0432\u043e"
     ]
    },
    {
     "cell_type": "code",
     "collapsed": false,
     "input": [
      "dt_classifier = DecisionTreeClassifier(max_depth=7, criterion='gini')\n",
      "y_pred = GetClassifierPredicition(mixed_dataset_2, dt_classifier)\n",
      "test_y = mixed_dataset_2[train_set_size:]['spam']\n",
      "TP, FP, TN, FN = CalculateErrors(y_pred, test_y)\n",
      "CalculateQualityMetrics(TP, FP, TN, FN, 'dt_scale_2')"
     ],
     "language": "python",
     "metadata": {},
     "outputs": [
      {
       "output_type": "stream",
       "stream": "stdout",
       "text": [
        "True Positive: 31.98%\n",
        "True Negative: 59.15%\n",
        "False Positive: 3.19%\n",
        "False Negative: 5.68%\n",
        "\u0414\u043e\u043b\u044f \u043f\u0440\u0430\u0432\u0438\u043b\u044c\u043d\u044b\u0445 \u043e\u0442\u0432\u0435\u0442\u043e\u0432: 91.13%\n",
        "\u0414\u043e\u043b\u044f \u0441\u043f\u0430\u043c\u0430 \u0441\u0440\u0435\u0434\u0438 \u043f\u0438\u0441\u0435\u043c, \u043a\u043b\u0430\u0441\u0441\u0438\u0444\u0438\u0446\u0438\u0440\u043e\u0432\u0430\u043d\u043d\u044b\u0445 \u043a\u0430\u043a \u0441\u043f\u0430\u043c: 90.94%\n",
        "\u0414\u043e\u043b\u044f \u043e\u0442\u0444\u0438\u043b\u044c\u0442\u0440\u043e\u0432\u0430\u043d\u043d\u043e\u0433\u043e \u0441\u043f\u0430\u043c\u0430:  84.91%\n",
        "C\u0440\u0435\u0434\u043d\u0435\u0435 \u0433\u0430\u0440\u043c\u043e\u043d\u0438\u0447\u0435\u0441\u043a\u043e\u0435 \u043c\u0435\u0436\u0434\u0443 \u0442\u043e\u0447\u043d\u043e\u0441\u0442\u044c\u044e \u0438 \u043f\u043e\u043b\u043d\u043e\u0442\u043e\u0439: 87.82%\n"
       ]
      }
     ],
     "prompt_number": 492
    },
    {
     "cell_type": "code",
     "collapsed": false,
     "input": [
      "models_quality_df"
     ],
     "language": "python",
     "metadata": {},
     "outputs": [
      {
       "html": [
        "<div style=\"max-height:1000px;max-width:1500px;overflow:auto;\">\n",
        "<table border=\"1\" class=\"dataframe\">\n",
        "  <thead>\n",
        "    <tr style=\"text-align: right;\">\n",
        "      <th></th>\n",
        "      <th>Classifier</th>\n",
        "      <th>TP</th>\n",
        "      <th>FP</th>\n",
        "      <th>TN</th>\n",
        "      <th>FN</th>\n",
        "      <th>Accuracy</th>\n",
        "      <th>Percision</th>\n",
        "      <th>Recall</th>\n",
        "      <th>F1</th>\n",
        "    </tr>\n",
        "  </thead>\n",
        "  <tbody>\n",
        "    <tr>\n",
        "      <th>0</th>\n",
        "      <td>          dt</td>\n",
        "      <td>        0</td>\n",
        "      <td> 22.98563</td>\n",
        "      <td> 77.01437</td>\n",
        "      <td>        0</td>\n",
        "      <td> 77.01437</td>\n",
        "      <td>        0</td>\n",
        "      <td>      NaN</td>\n",
        "      <td>        0</td>\n",
        "    </tr>\n",
        "    <tr>\n",
        "      <th>1</th>\n",
        "      <td>    dt_mixed</td>\n",
        "      <td> 32.66708</td>\n",
        "      <td>  3.24797</td>\n",
        "      <td> 58.33854</td>\n",
        "      <td> 5.746408</td>\n",
        "      <td> 91.00562</td>\n",
        "      <td> 90.95652</td>\n",
        "      <td> 85.04065</td>\n",
        "      <td> 87.89916</td>\n",
        "    </tr>\n",
        "    <tr>\n",
        "      <th>2</th>\n",
        "      <td>       \u0441onst</td>\n",
        "      <td> 37.85134</td>\n",
        "      <td> 62.14866</td>\n",
        "      <td>        0</td>\n",
        "      <td>        0</td>\n",
        "      <td> 37.85134</td>\n",
        "      <td> 37.85134</td>\n",
        "      <td>      100</td>\n",
        "      <td> 54.91618</td>\n",
        "    </tr>\n",
        "    <tr>\n",
        "      <th>3</th>\n",
        "      <td>         knn</td>\n",
        "      <td> 24.35978</td>\n",
        "      <td> 8.994379</td>\n",
        "      <td> 53.15428</td>\n",
        "      <td> 13.49157</td>\n",
        "      <td> 77.51405</td>\n",
        "      <td> 73.03371</td>\n",
        "      <td> 64.35644</td>\n",
        "      <td> 68.42105</td>\n",
        "    </tr>\n",
        "    <tr>\n",
        "      <th>4</th>\n",
        "      <td> knn_scale_1</td>\n",
        "      <td> 30.66833</td>\n",
        "      <td> 3.935041</td>\n",
        "      <td> 58.15116</td>\n",
        "      <td> 7.245472</td>\n",
        "      <td> 88.81949</td>\n",
        "      <td> 88.62816</td>\n",
        "      <td> 80.88962</td>\n",
        "      <td> 84.58226</td>\n",
        "    </tr>\n",
        "    <tr>\n",
        "      <th>5</th>\n",
        "      <td>  dt_scale_1</td>\n",
        "      <td> 33.79138</td>\n",
        "      <td> 3.997502</td>\n",
        "      <td> 58.08869</td>\n",
        "      <td> 4.122423</td>\n",
        "      <td> 91.88007</td>\n",
        "      <td> 89.42149</td>\n",
        "      <td> 89.12685</td>\n",
        "      <td> 89.27393</td>\n",
        "    </tr>\n",
        "    <tr>\n",
        "      <th>6</th>\n",
        "      <td> knn_scale_2</td>\n",
        "      <td> 30.10618</td>\n",
        "      <td> 3.310431</td>\n",
        "      <td> 59.02561</td>\n",
        "      <td> 7.557776</td>\n",
        "      <td> 89.13179</td>\n",
        "      <td> 90.09346</td>\n",
        "      <td> 79.93367</td>\n",
        "      <td> 84.71002</td>\n",
        "    </tr>\n",
        "    <tr>\n",
        "      <th>7</th>\n",
        "      <td>  dt_scale_2</td>\n",
        "      <td> 31.98001</td>\n",
        "      <td> 3.185509</td>\n",
        "      <td> 59.15053</td>\n",
        "      <td> 5.683948</td>\n",
        "      <td> 91.13054</td>\n",
        "      <td> 90.94139</td>\n",
        "      <td> 84.90879</td>\n",
        "      <td> 87.82161</td>\n",
        "    </tr>\n",
        "  </tbody>\n",
        "</table>\n",
        "</div>"
       ],
       "metadata": {},
       "output_type": "pyout",
       "prompt_number": 493,
       "text": [
        "    Classifier        TP        FP        TN        FN  Accuracy Percision  \\\n",
        "0           dt         0  22.98563  77.01437         0  77.01437         0   \n",
        "1     dt_mixed  32.66708   3.24797  58.33854  5.746408  91.00562  90.95652   \n",
        "2        \u0441onst  37.85134  62.14866         0         0  37.85134  37.85134   \n",
        "3          knn  24.35978  8.994379  53.15428  13.49157  77.51405  73.03371   \n",
        "4  knn_scale_1  30.66833  3.935041  58.15116  7.245472  88.81949  88.62816   \n",
        "5   dt_scale_1  33.79138  3.997502  58.08869  4.122423  91.88007  89.42149   \n",
        "6  knn_scale_2  30.10618  3.310431  59.02561  7.557776  89.13179  90.09346   \n",
        "7   dt_scale_2  31.98001  3.185509  59.15053  5.683948  91.13054  90.94139   \n",
        "\n",
        "     Recall        F1  \n",
        "0       NaN         0  \n",
        "1  85.04065  87.89916  \n",
        "2       100  54.91618  \n",
        "3  64.35644  68.42105  \n",
        "4  80.88962  84.58226  \n",
        "5  89.12685  89.27393  \n",
        "6  79.93367  84.71002  \n",
        "7  84.90879  87.82161  "
       ]
      }
     ],
     "prompt_number": 493
    },
    {
     "cell_type": "markdown",
     "metadata": {},
     "source": [
      "\u0412 \u0442\u0430\u0431\u043b\u0438\u0446\u0435 \u0441\u043e\u0434\u0435\u0440\u0436\u0430\u0442\u0441\u044f \u0437\u043d\u0430\u0447\u0435\u043d\u0438\u044f \u043e\u0446\u0435\u043d\u043e\u043a \u043a\u0430\u0447\u0435\u0441\u0442\u0432\u0430 \u0434\u043b\u044f \u0432\u0441\u0435\u0445 \u043f\u043e\u0441\u0442\u0440\u043e\u0435\u043d\u043d\u044b\u0445 \u043c\u043e\u0434\u0435\u043b\u0435\u0439: \n",
      "<ul>\n",
      "<li> dt - \u0420\u0435\u0448\u0430\u044e\u0449\u0435\u0435 \u0434\u0435\u0440\u0435\u0432\u043e, \u043f\u043e\u0441\u0442\u0440\u043e\u0435\u043d\u043d\u043e\u0435 \u043f\u043e \u0438\u0441\u0445\u043e\u0434\u043d\u043e\u043c\u0443 \u043d\u0430\u0431\u043e\u0440\u0443 \u0434\u0430\u043d\u043d\u044b\u0445\n",
      "<li> dt_mixed - \u0420\u0435\u0448\u0430\u044e\u0449\u0435\u0435 \u0434\u0435\u0440\u0435\u0432\u043e, \u043f\u043e\u0441\u0442\u0440\u043e\u0435\u043d\u043d\u043e\u0435 \u043f\u043e \u043f\u0435\u0440\u0435\u043c\u0435\u0448\u0430\u043d\u043d\u043e\u043c\u0443 \u043d\u0430\u0431\u043e\u0440\u0443 \u0434\u0430\u043d\u043d\u044b\u0445\n",
      "<li> \u0441onst - \u041a\u043e\u043d\u0441\u0442\u0430\u043d\u0442\u043d\u0430\u044f \u043c\u043e\u0434\u0435\u043b\u044c\n",
      "<li> knn - \u041c\u043e\u0434\u0435\u043b\u044c KNN, \u043f\u043e\u0441\u0442\u0440\u043e\u0435\u043d\u043d\u0430\u044f \u043f\u043e \u0438\u0441\u0445\u043e\u0434\u043d\u043e\u043c\u0443 \u043d\u0430\u0431\u043e\u0440\u0443 \u0434\u0430\u043d\u043d\u044b\u0445\n",
      "<li> knn_scale_1 - \u041c\u043e\u0434\u0435\u043b\u044c KNN, \u043f\u043e\u0441\u0442\u0440\u043e\u0435\u043d\u043d\u0430\u044f \u043f\u043e \u043f\u0440\u0438\u0437\u043d\u0430\u043a\u0430\u043c, \u043a\u043e\u0442\u043e\u0440\u044b\u0435 \u0431\u044b\u043b\u0438 \u0441\u043c\u0430\u0441\u0448\u0442\u0430\u0431\u0438\u0440\u043e\u0432\u0430\u043d\u044b \u043f\u043e \u0444\u043e\u0440\u043c\u0443\u043b\u0435 $x_{new} = \\frac{x-\\mu}{\\sigma}$ ($\\mu$ - \u0441\u0440\u0435\u0434\u043d\u0435\u0435 \u0437\u043d\u0430\u0447\u0435\u043d\u0438\u0435 \u043f\u0440\u0438\u0437\u043d\u0430\u043a\u0430, $\\sigma$ - \u0441\u0442\u0430\u043d\u0434\u0430\u0440\u0442\u043d\u043e\u0435 \u043e\u0442\u043a\u043b\u043e\u043d\u0435\u043d\u0438\u0435)\n",
      "<li> dt_scale_1 - \u0420\u0435\u0448\u0430\u044e\u0449\u0435\u0435 \u0434\u0435\u0440\u0435\u0432\u043e, \u043f\u043e\u0441\u0442\u0440\u043e\u0435\u043d\u043d\u043e\u0435 \u043f\u043e \u043f\u0440\u0438\u0437\u043d\u0430\u043a\u0430\u043c, \u043a\u043e\u0442\u043e\u0440\u044b\u0435 \u0431\u044b\u043b\u0438 \u0441\u043c\u0430\u0441\u0448\u0442\u0430\u0431\u0438\u0440\u043e\u0432\u0430\u043d\u044b \u043f\u043e \u0444\u043e\u0440\u043c\u0443\u043b\u0435 $x_{new} = \\frac{x-\\mu}{\\sigma}$ ($\\mu$ - \u0441\u0440\u0435\u0434\u043d\u0435\u0435 \u0437\u043d\u0430\u0447\u0435\u043d\u0438\u0435 \u043f\u0440\u0438\u0437\u043d\u0430\u043a\u0430, $\\sigma$ - \u0441\u0442\u0430\u043d\u0434\u0430\u0440\u0442\u043d\u043e\u0435 \u043e\u0442\u043a\u043b\u043e\u043d\u0435\u043d\u0438\u0435)\n",
      "<li> knn_scale_2 - \u041c\u043e\u0434\u0435\u043b\u044c KNN, \u043f\u043e\u0441\u0442\u0440\u043e\u0435\u043d\u043d\u0430\u044f \u043f\u043e \u043f\u0440\u0438\u0437\u043d\u0430\u043a\u0430\u043c, \u043a\u043e\u0442\u043e\u0440\u044b\u0435 \u0431\u044b\u043b\u0438 \u0441\u043c\u0430\u0441\u0448\u0442\u0430\u0431\u0438\u0440\u043e\u0432\u0430\u043d\u044b \u043f\u043e \u0444\u043e\u0440\u043c\u0443\u043b\u0435 $x_{new} = \\frac{x-x_{min}}{x_{max} - x_{min}}$\n",
      "<li> dt_scale_2 - \u0420\u0435\u0448\u0430\u044e\u0449\u0435\u0435 \u0434\u0435\u0440\u0435\u0432\u043e, \u043f\u043e\u0441\u0442\u0440\u043e\u0435\u043d\u043d\u043e\u0435 \u043f\u043e \u043f\u0440\u0438\u0437\u043d\u0430\u043a\u0430\u043c, \u043a\u043e\u0442\u043e\u0440\u044b\u0435 \u0431\u044b\u043b\u0438 \u0441\u043c\u0430\u0441\u0448\u0442\u0430\u0431\u0438\u0440\u043e\u0432\u0430\u043d\u044b \u043f\u043e \u0444\u043e\u0440\u043c\u0443\u043b\u0435 $x_{new} = \\frac{x-x_{min}}{x_{max} - x_{min}}$\n",
      "</ul>"
     ]
    },
    {
     "cell_type": "code",
     "collapsed": false,
     "input": [
      "models_quality_df.iloc[[3, 4, 6]]"
     ],
     "language": "python",
     "metadata": {},
     "outputs": [
      {
       "html": [
        "<div style=\"max-height:1000px;max-width:1500px;overflow:auto;\">\n",
        "<table border=\"1\" class=\"dataframe\">\n",
        "  <thead>\n",
        "    <tr style=\"text-align: right;\">\n",
        "      <th></th>\n",
        "      <th>Classifier</th>\n",
        "      <th>TP</th>\n",
        "      <th>FP</th>\n",
        "      <th>TN</th>\n",
        "      <th>FN</th>\n",
        "      <th>Accuracy</th>\n",
        "      <th>Percision</th>\n",
        "      <th>Recall</th>\n",
        "      <th>F1</th>\n",
        "    </tr>\n",
        "  </thead>\n",
        "  <tbody>\n",
        "    <tr>\n",
        "      <th>3</th>\n",
        "      <td>         knn</td>\n",
        "      <td> 24.35978</td>\n",
        "      <td> 8.994379</td>\n",
        "      <td> 53.15428</td>\n",
        "      <td> 13.49157</td>\n",
        "      <td> 77.51405</td>\n",
        "      <td> 73.03371</td>\n",
        "      <td> 64.35644</td>\n",
        "      <td> 68.42105</td>\n",
        "    </tr>\n",
        "    <tr>\n",
        "      <th>4</th>\n",
        "      <td> knn_scale_1</td>\n",
        "      <td> 30.66833</td>\n",
        "      <td> 3.935041</td>\n",
        "      <td> 58.15116</td>\n",
        "      <td> 7.245472</td>\n",
        "      <td> 88.81949</td>\n",
        "      <td> 88.62816</td>\n",
        "      <td> 80.88962</td>\n",
        "      <td> 84.58226</td>\n",
        "    </tr>\n",
        "    <tr>\n",
        "      <th>6</th>\n",
        "      <td> knn_scale_2</td>\n",
        "      <td> 30.10618</td>\n",
        "      <td> 3.310431</td>\n",
        "      <td> 59.02561</td>\n",
        "      <td> 7.557776</td>\n",
        "      <td> 89.13179</td>\n",
        "      <td> 90.09346</td>\n",
        "      <td> 79.93367</td>\n",
        "      <td> 84.71002</td>\n",
        "    </tr>\n",
        "  </tbody>\n",
        "</table>\n",
        "</div>"
       ],
       "metadata": {},
       "output_type": "pyout",
       "prompt_number": 494,
       "text": [
        "    Classifier        TP        FP        TN        FN  Accuracy Percision  \\\n",
        "3          knn  24.35978  8.994379  53.15428  13.49157  77.51405  73.03371   \n",
        "4  knn_scale_1  30.66833  3.935041  58.15116  7.245472  88.81949  88.62816   \n",
        "6  knn_scale_2  30.10618  3.310431  59.02561  7.557776  89.13179  90.09346   \n",
        "\n",
        "     Recall        F1  \n",
        "3  64.35644  68.42105  \n",
        "4  80.88962  84.58226  \n",
        "6  79.93367  84.71002  "
       ]
      }
     ],
     "prompt_number": 494
    },
    {
     "cell_type": "markdown",
     "metadata": {},
     "source": [
      "\u0418\u0437 \u044d\u0442\u043e\u0439 \u0442\u0430\u0431\u043b\u0438\u0446\u044b \u0432\u0438\u0434\u043d\u043e, \u0447\u0442\u043e \u043a\u0430\u0447\u0435\u0441\u0442\u0432\u043e \u043c\u043e\u0434\u0435\u043b\u0435\u0439 KNN, \u043f\u043e\u0441\u0442\u0440\u043e\u0435\u043d\u043d\u044b\u0445 \u043f\u043e \u043c\u0430\u0441\u0448\u0442\u0430\u0431\u0438\u0440\u043e\u0432\u0430\u043d\u043d\u044b\u043c \u043f\u0440\u0438\u0437\u043d\u0430\u043a\u0430\u043c, \u0432\u044b\u0448\u0435 \u043a\u0430\u0447\u0435\u0441\u0442\u0432\u0430 \u043c\u043e\u0434\u0435\u043b\u0438 KNN, \u043f\u043e\u0441\u0442\u0440\u043e\u0435\u043d\u043d\u043e\u0439 \u043f\u043e \u0438\u0441\u0445\u043e\u0434\u043d\u043e\u043c\u0443 \u043d\u0430\u0431\u043e\u0440\u0443 \u0434\u0430\u043d\u043d\u044b\u0445. \u0414\u043b\u044f \u043c\u043e\u0434\u0435\u043b\u0438 \u0431\u043b\u0438\u0436\u0430\u0439\u0448\u0438\u0445 \u0441\u043e\u0441\u0435\u0434\u0435\u0439 \u043c\u0430\u0441\u0448\u0442\u0430\u0431\u0438\u0440\u043e\u0432\u0430\u043d\u0438\u0435 \u043f\u0440\u0438\u0437\u043d\u0430\u043a\u043e\u0432 \u043f\u0440\u0438\u0432\u043e\u0434\u0438\u0442 \u043a \u0441\u043d\u0438\u0436\u0435\u043d\u0438\u044e \u0434\u043e\u043b\u0438 \u043b\u043e\u0436\u043d\u044b\u0445 \u0441\u0440\u0430\u0431\u0430\u0442\u044b\u0432\u0430\u043d\u0438\u0439"
     ]
    },
    {
     "cell_type": "code",
     "collapsed": false,
     "input": [
      "models_quality_df.iloc[[0, 1, 5, 7]]"
     ],
     "language": "python",
     "metadata": {},
     "outputs": [
      {
       "html": [
        "<div style=\"max-height:1000px;max-width:1500px;overflow:auto;\">\n",
        "<table border=\"1\" class=\"dataframe\">\n",
        "  <thead>\n",
        "    <tr style=\"text-align: right;\">\n",
        "      <th></th>\n",
        "      <th>Classifier</th>\n",
        "      <th>TP</th>\n",
        "      <th>FP</th>\n",
        "      <th>TN</th>\n",
        "      <th>FN</th>\n",
        "      <th>Accuracy</th>\n",
        "      <th>Percision</th>\n",
        "      <th>Recall</th>\n",
        "      <th>F1</th>\n",
        "    </tr>\n",
        "  </thead>\n",
        "  <tbody>\n",
        "    <tr>\n",
        "      <th>0</th>\n",
        "      <td>         dt</td>\n",
        "      <td>        0</td>\n",
        "      <td> 22.98563</td>\n",
        "      <td> 77.01437</td>\n",
        "      <td>        0</td>\n",
        "      <td> 77.01437</td>\n",
        "      <td>        0</td>\n",
        "      <td>      NaN</td>\n",
        "      <td>        0</td>\n",
        "    </tr>\n",
        "    <tr>\n",
        "      <th>1</th>\n",
        "      <td>   dt_mixed</td>\n",
        "      <td> 32.66708</td>\n",
        "      <td>  3.24797</td>\n",
        "      <td> 58.33854</td>\n",
        "      <td> 5.746408</td>\n",
        "      <td> 91.00562</td>\n",
        "      <td> 90.95652</td>\n",
        "      <td> 85.04065</td>\n",
        "      <td> 87.89916</td>\n",
        "    </tr>\n",
        "    <tr>\n",
        "      <th>5</th>\n",
        "      <td> dt_scale_1</td>\n",
        "      <td> 33.79138</td>\n",
        "      <td> 3.997502</td>\n",
        "      <td> 58.08869</td>\n",
        "      <td> 4.122423</td>\n",
        "      <td> 91.88007</td>\n",
        "      <td> 89.42149</td>\n",
        "      <td> 89.12685</td>\n",
        "      <td> 89.27393</td>\n",
        "    </tr>\n",
        "    <tr>\n",
        "      <th>7</th>\n",
        "      <td> dt_scale_2</td>\n",
        "      <td> 31.98001</td>\n",
        "      <td> 3.185509</td>\n",
        "      <td> 59.15053</td>\n",
        "      <td> 5.683948</td>\n",
        "      <td> 91.13054</td>\n",
        "      <td> 90.94139</td>\n",
        "      <td> 84.90879</td>\n",
        "      <td> 87.82161</td>\n",
        "    </tr>\n",
        "  </tbody>\n",
        "</table>\n",
        "</div>"
       ],
       "metadata": {},
       "output_type": "pyout",
       "prompt_number": 495,
       "text": [
        "   Classifier        TP        FP        TN        FN  Accuracy Percision  \\\n",
        "0          dt         0  22.98563  77.01437         0  77.01437         0   \n",
        "1    dt_mixed  32.66708   3.24797  58.33854  5.746408  91.00562  90.95652   \n",
        "5  dt_scale_1  33.79138  3.997502  58.08869  4.122423  91.88007  89.42149   \n",
        "7  dt_scale_2  31.98001  3.185509  59.15053  5.683948  91.13054  90.94139   \n",
        "\n",
        "     Recall        F1  \n",
        "0       NaN         0  \n",
        "1  85.04065  87.89916  \n",
        "5  89.12685  89.27393  \n",
        "7  84.90879  87.82161  "
       ]
      }
     ],
     "prompt_number": 495
    },
    {
     "cell_type": "markdown",
     "metadata": {},
     "source": [
      "\u041d\u0430 \u043e\u0441\u043d\u043e\u0432\u0435 \u0434\u0430\u043d\u043d\u044b\u0445 \u044d\u0442\u043e\u0439 \u0442\u0430\u0431\u043b\u0438\u0446\u044b \u043c\u043e\u0436\u043d\u043e \u0441\u0434\u0435\u043b\u0430\u0442\u044c \u0432\u044b\u0432\u043e\u0434, \u0447\u0442\u043e \u043c\u0430\u0441\u0448\u0442\u0430\u0431\u0438\u0440\u043e\u0432\u0430\u043d\u0438\u0435 \u043f\u0440\u0438\u0437\u043d\u0430\u043a\u043e\u0432 \u043d\u0435 \u043f\u0440\u0438\u0432\u043e\u0434\u0438\u0442 \u043a \u0443\u043b\u0443\u0447\u0448\u0435\u043d\u0438\u044e \u043a\u0430\u0447\u0435\u0441\u0442\u0432\u0430 \u0440\u0435\u0448\u0430\u044e\u0449\u0435\u0433\u043e \u0434\u0435\u0440\u0435\u0432\u0430. \u0422\u043e\u0442 \u0444\u0430\u043a\u0442, \u0447\u0442\u043e \u043c\u0430\u0441\u0448\u0442\u0430\u0431\u0438\u0440\u043e\u0432\u0430\u043d\u0438\u0435 \u043f\u0440\u0438\u0437\u043d\u0430\u043a\u043e\u0432 \u043d\u0435 \u0432\u043b\u0438\u044f\u0435\u0442 \u043d\u0430 \u043a\u0430\u0447\u0435\u0441\u0442\u0432\u043e \u0440\u0435\u0448\u0430\u044e\u0449\u0435\u0433\u043e \u0434\u0435\u0440\u0435\u0432\u0430, \u043d\u043e \u043f\u043e\u0432\u044b\u0448\u0430\u0435\u0442 \u043a\u0430\u0447\u0435\u0441\u0442\u0432\u043e \u043c\u043e\u0434\u0435\u043b\u0438 KNN \u043c\u043e\u0436\u043d\u043e \u043e\u0431\u044a\u044f\u0441\u043d\u0438\u0442\u044c \u0441\u043b\u0435\u0434\u0443\u044e\u0449\u0438\u043c \u043e\u0431\u0440\u0430\u0437\u043e\u043c. \u041f\u0440\u0438 \u043f\u043e\u0441\u0442\u0440\u043e\u0435\u043d\u0438\u0438 \u043c\u043e\u0434\u0435\u043b\u0438 KNN \u043c\u044b \u0438\u0441\u043f\u043e\u043b\u044c\u0437\u0443\u0435\u043c \u0435\u0432\u043a\u043b\u0438\u0434\u043e\u0432\u0443 \u043c\u0435\u0442\u0440\u0438\u043a\u0443 \u043f\u0440\u0438 \u0432\u044b\u0447\u0438\u0441\u043b\u0435\u043d\u0438\u0438 \u043a\u043e\u0442\u043e\u0440\u043e\u0439 \u043e\u0434\u043d\u043e\u0432\u0440\u0435\u043c\u0435\u043d\u043d\u043e \u0443\u0447\u0438\u0442\u044b\u0432\u0430\u044e\u0442\u0441\u044f \u0432\u0435\u043b\u0438\u0447\u0438\u043d\u044b \u0432\u0441\u0435\u0445  \u043f\u0440\u0438\u0437\u043d\u0430\u043a\u043e\u0432, \u043f\u0440\u0438 \u044d\u0442\u043e\u043c \u043f\u0440\u0438\u0437\u043d\u0430\u043a\u0438, \u0438\u043c\u0435\u044e\u0449\u0438\u0435 \u0431\u043e\u043b\u0435\u0435 \u0448\u0438\u0440\u043e\u043a\u0438\u0439 \u0434\u0438\u0430\u043f\u0430\u0437\u043e\u043d, \u0432\u043d\u043e\u0441\u044f\u0442 \u0431\u043e\u043b\u044c\u0448\u0438\u0439 \u0432\u043a\u043b\u0430\u0434 \u0432 \u0432\u0435\u043b\u0438\u0447\u0438\u043d\u0443 \u0440\u0430\u0441\u0441\u0442\u043e\u044f\u043d\u0438\u044f, \u0442\u043e \u0435\u0441\u0442\u044c \u043e\u043d\u0438 \u043e\u043a\u0430\u0437\u044b\u0432\u0430\u044e\u0442\u0441\u044f \u0431\u043e\u043b\u0435\u0435 \u0437\u043d\u0430\u0447\u0438\u043c\u044b\u043c\u0438 (\u043f\u0440\u0438 \u044d\u0442\u043e\u043c \u0442\u0430\u043a\u0438\u0435 \u043f\u0440\u0438\u0437\u043d\u0430\u043a\u0438 \u043d\u0430 \u0441\u0430\u043c\u043e\u043c \u0434\u0435\u043b\u0435 \u043c\u043e\u0433\u0443\u0442 \u0431\u044b\u0442\u044c \u043d\u0435 \u043e\u0441\u043e\u0431\u043e \u0441\u0443\u0449\u0435\u0441\u0442\u0432\u0435\u043d\u043d\u044b\u043c\u0438). \u0412 \u0434\u0430\u043d\u043d\u043e\u043c \u0441\u043b\u0443\u0447\u0430\u0435 \u043c\u0430\u0441\u0448\u0442\u0430\u0431\u0438\u0440\u043e\u0432\u0430\u043d\u0438\u0435 \u043f\u0440\u0438\u0437\u043d\u0430\u043a\u043e\u0432 \u043f\u0440\u0438\u0432\u043e\u0434\u0438\u0442 \u0432\u0441\u0435 \u043f\u0440\u0438\u0437\u043d\u0430\u043a\u0438 \u043a \u043e\u0434\u043d\u043e\u043c\u0443 \u0434\u0438\u0430\u043f\u0430\u0437\u043e\u043d\u0443, \u0442\u043e \u0435\u0441\u0442\u044c \u0443\u0440\u0430\u0432\u043d\u0438\u0432\u0430\u0435\u0442 \u0438\u0445 \u0432\u043a\u0430\u043b\u0430\u0434 \u0432 \u0440\u0430\u0441\u0441\u0442\u043e\u044f\u043d\u0438\u0435 \u043c\u0435\u0436\u0434\u0443 \u043e\u0431\u044a\u0435\u043a\u0442\u0430\u043c\u0438.\n",
      "\u0412 \u0441\u043b\u0443\u0447\u0430\u0435 \u0440\u0435\u0448\u0430\u044e\u0449\u0435\u0433\u043e \u0434\u0435\u0440\u0435\u0432\u0430 \u043f\u0440\u0438 \u043f\u043e\u0441\u0442\u0440\u043e\u0435\u043d\u0438\u0438 \u043a\u0430\u0436\u0434\u044b\u0439 \u043f\u0440\u0438\u0437\u043d\u0430\u043a \u0438\u0441\u043f\u043e\u043b\u044c\u0437\u0443\u0435\u0442\u0441\u044f \u043e\u0442\u0434\u0435\u043b\u044c\u043d\u043e \u043e\u0442 \u043e\u0441\u0442\u0430\u043b\u044c\u043d\u044b\u0445, \u0432 \u043b\u044e\u0431\u043e\u0439 \u043d\u0435\u043b\u0438\u0441\u0442\u043e\u0432\u043e\u0439 \u0432\u0435\u0440\u0448\u0438\u043d\u0435 \u0434\u0435\u0440\u0435\u0432\u0430 \u0441\u0442\u043e\u0438\u0442 \u043f\u043e\u0440\u043e\u0433\u043e\u0432\u043e\u0435 \u0443\u0441\u043b\u043e\u0432\u0438\u0435 \u0442\u043e\u043b\u044c\u043a\u043e \u0434\u043b\u044f \u043e\u0434\u043d\u043e\u0433\u043e \u043f\u0440\u0438\u0437\u043d\u0430\u043a\u0430, \u0437\u043d\u0430\u0447\u0435\u043d\u0438\u0435 \u043f\u043e\u0440\u043e\u0433\u0430 \u0430\u0432\u0442\u043e\u043c\u0430\u0442\u0438\u0447\u0435\u0441\u043a\u0438 \u0432\u044b\u0431\u0438\u0440\u0430\u0435\u0442\u0441\u044f \u0432 \u0437\u0430\u0432\u0438\u0441\u0438\u043c\u043e\u0441\u0442\u0438 \u043e\u0442 \u0434\u0438\u0430\u043f\u0430\u0437\u043e\u043d\u0430 \u043f\u0440\u0438\u0437\u043d\u0430\u043a\u0430, \u043f\u043e\u044d\u0442\u043e\u043c\u0443 \u043c\u0430\u0441\u0448\u0442\u0430\u0431\u0438\u0440\u043e\u0432\u0430\u043d\u0438\u0435 \u0432 \u0434\u0430\u043d\u043d\u043e\u043c \u0441\u043b\u0443\u0447\u0430\u0435 \u043d\u0435 \u043f\u0440\u0438\u0432\u043e\u0434\u0438\u0442 \u043a \u0443\u043b\u0443\u0447\u0448\u0435\u043d\u0438\u044e \u0440\u0435\u0437\u0443\u043b\u044c\u0442\u0430\u0442\u0430."
     ]
    },
    {
     "cell_type": "code",
     "collapsed": false,
     "input": [
      "models_quality_df.iloc[[1, 2, 3, 4, 6]]"
     ],
     "language": "python",
     "metadata": {},
     "outputs": [
      {
       "html": [
        "<div style=\"max-height:1000px;max-width:1500px;overflow:auto;\">\n",
        "<table border=\"1\" class=\"dataframe\">\n",
        "  <thead>\n",
        "    <tr style=\"text-align: right;\">\n",
        "      <th></th>\n",
        "      <th>Classifier</th>\n",
        "      <th>TP</th>\n",
        "      <th>FP</th>\n",
        "      <th>TN</th>\n",
        "      <th>FN</th>\n",
        "      <th>Accuracy</th>\n",
        "      <th>Percision</th>\n",
        "      <th>Recall</th>\n",
        "      <th>F1</th>\n",
        "    </tr>\n",
        "  </thead>\n",
        "  <tbody>\n",
        "    <tr>\n",
        "      <th>1</th>\n",
        "      <td>    dt_mixed</td>\n",
        "      <td> 32.66708</td>\n",
        "      <td>  3.24797</td>\n",
        "      <td> 58.33854</td>\n",
        "      <td> 5.746408</td>\n",
        "      <td> 91.00562</td>\n",
        "      <td> 90.95652</td>\n",
        "      <td> 85.04065</td>\n",
        "      <td> 87.89916</td>\n",
        "    </tr>\n",
        "    <tr>\n",
        "      <th>2</th>\n",
        "      <td>       \u0441onst</td>\n",
        "      <td> 37.85134</td>\n",
        "      <td> 62.14866</td>\n",
        "      <td>        0</td>\n",
        "      <td>        0</td>\n",
        "      <td> 37.85134</td>\n",
        "      <td> 37.85134</td>\n",
        "      <td>      100</td>\n",
        "      <td> 54.91618</td>\n",
        "    </tr>\n",
        "    <tr>\n",
        "      <th>3</th>\n",
        "      <td>         knn</td>\n",
        "      <td> 24.35978</td>\n",
        "      <td> 8.994379</td>\n",
        "      <td> 53.15428</td>\n",
        "      <td> 13.49157</td>\n",
        "      <td> 77.51405</td>\n",
        "      <td> 73.03371</td>\n",
        "      <td> 64.35644</td>\n",
        "      <td> 68.42105</td>\n",
        "    </tr>\n",
        "    <tr>\n",
        "      <th>4</th>\n",
        "      <td> knn_scale_1</td>\n",
        "      <td> 30.66833</td>\n",
        "      <td> 3.935041</td>\n",
        "      <td> 58.15116</td>\n",
        "      <td> 7.245472</td>\n",
        "      <td> 88.81949</td>\n",
        "      <td> 88.62816</td>\n",
        "      <td> 80.88962</td>\n",
        "      <td> 84.58226</td>\n",
        "    </tr>\n",
        "    <tr>\n",
        "      <th>6</th>\n",
        "      <td> knn_scale_2</td>\n",
        "      <td> 30.10618</td>\n",
        "      <td> 3.310431</td>\n",
        "      <td> 59.02561</td>\n",
        "      <td> 7.557776</td>\n",
        "      <td> 89.13179</td>\n",
        "      <td> 90.09346</td>\n",
        "      <td> 79.93367</td>\n",
        "      <td> 84.71002</td>\n",
        "    </tr>\n",
        "  </tbody>\n",
        "</table>\n",
        "</div>"
       ],
       "metadata": {},
       "output_type": "pyout",
       "prompt_number": 510,
       "text": [
        "    Classifier        TP        FP        TN        FN  Accuracy Percision  \\\n",
        "1     dt_mixed  32.66708   3.24797  58.33854  5.746408  91.00562  90.95652   \n",
        "2        \u0441onst  37.85134  62.14866         0         0  37.85134  37.85134   \n",
        "3          knn  24.35978  8.994379  53.15428  13.49157  77.51405  73.03371   \n",
        "4  knn_scale_1  30.66833  3.935041  58.15116  7.245472  88.81949  88.62816   \n",
        "6  knn_scale_2  30.10618  3.310431  59.02561  7.557776  89.13179  90.09346   \n",
        "\n",
        "     Recall        F1  \n",
        "1  85.04065  87.89916  \n",
        "2       100  54.91618  \n",
        "3  64.35644  68.42105  \n",
        "4  80.88962  84.58226  \n",
        "6  79.93367  84.71002  "
       ]
      }
     ],
     "prompt_number": 510
    },
    {
     "cell_type": "markdown",
     "metadata": {},
     "source": [
      "Accuracy \u2014 \u0434\u043e\u043b\u044f \u043f\u0440\u0430\u0432\u0438\u043b\u044c\u043d\u044b\u0445 \u043e\u0442\u0432\u0435\u0442\u043e\u0432 <br/>\n",
      "Precision \u2014 \u0442\u043e\u0447\u043d\u043e\u0441\u0442\u044c, \u0434\u043e\u043b\u044f \u0441\u043f\u0430\u043c\u0430 \u0441\u0440\u0435\u0434\u0438 \u043f\u0438\u0441\u0435\u043c, \u043a\u043b\u0430\u0441\u0441\u0438\u0444\u0438\u0446\u0438\u0440\u043e\u0432\u0430\u043d\u043d\u044b\u0445 \u043a\u0430\u043a \u0441\u043f\u0430\u043c<br/>\n",
      "Recall \u2014 \u043f\u043e\u043b\u043d\u043e\u0442\u0430, \u0434\u043e\u043b\u044f \u0441\u043f\u0430\u043c\u0430, \u043a\u043e\u0442\u043e\u0440\u0430\u044f \u0431\u044b\u043b\u0430 \u043e\u0442\u0444\u0438\u043b\u044c\u0442\u0440\u043e\u0432\u0430\u043d\u0430<br/>\n",
      "F1 \u2014 \u0441\u0440\u0435\u0434\u043d\u0435\u0435 \u0433\u0430\u0440\u043c\u043e\u043d\u0438\u0447\u0435\u0441\u043a\u043e\u0435 \u043c\u0435\u0436\u0434\u0443 \u0442\u043e\u0447\u043d\u043e\u0441\u0442\u044c\u044e \u0438 \u043f\u043e\u043b\u043d\u043e\u0442\u043e\u0439<br/>"
     ]
    },
    {
     "cell_type": "markdown",
     "metadata": {},
     "source": [
      "\u0420\u0430\u0441\u0441\u043c\u043e\u0442\u0440\u0438\u043c \u0432\u0441\u0435 \u043e\u0431\u0443\u0447\u0435\u043d\u043d\u044b\u0435 \u043c\u043e\u0434\u0435\u043b\u0438, \u0438\u0445 \u043e\u0446\u0435\u043d\u043a\u0438 \u043a\u0430\u0447\u0435\u0441\u0442\u0432\u0430 \u043f\u0440\u0435\u0434\u0441\u0442\u0430\u0432\u043b\u0435\u043d\u044b \u0432 \u0442\u0430\u0431\u043b\u0438\u0446\u0435 \u0432\u044b\u0448\u0435. \u0414\u043b\u044f \u044d\u0442\u043e\u0433\u043e \u043d\u0430\u0431\u043e\u0440\u0430 \u0434\u0430\u043d\u043d\u044b\u0445 \u043b\u0443\u0447\u0448\u0435\u0439 \u043c\u043e\u0434\u0435\u043b\u044c\u044e \u043e\u043a\u0430\u0437\u0430\u043b\u043e\u0441\u044c \u0440\u0435\u0448\u0430\u044e\u0449\u0435\u0435 \u0434\u0435\u0440\u0435\u0432\u043e, \u043f\u043e\u0441\u0442\u0440\u043e\u0435\u043d\u043d\u043e\u0435 \u043d\u0430 \u043f\u0435\u0440\u0435\u043c\u0435\u0448\u0430\u043d\u043d\u043e\u043c \u043d\u0430\u0431\u043e\u0440\u0435 \u0434\u0430\u043d\u043d\u044b\u0445: \u043e\u043d\u043e \u043f\u0440\u0430\u0432\u0438\u043b\u044c\u043d\u043e \u043a\u043b\u0430\u0441\u0441\u0438\u0444\u0438\u0446\u0438\u0440\u0443\u0435\u0442 \u0431\u043e\u043b\u044c\u0448\u0435 \u0432\u0441\u0435\u0445 \u043e\u0431\u044a\u0435\u043a\u0442\u043e\u0432, \u043f\u0440\u0438 \u044d\u0442\u043e\u043c \u0432\u044b\u0434\u0435\u043b\u044f\u0442 \u0431\u043e\u043b\u044c\u0448\u0435 \u043f\u0438\u0441\u0435\u043c \u0441\u043e \u0441\u043f\u0430\u043c\u043e\u043c, \u0447\u0435\u043c \u043e\u0441\u0442\u0430\u043b\u044c\u043d\u044b\u0435 \u043c\u043e\u0434\u0435\u043b\u0438, \u0438 \u043e\u043d\u043e \u044f\u0432\u043b\u044f\u0435\u0442\u0441\u044f \u043d\u0430\u0438\u0431\u043e\u043b\u0435\u0435 \u0442\u043e\u0447\u043d\u044b\u043c, \u0442\u043e \u0435\u0441\u0442\u044c \u043e\u043d\u043e \u043e\u0442\u043f\u0440\u0430\u0432\u043b\u044f\u0435\u0442 \u0432 \u0441\u043f\u0430\u043c \u043c\u0435\u043d\u044c\u0448\u0435 \"\u0445\u043e\u0440\u043e\u0448\u0438\u0445\" \u043f\u0438\u0441\u0435\u043c, \u0447\u0435\u043c \u043e\u0441\u0442\u0430\u043b\u044c\u043d\u044b\u0435 \u043c\u043e\u0434\u0435\u043b\u0438. "
     ]
    },
    {
     "cell_type": "markdown",
     "metadata": {},
     "source": [
      "\u0414\u043b\u044f \u0432\u044b\u0431\u043e\u0440\u0430 \u043f\u0440\u043e\u043f\u043e\u0440\u0446\u0438\u0438 \u0440\u0430\u0437\u0431\u0438\u0435\u043d\u0438\u044f \u0432\u044b\u0431\u043e\u0440\u043a\u0438 \u043d\u0430 train/test \u043f\u0440\u043e\u0432\u0435\u0434\u0435\u043c \u0441\u043b\u0435\u0434\u0443\u044e\u0449\u0438\u0439 \u044d\u043a\u0441\u043f\u0435\u0440\u0438\u043c\u0435\u043d\u0442: <br\\>\n",
      "<ol>\n",
      "<li> \u041f\u0435\u0440\u0435\u0431\u0440\u0435\u043c \u0437\u043d\u0430\u0447\u0435\u043d\u0438\u044f \u0434\u043e\u043b\u0438 \u0442\u0435\u0441\u0442\u0432\u043e\u0432\u043e\u0439 \u043f\u043e\u0434\u0432\u044b\u0431\u043e\u0440\u043a\u0438 \u043f\u0440\u0438 \u0440\u0430\u0437\u0431\u0438\u0435\u043d\u0438\u0438 \u043d\u0430\u0431\u043e\u0440\u0430 \u0434\u0430\u043d\u043d\u044b\u0445 \u043d\u0430 train \u0438 test. \u041f\u0443\u0441\u0442\u044c \u0434\u043e\u043b\u044f \u0442\u0435\u0441\u0442\u043e\u0432\u043e\u0439 \u043f\u043e\u0434\u0432\u044b\u0431\u043e\u0440\u043a\u0438 \u043f\u0440\u0438\u043d\u0438\u043c\u0430\u0435\u0442 \u0437\u043d\u0430\u0447\u0435\u043d\u0438\u044f \u0432 \u0438\u043d\u0442\u0435\u0440\u0432\u0430\u043b\u0435 (0.1, 0.9). \u0420\u0430\u0437\u0434\u0435\u043b\u0438\u043c \u044d\u0442\u043e\u0442 \u0438\u043d\u0442\u0435\u0440\u0432\u0430\u043b \u043d\u0430 30 \u0447\u0430\u0441\u0442\u0435\u0439.\n",
      "<li>\u0414\u043b\u044f \u043a\u0430\u0436\u0434\u043e\u0433\u043e \u0437\u043d\u0430\u0447\u0435\u043d\u0438\u044f \u0441\u0433\u0435\u043d\u0435\u0440\u0438\u0440\u043e\u0438\u0440\u0443\u0435\u043c 100 \u0440\u0430\u0437\u0431\u0438\u0435\u043d\u0438\u0439 \u0438 \u043d\u0430 \u043a\u0430\u0436\u0434\u043e\u043c \u0438\u0437 \u043d\u0438\u0445 \u043f\u043e\u0441\u0447\u0438\u0442\u0430\u0435\u043c \u043e\u0448\u0438\u0431\u043a\u0443 \u0434\u043b\u044f \u043c\u0435\u0442\u0440\u0438\u043a Accuracy, Percision, Recall \u0438 F1.\n",
      "<li>\u041f\u043e\u0441\u0442\u0440\u043e\u0438\u043c \u0433\u0440\u0430\u0444\u0438\u043a \u0437\u0430\u0432\u0438\u0441\u0438\u043c\u043e\u0441\u0442\u0438 \u0441\u0442\u0430\u043d\u0434\u0430\u0440\u0442\u043d\u043e\u0433\u043e \u043e\u0442\u043a\u043b\u043e\u043d\u0435\u043d\u0438\u044f \u044d\u0442\u0438\u0445 \u043e\u0448\u0438\u0431\u043e\u043a \u043e\u0442 \u043f\u0440\u043e\u043f\u043e\u0440\u0446\u0438\u0438 \u0440\u0430\u0437\u0431\u0438\u0435\u043d\u0438\u044f.\n",
      "</ol>"
     ]
    },
    {
     "cell_type": "code",
     "collapsed": false,
     "input": [
      "error_df = pandas.DataFrame(columns=('Test size', 'Accuracy', 'Percision', 'Recall', 'F1')) \n",
      "for test_part in np.linspace(0.1, 0.9, 30):\n",
      "    df = pandas.DataFrame(columns=('Accuracy', 'Percision', 'Recall', 'F1', 'sup'))    \n",
      "    for x in range(0, 100):\n",
      "        dataset = spam_data.reindex(np.random.permutation(spam_data.index))\n",
      "        X = dataset.drop(['spam'], axis=1)\n",
      "        y = dataset['spam']\n",
      "        X_train, X_test, y_train, y_test = \\\n",
      "        train_test_split(X, y, test_size=test_part)\n",
      "        dt_classifier = DecisionTreeClassifier(max_depth=7, criterion='gini').fit(X_train, y_train)\n",
      "        y_pred = dt_classifier.predict(X_test)\n",
      "        index = len(df)\n",
      "        df.loc[index] = [accuracy_score(y_test, y_pred)] + list(precision_recall_fscore_support(y_test, y_pred, average='macro'))\n",
      "    values = [test_part]\n",
      "    values.append(df['Accuracy'].std())\n",
      "    values.append(df['Percision'].std())\n",
      "    values.append(df['Recall'].std())\n",
      "    values.append(df['F1'].std())\n",
      "    index = len(error_df)\n",
      "    error_df.loc[index] = values"
     ],
     "language": "python",
     "metadata": {},
     "outputs": [],
     "prompt_number": 497
    },
    {
     "cell_type": "code",
     "collapsed": false,
     "input": [
      "plt.figure()\n",
      "rcParams['font.size'] = 13.0\n",
      "ax = error_df.plot(x='Test size', y='Accuracy', legend = True)\n",
      "ax.set_ylabel('Standard diviation')\n",
      "error_df.plot(x='Test size', y='Percision', legend = True)\n",
      "error_df.plot(x='Test size', y='Recall', legend = True)\n",
      "error_df.plot(x='Test size', y='F1', legend = True)\n",
      "legend(labels = ['Accuracy', 'Percision', 'Recall', 'F1'])"
     ],
     "language": "python",
     "metadata": {},
     "outputs": [
      {
       "metadata": {},
       "output_type": "pyout",
       "prompt_number": 498,
       "text": [
        "<matplotlib.legend.Legend at 0x32fcc9b0>"
       ]
      },
      {
       "metadata": {},
       "output_type": "display_data",
       "png": "[encoded data removed]",
       "text": [
        "<matplotlib.figure.Figure at 0x32d289e8>"
       ]
      }
     ],
     "prompt_number": 498
    },
    {
     "cell_type": "markdown",
     "metadata": {},
     "source": [
      "\u0418\u0437 \u0433\u0440\u0430\u0444\u0438\u043a\u0430 \u0432\u0438\u0434\u043d\u043e, \u0447\u0442\u043e \u043c\u0438\u043d\u0438\u043c\u0430\u043b\u044c\u043d\u043e\u0435 \u0441\u0442\u0430\u043d\u0434\u0430\u0440\u0442\u043d\u043e\u0435 \u043e\u0442\u043a\u043b\u043e\u043d\u0435\u043d\u0438\u0435 \u043e\u0448\u0438\u0431\u043e\u043a \u043c\u0435\u0442\u0440\u0438\u043a Accurace, Percision, Recall \u0438 F1 \u0434\u043e\u0441\u0442\u0438\u0433\u0430\u0435\u0442\u0441\u044f \u0432 \u0441\u043b\u0443\u0447\u0430\u0435, \u043a\u043e\u0433\u0434\u0430 \u0442\u0435\u0441\u0442\u043e\u0432\u0430\u044f \u0432\u044b\u0431\u043e\u0440\u043a\u0430 \u0441\u043e\u0441\u0442\u0430\u0432\u043b\u044f\u0435\u0442 \u043e\u043a\u043e\u043b\u043e 65% \u0432\u0441\u0435\u0433\u043e \u043d\u0430\u0431\u043e\u0440\u0430 \u0434\u0430\u043d\u043d\u044b\u0445."
     ]
    },
    {
     "cell_type": "heading",
     "level": 3,
     "metadata": {},
     "source": [
      "3. \u0412\u044b\u0431\u043e\u0440 \u043f\u043e\u0440\u043e\u0433\u0430 \u043a\u043b\u0430\u0441\u0441\u0438\u0444\u0438\u043a\u0430\u0446\u0438\u0438"
     ]
    },
    {
     "cell_type": "heading",
     "level": 6,
     "metadata": {},
     "source": [
      "\u041a\u0430\u043a\u043e\u0439 \u043a\u043b\u0430\u0441\u0441\u0438\u0444\u0438\u043a\u0430\u0442\u043e\u0440 \u0438\u043c\u0435\u0435\u0442 AUC-ROC \u0431\u043b\u0438\u0437\u043a\u0438\u0439 \u043a 0?"
     ]
    },
    {
     "cell_type": "markdown",
     "metadata": {},
     "source": [
      "\u041c\u0435\u0442\u0440\u0438\u043a\u0430 AUC-ROC \u0431\u0443\u0434\u0435\u0442 \u0431\u043b\u0438\u0437\u043a\u043e\u0439 \u043a 0 \u0434\u043b\u044f \u043a\u043b\u0430\u0441\u0441\u0438\u0444\u0438\u043a\u0430\u0442\u043e\u0440\u0430, \u0443 \u043a\u043e\u0442\u043e\u0440\u043e\u0433\u043e \u043e\u0447\u0435\u043d\u044c \u043d\u0438\u0437\u043a\u0438\u0439 True positive rate. \u041d\u0430\u043f\u0440\u0438\u043c\u0435\u0440, \u043c\u0435\u0442\u0440\u0438\u043a\u0430 AUC-ROC \u0431\u0443\u0434\u0435\u0442 \u0440\u0430\u0432\u043d\u0430 \u043d\u0443\u043b\u044e \u0434\u043b\u044f  \u043a\u043e\u043d\u0441\u0442\u0430\u043d\u0442\u043d\u043e\u0433\u043e \u043a\u043b\u0430\u0441\u0441\u0438\u0444\u0438\u043a\u0430\u0442\u043e\u0440\u0430, \u043a\u043e\u0442\u043e\u0440\u044b\u0439 \u0434\u043b\u044f \u043a\u0430\u0436\u0434\u043e\u0433\u043e \u043e\u0431\u044a\u0435\u043a\u0442\u0430 \u0434\u0430\u0435\u0442 \u043e\u0442\u0440\u0438\u0446\u0430\u0442\u0435\u043b\u044c\u043d\u044b\u0439 \u043e\u0442\u0432\u0435\u0442, \u0442\u043e \u0435\u0441\u0442\u044c \u0441\u0447\u0438\u0442\u0430\u0435\u0442, \u0447\u0442\u043e \u043a\u0430\u0436\u0434\u043e\u0435 \u043f\u0438\u0441\u044c\u043c\u043e \u043d\u0435 \u044f\u0432\u043b\u044f\u0435\u0442\u044f \u0441\u043f\u0430\u043c\u043e\u043c."
     ]
    },
    {
     "cell_type": "heading",
     "level": 6,
     "metadata": {},
     "source": [
      "\u0412\u0435\u0440\u043d\u043e \u043b\u0438, \u0447\u0442\u043e \u043a\u043b\u0430\u0441\u0441\u0438\u0444\u0438\u043a\u0430\u0442\u043e\u0440\u044b \u0438\u0437 \u043f\u0440\u0435\u0434\u044b\u0434\u0443\u0449\u0435\u0439 \u0447\u0430\u0441\u0442\u0438 \u0434\u0435\u0439\u0441\u0442\u0432\u0443\u044e\u0442 \u043f\u0443\u0442\u0435\u043c \u0441\u0440\u0430\u0432\u043d\u0435\u043d\u0438\u044f \u043d\u0435\u043a\u043e\u0442\u043e\u0440\u043e\u0439 \u043e\u0446\u0435\u043d\u043a\u0438 \u043f\u0440\u0438\u043d\u0430\u0434\u043b\u0435\u0436\u043d\u043e\u0441\u0442\u0438 \u043f\u043e\u043b\u043e\u0436\u0438\u0442\u0435\u043b\u044c\u043d\u043e\u043c\u0443 \u043a\u043b\u0430\u0441\u0441\u0443 \u0441 \u043f\u043e\u0440\u043e\u0433\u043e\u043c? \u0427\u0442\u043e \u044d\u0442\u043e \u0437\u0430 \u043e\u0446\u0435\u043d\u043a\u0438 \u043f\u0440\u0438\u043d\u0430\u0434\u043b\u0435\u0436\u043d\u043e\u0441\u0442\u0438? \u041a\u0430\u043a\u0438\u0435 \u043f\u043e\u0440\u043e\u0433\u0438 \u0431\u044b\u043b\u0438 \u0432\u044b\u0431\u0440\u0430\u043d\u044b?"
     ]
    },
    {
     "cell_type": "markdown",
     "metadata": {},
     "source": [
      "\u0414\u0430, \u0432\u0435\u0440\u043d\u043e, \u0447\u0442\u043e \u043e\u0431\u0430 \u0440\u0430\u0441\u0441\u043c\u043e\u0442\u0440\u0435\u043d\u043d\u044b\u0445 \u043a\u043b\u0430\u0441\u0441\u0438\u0444\u0438\u043a\u0430\u0442\u043e\u0440\u0430: \u043c\u043e\u0434\u0435\u043b\u044c k \u0431\u043b\u0438\u0436\u0430\u0439\u0448\u0438\u0445 \u0441\u043e\u0441\u0435\u0434\u0435\u0439 \u0438 \u0440\u0435\u0448\u0430\u044e\u0449\u0435\u0435 \u0434\u0435\u0440\u0435\u0432\u043e - \u0434\u0435\u0439\u0441\u0442\u0432\u0443\u044e\u0442 \u043f\u0443\u0442\u0435\u043c \u0441\u0440\u0430\u0432\u043d\u0435\u043d\u0438\u044f \u043e\u0446\u0435\u043d\u043a\u0438 \u043f\u0440\u0438\u043d\u0430\u0434\u043b\u0435\u0436\u043d\u043e\u0441\u0442\u0438 \u043f\u043e\u043b\u043e\u0436\u0438\u0442\u0435\u043b\u044c\u043d\u043e\u043c\u0443 \u043a\u043b\u0430\u0441\u0441\u0443 \u0441 \u043f\u043e\u0440\u043e\u0433\u043e\u043c. <br\\>\n",
      "\n",
      "\u0421\u043d\u0430\u0447\u0430\u043b\u0430 \u0440\u0430\u0441\u0441\u043c\u043e\u0442\u0440\u0438\u043c \u0440\u0435\u0448\u0430\u044e\u0449\u0435\u0435 \u0434\u0435\u0440\u0435\u0432\u043e.\n",
      "\u0412 \u0440\u0435\u0448\u0430\u044e\u0449\u0435\u043c \u0434\u0435\u0440\u0435\u0432\u0435 \u043a\u043b\u0430\u0441\u0441 \u043e\u0431\u044a\u0435\u043a\u0442\u0430 \u0432\u044b\u0431\u0438\u0440\u0430\u0435\u0442\u0441\u044f \u043a\u0430\u043a \u043d\u0430\u0438\u0431\u043e\u043b\u0435\u0435 \u0432\u0435\u0440\u043e\u044f\u0442\u043d\u044b\u0439 \u043a\u043b\u0430\u0441\u0441:\n",
      "$$y = arg \\max_{y\\in Y} P_{v_0}(y|x)$$\n",
      "\u0413\u0434\u0435 \u0432\u0435\u0440\u043e\u044f\u0442\u043d\u043e\u0441\u0442\u044c \u043a\u043b\u0430\u0441\u0441\u0430 \u043e\u043f\u0440\u0435\u0434\u0435\u043b\u044f\u0435\u0442\u0441\u044f \u043a\u0430\u043a \u0434\u043e\u043b\u044f \u043e\u0431\u044a\u0435\u043a\u0442\u043e\u0432 \u044d\u0442\u043e\u0433\u043e \u043a\u043b\u0430\u0441\u0441\u0430 \u0432 \u043b\u0438\u0441\u0442\u0435:\n",
      "$$P_v(y|x) = \\frac{1}{|U|}\\#\\{x_i \\in U: y_i = y\\}$$ \u0434\u043b\u044f \u0432\u0441\u0435\u0445 \u043b\u0438\u0441\u0442\u043e\u0432\u044b\u0445 \u0432\u0435\u0440\u0448\u0438\u043d $v$ <br\\>\n",
      "\u0422\u0430\u043a\u0438\u043c \u043e\u0431\u0440\u0430\u0437\u043e\u043c, \u043f\u043e\u043b\u0443\u0447\u0430\u0435\u0442\u0441\u044f \u0441\u043b\u0435\u0434\u0443\u044e\u0449\u0430\u044f \u043e\u0446\u0435\u043d\u043a\u0430 \u043f\u0440\u0438\u043d\u0430\u0434\u043b\u0435\u0436\u043d\u043e\u0441\u0442\u0438 \u043e\u0431\u044a\u0435\u043a\u0442\u0430 \u043f\u043e\u043b\u043e\u0436\u0438\u0442\u0435\u043b\u044c\u043d\u043e\u043c\u0443 \u043a\u043b\u0430\u0441\u0441\u0443:\n",
      "$$\\tilde y(x) = \\frac{1}{|U|}\\#\\{x_i \\in U: y_i = +1\\}$$\n",
      "\u041f\u0440\u0438 \u044d\u0442\u043e\u043c, \u0435\u0441\u043b\u0438 \u0432\u044b\u043f\u043e\u043b\u043d\u044f\u0435\u0442\u0441\u044f \u043e\u0431\u044a\u0435\u043a\u0442 \u043f\u0440\u0438\u043d\u0430\u0434\u043b\u0435\u0436\u0438\u0442 \u043f\u043e\u043b\u043e\u0436\u0438\u0442\u0435\u043b\u044c\u043d\u043e\u043c\u0443 \u043a\u043b\u0430\u0441\u0441\u0443 \u043f\u0440\u0438 \u0443\u0441\u043b\u043e\u0432\u0438\u0438:\n",
      "$$\\tilde y(x) \\ge 0.5$$\n",
      "\u0422\u043e \u0435\u0441\u0442\u044c \u0432 \u043a\u0430\u0447\u0435\u0441\u0442\u0432\u0435 \u043f\u043e\u0440\u043e\u0433\u0430 \u0432\u044b\u0431\u0440\u0430\u043d\u043e \u0437\u043d\u0430\u0447\u0435\u043d\u0438\u0435 $\\theta = 0.5$ <br\\><br\\>\n",
      "\u0422\u0435\u043f\u0435\u0440\u044c \u0440\u0430\u0441\u0441\u043c\u0442\u043e\u0440\u0438\u043c \u043e\u0431\u043e\u0431\u0449\u0435\u043d\u043d\u044b\u0439 \u043c\u0435\u0442\u0440\u0438\u0447\u0435\u0441\u043a\u0438\u0439 \u043a\u043b\u0430\u0441\u0441\u0438\u0444\u0438\u043a\u0430\u0442\u043e\u0440:\n",
      "$$a(x, X^l) = arg \\max_{y\\in Y}\\sum_{i = 1}^{l}[y^{(i)}=y]w(i, x)$$\n",
      "\u0414\u043b\u044f \u043c\u0435\u0442\u043e\u0434\u0430 k \u0431\u043b\u0438\u0436\u0430\u0439\u0448\u0438\u0445 \u0441\u043e\u0441\u0435\u0434\u0435\u0439 \u0438\u0441\u043f\u043e\u043b\u044c\u0437\u0443\u044e\u0442\u0441\u044f \u0432\u0435\u0441\u0430:\n",
      "$$w(i, x) = [i \\le k]$$\n",
      "\u0422\u043e \u0435\u0441\u0442\u044c \u0430\u043b\u0433\u043e\u0440\u0438\u0442\u043c \u043a\u043b\u0430\u0441\u0441\u0438\u0444\u0438\u043a\u0430\u0446\u0438\u0438 \u0434\u043b\u044f \u043c\u0435\u0442\u043e\u0434\u0430 k \u0431\u043b\u0438\u0436\u0430\u0439\u0448\u0438\u0445 \u0441\u043e\u0441\u0435\u0434\u0435\u0439 \u0438\u043c\u0435\u0435\u0442 \u0432\u0438\u0434:\n",
      "$$a(x, X^l) = arg \\max_{y\\in Y}\\sum_{i = 1}^{l}[y^{(i)}=y][i \\le k]$$\n",
      "\u0415\u0441\u043b\u0438 \u0440\u0430\u0441\u0441\u043c\u0430\u0442\u0440\u0438\u0432\u0430\u044e\u0442\u0441\u044f \u043a\u043b\u0430\u0441\u0441\u044b $Y = \\{-1, 1\\}$, \u0442\u043e \u043f\u043e\u043b\u0443\u0447\u0438\u043c, \u0447\u0442\u043e\n",
      "$$a(x, X^l) = arg \\max_{y\\in Y}\\sum_{i = 1}^{l}sgn(y^{(i)})[i \\le k]$$\n",
      "\u0422\u043e \u0435\u0441\u0442\u044c \u0432 \u043a\u0430\u0447\u0435\u0441\u0442\u0432\u0435 \u043e\u0446\u0435\u043d\u043a\u0438 \u043f\u0440\u0438\u043d\u0430\u0434\u043b\u0435\u0436\u043d\u043e\u0441\u0442\u0438 \u043e\u0431\u044a\u0435\u043a\u0442\u0430 \u043f\u043e\u043b\u043e\u0436\u0438\u0442\u0435\u043b\u044c\u043d\u043e\u043c\u0443 \u043a\u043b\u0430\u0441\u0441\u0443 \u0438\u0441\u043f\u043e\u043b\u044c\u0437\u0443\u0435\u0442\u0441\u044f \u043e\u0446\u0435\u043d\u043a\u0430:\n",
      "$$\\tilde y (x) = \\sum_{i = 1}^{l}sgn(y^{(i)})[i \\le k]$$\n",
      "\u0422\u043e\u0433\u0434\u0430 \u043a\u043b\u0430\u0441\u0441 \u043e\u0431\u044a\u0435\u043a\u0442\u0430 \u043e\u043f\u0440\u0435\u0434\u0435\u043b\u044f\u0435\u0442\u0441\u044f \u0438\u0437 \u0443\u0441\u043b\u043e\u0432\u0438\u044f:\n",
      "$$\\tilde y (x) > 0$$\n",
      "\u0422\u043e \u0432 \u043a\u0430\u0447\u0435\u0441\u0442\u0432\u0435 \u043f\u043e\u0440\u043e\u0433\u0430 \u0432\u044b\u0431\u0440\u0430\u043d\u043e \u0437\u043d\u0430\u0447\u0435\u043d\u0438\u0435 $\\theta = 0$ <br\\>\n",
      "\n"
     ]
    },
    {
     "cell_type": "markdown",
     "metadata": {},
     "source": [
      "\u041f\u043e\u0441\u0442\u0440\u043e\u0438\u043c ROC \u043a\u0440\u0438\u0432\u044b\u0435 \u0434\u043b\u044f \u0432\u0441\u0435\u0445 \u043f\u0440\u0435\u0434\u044b\u0434\u0443\u0449\u0438\u0445 \u043c\u043e\u0434\u0435\u043b\u0435\u0439:"
     ]
    },
    {
     "cell_type": "code",
     "collapsed": false,
     "input": [
      "plt.figure()\n",
      "roc_df = pandas.DataFrame()\n",
      "Labels = []\n",
      "def GetROCCurve(dataset, Classifier, name):\n",
      "    X = dataset.drop(['spam'], axis=1)\n",
      "    y = dataset['spam']\n",
      "    train_set_size = 3000\n",
      "    train_X = X[:train_set_size]\n",
      "    train_y = y[:train_set_size]\n",
      "    test_X = X[train_set_size:]\n",
      "    test_y = y[train_set_size:]\n",
      "    \n",
      "    classifier = Classifier.fit(train_X, train_y)\n",
      "    y_score = classifier.predict_proba(test_X)\n",
      "    fpr, tpr, t = roc_curve(test_y, y_score[:,1]) \n",
      "    roc_auc = auc(fpr, tpr)\n",
      "    plt.plot(fpr, tpr)\n",
      "    lable = '{0} (AUC-ROC = {1:.2f})'.format(name, roc_auc)\n",
      "    Labels.append(lable)\n",
      "    \n",
      "\n",
      "mixed_data = spam_data.reindex(np.random.permutation(spam_data.index))\n",
      "GetROCCurve(mixed_data, DecisionTreeClassifier(max_depth=7, criterion='gini'), 'Decision tree')\n",
      "GetROCCurve(mixed_data, DummyClassifier(strategy='constant', constant=1), 'Constant model')\n",
      "GetROCCurve(mixed_data, KNeighborsClassifier(n_neighbors=10), 'K-nearest neighbours')\n",
      "mixed_data_1 = mixed_data\n",
      "Scale_1(mixed_data_1)\n",
      "GetROCCurve(mixed_data_1, KNeighborsClassifier(n_neighbors=10), 'K-nearest neighbours (scaled std)')\n",
      "mixed_data_2 = mixed_data\n",
      "Scale_2(mixed_data_2)\n",
      "GetROCCurve(mixed_data_2, KNeighborsClassifier(n_neighbors=10), 'K-nearest neighbours (scaled minmax)')\n",
      "\n",
      "legend(loc=(1.2,0), labels = Labels)\n",
      "\n",
      "plt.xlabel('False Positive Rate')\n",
      "plt.ylabel('True Positive Rate')\n",
      "plt.title('ROC')\n",
      "plt.show()"
     ],
     "language": "python",
     "metadata": {},
     "outputs": [
      {
       "metadata": {},
       "output_type": "display_data",
       "png": "[encoded data removed]",
       "text": [
        "<matplotlib.figure.Figure at 0x28788cf8>"
       ]
      }
     ],
     "prompt_number": 511
    },
    {
     "cell_type": "markdown",
     "metadata": {},
     "source": [
      "\u041f\u0440\u0438 \u0441\u0440\u0430\u0432\u043d\u0435\u043d\u0438\u0438 \u0437\u043d\u0430\u0447\u0435\u043d\u0438\u0438 AUC-ROC \u0434\u043b\u044f \u0432\u0441\u0435\u0445 \u043f\u043e\u0441\u0442\u0440\u043e\u0435\u043d\u043d\u044b\u0445 \u043c\u043e\u0434\u0435\u043b\u0435\u0439, \u043f\u043e\u043b\u0443\u0447\u0438\u043b\u043e\u0441\u044c, \u0447\u0442\u043e \u0431\u043b\u0438\u0436\u0430\u0439\u0448\u0438\u0439 \u043a 1 AUC-ROC \u0438\u043c\u0435\u0435\u0442 \u043a\u043b\u0430\u0441\u0441\u0438\u0444\u0438\u043a\u0430\u0442\u043e\u0440 k-\u0431\u043b\u0438\u0436\u0430\u0439\u0448\u0438\u0445 \u0441\u043e\u0441\u0435\u0434\u0435\u0439, \u043f\u043e\u0441\u0442\u043e\u0440\u043e\u0435\u043d\u043d\u044b\u0439 \u043f\u043e \u043e\u0442\u043c\u0430\u0441\u0448\u0442\u0430\u0431\u0438\u0440\u043e\u0432\u0430\u043d\u043d\u044b\u043c \u043f\u0440\u0438\u0437\u043d\u0430\u043a\u0430\u043c (\u0434\u043b\u044f \u043c\u0430\u0441\u0448\u0442\u0430\u0431\u0438\u0440\u043e\u0432\u0430\u043d\u0438\u044f \u0438\u0441\u043f\u043e\u043b\u044c\u0437\u043e\u0432\u0430\u043b\u043e\u0441\u044c \u0441\u0440\u0435\u0434\u043d\u0435\u0435 \u0437\u043d\u0430\u0447\u0435\u043d\u0438\u0435 \u043f\u0440\u0438\u0437\u043d\u0430\u043a\u0430 \u0438 \u0441\u0442\u0430\u043d\u0434\u0430\u0440\u0442\u043d\u043e\u0435 \u043e\u0442\u043a\u043b\u043e\u043d\u0435\u043d\u0438\u0435). \u0422\u043e\u0442 \u0444\u0430\u043a\u0442, \u0447\u0442\u043e \u043f\u043e \u0434\u0430\u043d\u043d\u043e\u0439 \u043c\u0435\u0442\u0440\u0438\u043a\u0435 \u043c\u0435\u0442\u043e\u0434 \u0431\u043b\u0438\u0436\u0430\u0439\u0448\u0438\u0445 \u0441\u043e\u0441\u0435\u0434\u0435\u0439 \u043f\u0440\u0435\u0432\u0437\u043e\u0448\u0435\u043b \u0440\u0435\u0448\u0430\u044e\u0449\u0435\u0435 \u0434\u0435\u0440\u0435\u0432\u043e \u043c\u043e\u0436\u043d\u043e \u043e\u0431\u044a\u044f\u0441\u043d\u0438\u0442\u044c \u0442\u0435\u043c, \u0447\u0442\u043e \u0440\u0435\u0448\u0430\u044e\u0449\u0435\u0435 \u0434\u0435\u0440\u0435\u0432\u043e \u043e\u043a\u0430\u0437\u0430\u043b\u043e\u0441\u044c \u0431\u043e\u043b\u0435\u0435 \u0447\u0443\u0432\u0441\u0442\u0432\u0438\u0442\u0435\u043b\u044c\u043d\u044b\u043c \u043a \u0438\u0437\u043c\u0435\u043d\u0435\u043d\u0438\u044e \u043f\u043e\u0440\u043e\u0433\u0430 \u043a\u043b\u0430\u0441\u0441\u0438\u0444\u0438\u043a\u0430\u0446\u0438\u0438. \u0415\u0441\u043b\u0438 \u043d\u0430 \u043e\u0441\u043d\u043e\u0432\u0435 \u043f\u043e\u0440\u043e\u0433\u043e\u0432\u043e\u0433\u043e \u0437\u043d\u0430\u0447\u0435\u043d\u0438\u044f \u0432 \u043b\u0438\u0441\u0442\u0435 \u0434\u0435\u0440\u0435\u0432\u0430 \u0431\u0443\u0434\u0435\u0442 \u0432\u044b\u0431\u0440\u0430\u043d \u043d\u0435 \u043c\u0430\u0436\u043e\u0440\u0438\u0442\u0430\u0440\u043d\u044b\u0439 \u043a\u043b\u0430\u0441\u0441, \u0442\u043e \u043a\u0430\u0447\u0435\u0441\u0442\u0432\u043e \u043a\u043b\u0430\u0441\u0441\u0438\u0444\u0438\u043a\u0430\u0442\u043e\u0440\u0430 \u0443\u043f\u0430\u0434\u0435\u0442.\n"
     ]
    },
    {
     "cell_type": "code",
     "collapsed": false,
     "input": [
      "plt.figure()\n",
      "roc_df = pandas.DataFrame()\n",
      "Labels = []\n",
      "prec_rec_data = {}\n",
      "def GetROCCurve(dataset, Classifier, name):\n",
      "    X = dataset.drop(['spam'], axis=1)\n",
      "    y = dataset['spam']\n",
      "    train_set_size = 3000\n",
      "    train_X = X[:train_set_size]\n",
      "    train_y = y[:train_set_size]\n",
      "    test_X = X[train_set_size:]\n",
      "    test_y = y[train_set_size:]\n",
      "    \n",
      "    classifier = Classifier.fit(train_X, train_y)\n",
      "    y_score = classifier.predict_proba(test_X)\n",
      "    precision, recall, thresholds = precision_recall_curve(test_y, y_score[:,1]) \n",
      "    prec_rec_data[name] = {'precision':precision, 'recall':recall}\n",
      "    plt.plot(recall, precision)\n",
      "    Labels.append(name)\n",
      "    \n",
      "\n",
      "mixed_data = spam_data.reindex(np.random.permutation(spam_data.index))\n",
      "GetROCCurve(mixed_data, DecisionTreeClassifier(max_depth=7, criterion='gini'), 'Decision tree')\n",
      "GetROCCurve(mixed_data, DummyClassifier(strategy='constant', constant=1), 'Constant model')\n",
      "GetROCCurve(mixed_data, KNeighborsClassifier(n_neighbors=10), 'K-nearest neighbours')\n",
      "mixed_data_1 = mixed_data\n",
      "Scale_1(mixed_data_1)\n",
      "GetROCCurve(mixed_data_1, KNeighborsClassifier(n_neighbors=10), 'K-nearest neighbours (scaled std)')\n",
      "mixed_data_2 = mixed_data\n",
      "Scale_2(mixed_data_2)\n",
      "GetROCCurve(mixed_data_2, KNeighborsClassifier(n_neighbors=10), 'K-nearest neighbours (scaled minmax)')\n",
      "\n",
      "legend(loc=(1.2,0), labels = Labels)\n",
      "\n",
      "plt.xlabel('Recall')\n",
      "plt.ylabel('Precision')\n",
      "plt.title('Precision-Recall')\n",
      "plt.show()"
     ],
     "language": "python",
     "metadata": {},
     "outputs": [
      {
       "metadata": {},
       "output_type": "display_data",
       "png": "[encoded data removed]",
       "text": [
        "<matplotlib.figure.Figure at 0x287f7550>"
       ]
      }
     ],
     "prompt_number": 513
    },
    {
     "cell_type": "code",
     "collapsed": false,
     "input": [
      "min_prec = 0.9\n",
      "max_recall = {}\n",
      "\n",
      "for key, value in prec_rec_data.items():\n",
      "    recall = []\n",
      "    for prec, rec in zip(value['precision'], value['recall']):\n",
      "        if prec >= min_prec:\n",
      "            recall.append(rec)\n",
      "    max_recall[key] = max(recall)\n",
      "        \n",
      "df = pandas.DataFrame.from_dict(max_recall, orient='index')\n",
      "df['Max recall'] = df[0]\n",
      "df = df.drop(0, axis = 1)\n",
      "df"
     ],
     "language": "python",
     "metadata": {},
     "outputs": [
      {
       "html": [
        "<div style=\"max-height:1000px;max-width:1500px;overflow:auto;\">\n",
        "<table border=\"1\" class=\"dataframe\">\n",
        "  <thead>\n",
        "    <tr style=\"text-align: right;\">\n",
        "      <th></th>\n",
        "      <th>Max recall</th>\n",
        "    </tr>\n",
        "  </thead>\n",
        "  <tbody>\n",
        "    <tr>\n",
        "      <th>K-nearest neighbours</th>\n",
        "      <td> 0.000000</td>\n",
        "    </tr>\n",
        "    <tr>\n",
        "      <th>K-nearest neighbours (scaled minmax)</th>\n",
        "      <td> 0.822358</td>\n",
        "    </tr>\n",
        "    <tr>\n",
        "      <th>K-nearest neighbours (scaled std)</th>\n",
        "      <td> 0.830015</td>\n",
        "    </tr>\n",
        "    <tr>\n",
        "      <th>Decision tree</th>\n",
        "      <td> 0.886677</td>\n",
        "    </tr>\n",
        "    <tr>\n",
        "      <th>Constant model</th>\n",
        "      <td> 0.000000</td>\n",
        "    </tr>\n",
        "  </tbody>\n",
        "</table>\n",
        "</div>"
       ],
       "metadata": {},
       "output_type": "pyout",
       "prompt_number": 501,
       "text": [
        "                                      Max recall\n",
        "K-nearest neighbours                    0.000000\n",
        "K-nearest neighbours (scaled minmax)    0.822358\n",
        "K-nearest neighbours (scaled std)       0.830015\n",
        "Decision tree                           0.886677\n",
        "Constant model                          0.000000"
       ]
      }
     ],
     "prompt_number": 501
    },
    {
     "cell_type": "markdown",
     "metadata": {},
     "source": [
      "\u0412 \u0442\u0430\u0431\u043b\u0438\u0446\u0435 \u0432\u044b\u0448\u0435 \u043f\u0440\u0435\u0434\u0441\u0442\u0430\u0432\u043b\u0435\u043d\u044b \u043c\u0430\u043a\u0441\u0438\u043c\u0430\u043b\u044c\u043d\u044b\u0435 \u0437\u043d\u0430\u0447\u0435\u043d\u0438\u044f \u043f\u043e\u043b\u043d\u043e\u0442\u044b \u043e\u043f\u0440\u0435\u0434\u0435\u043b\u0435\u043d\u0438\u044f \u0441\u043f\u0430\u043c\u0430, \u043a\u043e\u0442\u043e\u0440\u044b\u0435 \u0434\u043e\u0441\u0442\u0438\u0433\u0430\u044e\u0442 \u043f\u043e\u0441\u0442\u0440\u043e\u0435\u043d\u043d\u044b\u0435 \u043a\u043b\u0430\u0441\u0441\u0438\u0444\u0438\u043a\u0430\u0442\u043e\u0440\u044b, \u0442\u043e\u0447\u043d\u043e\u0441\u0442\u044c \u043a\u043e\u0442\u043e\u0440\u044b\u0445 \u0432\u044b\u0448\u0435 90%. \u041d\u0430\u0438\u0431\u043e\u043b\u044c\u0448\u0443\u044e \u043f\u043e\u043b\u043d\u043e\u0442\u0443 \u043f\u0440\u0438 \u044d\u0442\u043e\u043c \u0438\u043c\u0435\u0435\u0442 \u0440\u0435\u0448\u0430\u044e\u0449\u0435\u0435 \u0434\u0435\u0440\u0435\u0432\u043e, \u043a\u043e\u0442\u043e\u0440\u043e\u0435, \u043a\u0430\u043a \u043c\u044b \u043f\u043e\u043c\u043d\u0438\u043c, \u0438 \u043e\u043a\u0430\u0437\u0430\u043b\u043e\u0441\u044c \u043b\u0443\u0447\u0448\u0435\u0439 \u043c\u043e\u0434\u0435\u043b\u044c\u044e \u0434\u043b\u044f \u043d\u0430\u0448\u0435\u0439 \u0437\u0430\u0434\u0430\u0447\u0438."
     ]
    },
    {
     "cell_type": "markdown",
     "metadata": {},
     "source": [
      "\u041f\u043e\u0441\u0442\u0440\u043e\u0438\u043c \u0433\u0440\u0430\u0444\u0438\u043a Precision-Recall \u0441 \u043b\u0438\u043d\u0438\u044f\u043c\u0438 \u0443\u0440\u043e\u0432\u043d\u0430\u044f \u043c\u0435\u0442\u0440\u0438\u043a\u0438 F1."
     ]
    },
    {
     "cell_type": "code",
     "collapsed": false,
     "input": [
      "plt.figure(figsize = (10, 5))\n",
      "rcParams['font.size'] = 15.0\n",
      "markers = ['o','^', 's', 'D', '*']\n",
      "for item, style in zip(prec_rec_data.items(), markers):\n",
      "    key, value = item\n",
      "    plt.plot(value['recall'], value['precision'], linestyle='None', marker=style,markersize=10)\n",
      "legend(loc=(1.2,0), labels = Labels)\n",
      "\n",
      "plt.xlabel('Recall')\n",
      "plt.ylabel('Precision')\n",
      "plt.title('Precision-Recall')\n",
      "f1_levels = [[2.0 / (1.0 / recall + 1.0 / precision) for precision in frange(0.01, 1.0, 0.05)] for recall in frange(0.01, 1.0, 0.05)]\n",
      "    \n",
      "conturs = plt.contour(frange(0.01, 1.0, 0.05), frange(0.01, 1.0, 0.05), f1_levels)\n",
      "plt.clabel(conturs, inline=1)"
     ],
     "language": "python",
     "metadata": {},
     "outputs": [
      {
       "metadata": {},
       "output_type": "pyout",
       "prompt_number": 524,
       "text": [
        "<a list of 6 text.Text objects>"
       ]
      },
      {
       "metadata": {},
       "output_type": "display_data",
       "png": "[encoded data removed]",
       "text": [
        "<matplotlib.figure.Figure at 0x32d290f0>"
       ]
      }
     ],
     "prompt_number": 524
    },
    {
     "cell_type": "heading",
     "level": 3,
     "metadata": {},
     "source": [
      "4. \u041a\u0440\u043e\u0441\u0441-\u0432\u0430\u043b\u0438\u0434\u0430\u0446\u0438\u044f \u0438 \u043f\u043e\u0434\u0431\u043e\u0440 \u043f\u0430\u0440\u0430\u043c\u0435\u0442\u0440\u043e\u0432"
     ]
    },
    {
     "cell_type": "markdown",
     "metadata": {},
     "source": [
      "\u0412 \u043a\u0430\u0447\u0435\u0441\u0442\u0432\u0435 \u0441\u0445\u0435\u043c\u044b \u043a\u0440\u043e\u0441\u0441-\u0432\u0430\u043b\u0438\u0434\u0430\u0446\u0438\u0438 \u0432\u044b\u0431\u0435\u0440\u0435\u043c \u0441\u0445\u0435\u043c\u0443 K-Fold. \u0420\u0430\u0437\u043e\u0431\u044c\u0435\u043c \u0438\u0441\u0445\u043e\u0434\u043d\u0443\u044e \u0432\u044b\u0431\u043e\u0440\u043a\u0443 \u043d\u0430 train \u0438 test \u0442\u0430\u043a, \u0447\u0442\u043e \u0432 \u0442\u0435\u0441\u0442\u043e\u0432\u0443\u044e \u0432\u044b\u0431\u043e\u0440\u043a\u0443 \u043f\u043e\u043f\u0430\u0434\u0435\u0442 \u043f\u0440\u0438\u043c\u0435\u0440\u043d\u043e 65% \u0438\u0441\u0445\u043e\u0434\u043d\u043e\u0439 \u0432\u044b\u0431\u043e\u0440\u043a\u0438. \u0414\u043b\u044f \u043a\u0440\u043e\u0441\u0441-\u0432\u0430\u043b\u0438\u0434\u0430\u0446\u0438\u0438 \u0438 \u043f\u043e\u0441\u0442\u0440\u043e\u0435\u043d\u0438\u044f \u0432\u0441\u0435\u0445 \u043f\u043e\u0441\u043b\u0435\u0434\u0443\u044e\u0449\u0438\u0445 \u043c\u043e\u0434\u0435\u043b\u0438\u0439 \u0431\u0443\u0434\u0435\u043c \u0438\u0441\u043f\u043e\u043b\u044c\u0437\u043e\u0432\u0430\u0442\u044c \u043f\u043e\u043b\u0443\u0447\u0435\u043d\u043d\u044b\u0435 \u043f\u043e\u0434\u0432\u044b\u0431\u043e\u0440\u043a\u0438."
     ]
    },
    {
     "cell_type": "code",
     "collapsed": false,
     "input": [
      "dataset = spam_data.reindex(np.random.permutation(spam_data.index))\n",
      "X = dataset.drop(['spam'], axis=1)\n",
      "y = dataset['spam']\n",
      "X_train, X_test, y_train, y_test = \\\n",
      "train_test_split(X, y, test_size=0.65)"
     ],
     "language": "python",
     "metadata": {},
     "outputs": [],
     "prompt_number": 516
    },
    {
     "cell_type": "markdown",
     "metadata": {},
     "source": [
      "\u0411\u0443\u0434\u0435\u043c \u043e\u043f\u0442\u0438\u043c\u0438\u0437\u0438\u0440\u043e\u0432\u0430\u0442\u044c \u043c\u0435\u0442\u0440\u0438\u043a\u0443 AUC-ROC- \u043f\u043b\u043e\u0449\u0430\u0434\u044c \u043f\u043e\u0434 \u0433\u0440\u0430\u0444\u0438\u043a\u043e\u043c ROC \u043a\u0440\u0438\u0432\u043e\u0439. \u0420\u0430\u0437\u043e\u0431\u044c\u0435\u043c \u0442\u0435\u0441\u0442\u043e\u0432\u0443\u044e \u0432\u044b\u0431\u043e\u0440\u043a\u0443 \u043d\u0430 5 \u0444\u043e\u043b\u0434\u043e\u0432 (cv=5). \u0421 \u043f\u043e\u043c\u043e\u0449\u044c\u044e \u043a\u0440\u043e\u0441\u0441-\u0432\u0430\u043b\u0438\u0434\u0430\u0446\u0438\u0438 \u0434\u043b\u044f \u0440\u0435\u0448\u0430\u044e\u0449\u0435\u0433\u043e \u0434\u0435\u0440\u0435\u0432\u0430 \u043d\u0430\u0439\u0434\u0435\u043c \u043e\u043f\u0442\u0438\u043c\u0430\u043b\u044c\u043d\u044b\u0439 \u043d\u0430\u0431\u043e\u0440 \u0441\u043b\u0435\u0434\u0443\u044e\u0449\u0438\u0445 \u043f\u0430\u0440\u0430\u043c\u0435\u0442\u0440\u043e\u0432:\n",
      "<ul>\n",
      "<li> \u041a\u0440\u0438\u043f\u0442\u0435\u0440\u0438\u0439 \u0440\u0430\u0437\u0431\u0438\u0435\u043d\u0438\u044f\n",
      "<li> \u041c\u0430\u043a\u0441\u0438\u043c\u0430\u043b\u044c\u043d\u0430\u044f \u0433\u043b\u0443\u0431\u0438\u043d\u0430\n",
      "<li> \u041c\u0438\u043d\u0438\u043c\u0430\u043b\u044c\u043d\u043e\u0435 \u0447\u0438\u0441\u043b\u043e \u043e\u0431\u044a\u0435\u043a\u0442\u043e\u0432 \u0432 \u043b\u0438\u0441\u0442\u0435\n",
      "</ul>"
     ]
    },
    {
     "cell_type": "code",
     "collapsed": false,
     "input": [
      "params = {'criterion': ['gini', 'entropy'], 'max_depth' : arange(1, 100, 5),'min_samples_leaf':arange(10, 100, 5)}\n",
      "grid_searcher = GridSearchCV(DecisionTreeClassifier(),\\\n",
      "                             params, cv=5, scoring='roc_auc', n_jobs=8)\n",
      "grid_searcher.fit(X_train, y_train)\n",
      "print grid_searcher.best_score_\n",
      "print grid_searcher.best_estimator_\n",
      "dt_cv = grid_searcher.best_estimator_\n",
      "\n",
      "classifiers = {}\n",
      "classifiers['dt_cv'] = grid_searcher.best_score_"
     ],
     "language": "python",
     "metadata": {},
     "outputs": [
      {
       "output_type": "stream",
       "stream": "stdout",
       "text": [
        "0.951767038307\n",
        "DecisionTreeClassifier(compute_importances=None, criterion='entropy',\n",
        "            max_depth=26, max_features=None, max_leaf_nodes=None,\n",
        "            min_density=None, min_samples_leaf=15, min_samples_split=2,\n",
        "            random_state=None, splitter='best')\n"
       ]
      }
     ],
     "prompt_number": 517
    },
    {
     "cell_type": "markdown",
     "metadata": {},
     "source": [
      "\u0418\u0442\u0430\u043a, \u043d\u0430\u043c\u0438 \u0431\u044b\u043b\u0438 \u043f\u043e\u043b\u0443\u0447\u0438\u043d\u044b \u0441\u043b\u0435\u0434\u0443\u044e\u0449\u0438\u0435 \u043e\u043f\u0442\u0438\u043c\u0430\u043b\u044c\u043d\u044b\u0435 \u0437\u043d\u0430\u0447\u0435\u043d\u0438\u044f \u0432\u044b\u0431\u0440\u0430\u043d\u043d\u044b\u0445 \u043f\u0430\u0440\u0430\u043c\u0435\u0442\u0440\u043e\u0432 \u043c\u043e\u0434\u0435\u043b\u0438:\n",
      "<ul>\n",
      "<li> \u041a\u0440\u0438\u043f\u0442\u0435\u0440\u0438\u0439 \u0440\u0430\u0437\u0431\u0438\u0435\u043d\u0438\u044f: entropy\n",
      "<li> \u041c\u0430\u043a\u0441\u0438\u043c\u0430\u043b\u044c\u043d\u0430\u044f \u0433\u043b\u0443\u0431\u0438\u043d\u0430 \u0434\u0435\u0440\u0435\u0432\u0430: 26\n",
      "<li> \u041c\u0438\u043d\u0438\u043c\u0430\u043b\u044c\u043d\u043e\u0435 \u0447\u0438\u0441\u043b\u043e \u043e\u0431\u044a\u0435\u043a\u0442\u043e\u0432 \u0432 \u043b\u0438\u0441\u0442\u0435: 15\n",
      "</ul>\n",
      "\n",
      "\u041f\u043e\u0441\u0442\u0440\u043e\u0438\u043c \u0440\u0430\u0441\u0441\u043c\u043e\u0442\u0440\u0435\u043d\u043d\u043e\u0435 \u0432\u044b\u0448\u0435 \u0440\u0435\u0448\u0430\u044e\u0449\u0435\u0435 \u0434\u0435\u0440\u0435\u0432\u043e: \u0441 \u043c\u0430\u043a\u0441\u0438\u043c\u0430\u043b\u044c\u043d\u043e\u0439 \u0433\u043b\u0443\u0431\u0438\u043d\u043e\u0439 \u0440\u0430\u0432\u043d\u043e\u0439 7 \u0438\u043a\u0440\u0438\u0442\u0435\u0440\u0438\u0435\u043c \u0440\u0430\u0437\u0431\u0438\u0435\u043d\u0438\u044f  \u0414\u0436\u0438\u043d\u043d\u0438. \u041f\u043e\u0441\u0447\u0438\u0442\u0430\u0435\u043c \u0434\u043b\u044f \u043d\u0435\u0433\u043e \u043c\u0435\u0442\u0440\u0438\u043a\u0443 AUC-ROC."
     ]
    },
    {
     "cell_type": "code",
     "collapsed": false,
     "input": [
      "dt_classifier = DecisionTreeClassifier(max_depth=7, criterion='gini').fit(X_train, y_train)\n",
      "y_score = dt_classifier.predict_proba(X_test)\n",
      "fpr, tpr, t = roc_curve(y_test, y_score[:,1]) \n",
      "roc_auc = auc(fpr, tpr)\n",
      "print roc_auc\n",
      "classifiers['dt'] = roc_auc\n"
     ],
     "language": "python",
     "metadata": {},
     "outputs": [
      {
       "output_type": "stream",
       "stream": "stdout",
       "text": [
        "0.879697122356\n"
       ]
      }
     ],
     "prompt_number": 519
    },
    {
     "cell_type": "markdown",
     "metadata": {},
     "source": [
      "\u0422\u0430\u043a\u0438\u043c \u043e\u0431\u0440\u0430\u0437\u043e\u043c, \u043f\u043e\u043b\u0443\u0447\u0438\u043b\u043e\u0441\u044c, \u0447\u0442\u043e \u043c\u043e\u0434\u0435\u043b\u044c \u0441 \u043e\u043f\u0442\u0438\u043c\u0430\u043b\u044c\u043d\u044b\u043c \u043d\u0430\u0431\u043e\u0440\u043e\u043c \u043f\u0430\u0440\u0430\u043c\u0435\u0442\u0440\u043e\u0432 \u0438\u043c\u0435\u0435\u0442 \u043b\u0443\u0447\u0448\u0435\u0435 \u0437\u043d\u0430\u0447\u0435\u043d\u0438\u0435 \u043c\u0435\u0442\u0440\u0438\u043a\u0438."
     ]
    },
    {
     "cell_type": "markdown",
     "metadata": {},
     "source": [
      "\u0422\u0435\u043f\u0435\u0440\u044c \u0441 \u043f\u043e\u043c\u043e\u0449\u044c\u044e \u043a\u0440\u043e\u0441\u0441-\u0432\u0430\u043b\u0438\u0434\u0430\u0446\u0438\u0438 \u043d\u0430\u0439\u0434\u0435\u043c \u043e\u043f\u0442\u0438\u043c\u0430\u043b\u044c\u043d\u044b\u0435 \u043f\u0430\u0440\u0430\u043c\u0435\u0442\u0440\u044b \u0434\u043b\u044f \u043c\u043e\u0434\u0435\u043b\u0438 k \u0431\u043b\u0438\u0436\u0430\u0439\u0448\u0438\u0445 \u0441\u043e\u0441\u0435\u0434\u0435\u0439. \u0411\u0443\u0434\u0435\u043c \u043e\u043f\u0442\u0438\u043c\u0438\u0437\u0438\u0440\u043e\u0432\u0430\u0442\u044c \u0441\u043b\u0435\u0434\u0443\u044e\u0449\u0438\u0435 \u043f\u0430\u0440\u0430\u043c\u0435\u0442\u0440\u044b:\n",
      "<ul>\n",
      "<li>\u0427\u0438\u0441\u043b\u043e \u0441\u043e\u0441\u0435\u0434\u0435\u0439\n",
      "<li>\u0424\u0443\u043d\u043a\u0446\u0438\u044f \u0440\u0430\u0441\u0441\u0442\u043e\u044f\u043d\u0438\u044f\n",
      "<li>\u0421\u0445\u0435\u043c\u0430 \u0432\u0437\u0432\u0435\u0448\u0438\u0432\u0430\u043d\u0438\u044f\n",
      "</ul>"
     ]
    },
    {
     "cell_type": "code",
     "collapsed": false,
     "input": [
      "params = {'n_neighbors': arange(1, 200, 5), 'weights' : ['uniform', 'distance'],\\\n",
      "          'metric':['minkowski', 'euclidean', 'manhattan', 'chebyshev']}\n",
      "grid_searcher = GridSearchCV(KNeighborsClassifier(),\\\n",
      "                             params, cv=5, scoring='roc_auc', n_jobs=8)\n",
      "grid_searcher.fit(X_train, y_train)\n",
      "print grid_searcher.best_score_\n",
      "print grid_searcher.best_estimator_\n",
      "dt_cv = grid_searcher.best_estimator_\n",
      "\n",
      "classifiers['knn_cv'] = grid_searcher.best_score_"
     ],
     "language": "python",
     "metadata": {},
     "outputs": [
      {
       "output_type": "stream",
       "stream": "stdout",
       "text": [
        "0.893333871783\n",
        "KNeighborsClassifier(algorithm='auto', leaf_size=30, metric='manhattan',\n",
        "           metric_params=None, n_neighbors=21, p=2, weights='distance')\n"
       ]
      }
     ],
     "prompt_number": 520
    },
    {
     "cell_type": "markdown",
     "metadata": {},
     "source": [
      "\u0418\u0442\u0430\u043a, \u043d\u0430\u043c\u0438 \u0431\u044b\u043b\u0438 \u043f\u043e\u043b\u0443\u0447\u0438\u043d\u044b \u0441\u043b\u0435\u0434\u0443\u044e\u0449\u0438\u0435 \u043e\u043f\u0442\u0438\u043c\u0430\u043b\u044c\u043d\u044b\u0435 \u0437\u043d\u0430\u0447\u0435\u043d\u0438\u044f \u0432\u044b\u0431\u0440\u0430\u043d\u043d\u044b\u0445 \u043f\u0430\u0440\u0430\u043c\u0435\u0442\u0440\u043e\u0432 \u043c\u043e\u0434\u0435\u043b\u0438:\n",
      "<ul>\n",
      "<li>\u0427\u0438\u0441\u043b\u043e \u0441\u043e\u0441\u0435\u0434\u0435\u0439: 21\n",
      "<li>\u0424\u0443\u043d\u043a\u0446\u0438\u044f \u0440\u0430\u0441\u0441\u0442\u043e\u044f\u043d\u0438\u044f: manhattan\n",
      "<li>\u0421\u0445\u0435\u043c\u0430 \u0432\u0437\u0432\u0435\u0448\u0438\u0432\u0430\u043d\u0438\u044f: distance\n",
      "</ul>"
     ]
    },
    {
     "cell_type": "markdown",
     "metadata": {},
     "source": [
      "\u0415\u0449\u0435 \u0440\u0430\u0437 \u043f\u043e\u0441\u0442\u0440\u043e\u0438\u043c \u043c\u043e\u0434\u0435\u043b\u044c knn, \u043a\u043e\u0442\u043e\u0440\u0430\u044f \u0440\u0430\u0441\u0441\u043c\u0430\u0442\u0440\u0438\u0432\u0430\u043b\u0430\u0441\u044c \u0440\u0430\u043d\u0435\u0435. \u0418 \u043f\u043e\u0441\u0447\u0438\u0442\u0430\u0435\u043c \u0434\u043b\u044f \u043d\u0435\u0435 \u0437\u043d\u0430\u0447\u0435\u043d\u0438\u0435 \u043c\u0435\u0442\u0440\u0438\u043a\u0438 AUC-ROC."
     ]
    },
    {
     "cell_type": "code",
     "collapsed": false,
     "input": [
      "knn_classifier = KNeighborsClassifier(n_neighbors=10).fit(X_train, y_train)\n",
      "y_score = knn_classifier.predict_proba(X_test)\n",
      "fpr, tpr, t = roc_curve(y_test, y_score[:,1]) \n",
      "roc_auc = auc(fpr, tpr)\n",
      "print roc_auc\n",
      "classifiers['knn'] = roc_auc"
     ],
     "language": "python",
     "metadata": {},
     "outputs": [
      {
       "output_type": "stream",
       "stream": "stdout",
       "text": [
        "0.828920742387\n"
       ]
      }
     ],
     "prompt_number": 521
    },
    {
     "cell_type": "markdown",
     "metadata": {},
     "source": [
      "\u0421\u0440\u0430\u0432\u043d\u0438\u043c \u0432\u0441\u0435 \u043f\u043e\u0441\u0442\u0440\u043e\u0435\u043d\u043d\u044b\u0435 \u043c\u043e\u0434\u0435\u043b\u0438 \u043f\u043e \u043c\u0435\u0442\u0440\u0438\u043a\u0435 AUC-ROC."
     ]
    },
    {
     "cell_type": "code",
     "collapsed": false,
     "input": [
      "df = pandas.DataFrame.from_dict(classifiers, orient='index')\n",
      "df['AUC-ROC'] = df[0]\n",
      "df = df.drop(0, axis = 1)\n",
      "df"
     ],
     "language": "python",
     "metadata": {},
     "outputs": [
      {
       "html": [
        "<div style=\"max-height:1000px;max-width:1500px;overflow:auto;\">\n",
        "<table border=\"1\" class=\"dataframe\">\n",
        "  <thead>\n",
        "    <tr style=\"text-align: right;\">\n",
        "      <th></th>\n",
        "      <th>AUC-ROC</th>\n",
        "    </tr>\n",
        "  </thead>\n",
        "  <tbody>\n",
        "    <tr>\n",
        "      <th>knn</th>\n",
        "      <td> 0.828921</td>\n",
        "    </tr>\n",
        "    <tr>\n",
        "      <th>dt_cv</th>\n",
        "      <td> 0.951767</td>\n",
        "    </tr>\n",
        "    <tr>\n",
        "      <th>dt</th>\n",
        "      <td> 0.879697</td>\n",
        "    </tr>\n",
        "    <tr>\n",
        "      <th>knn_cv</th>\n",
        "      <td> 0.893334</td>\n",
        "    </tr>\n",
        "  </tbody>\n",
        "</table>\n",
        "</div>"
       ],
       "metadata": {},
       "output_type": "pyout",
       "prompt_number": 522,
       "text": [
        "         AUC-ROC\n",
        "knn     0.828921\n",
        "dt_cv   0.951767\n",
        "dt      0.879697\n",
        "knn_cv  0.893334"
       ]
      }
     ],
     "prompt_number": 522
    },
    {
     "cell_type": "markdown",
     "metadata": {},
     "source": [
      "\u0412 \u044d\u0442\u043e\u043c \u0441\u043b\u0443\u0447\u0430\u0435 \u043d\u0430\u0438\u0431\u043e\u043b\u0435\u0435 \u0442\u043e\u0447\u043d\u044b\u043c \u0441\u043e\u0433\u043b\u0430\u0441\u043d\u043e \u043c\u0435\u0442\u0440\u0438\u043a\u0435 AUC-ROC \u043e\u043a\u0430\u0437\u0430\u043b\u043e\u0441\u044c \u0440\u0435\u0448\u0430\u044e\u0449\u0435\u0435 \u0434\u0435\u0440\u0435\u0432\u043e \u0441 \u043e\u043f\u0442\u0438\u043c\u0430\u043b\u044c\u043d\u044b\u043c\u0438 \u043f\u0430\u0440\u0430\u043c\u0435\u0442\u0440\u0430\u043c\u0438. \u0418\u0437 \u0442\u0430\u0431\u043b\u0438\u0446\u044b \u0442\u0430\u043a\u0436\u0435 \u0432\u0438\u0434\u043d\u043e, \u0447\u0442\u043e \u043c\u043e\u0434\u0435\u043b\u0438 \u0441 \u043e\u043f\u0442\u0438\u043c\u0430\u043b\u044c\u043d\u044b\u043c\u0438 \u043f\u0430\u0440\u0430\u043c\u0435\u0442\u0440\u0430\u043c\u0438 \u0434\u0430\u044e\u0442 \u0431\u043e\u043b\u0435\u0435 \u043a\u0430\u0447\u0435\u0441\u0442\u0432\u0435\u043d\u043d\u044b\u0435 \u043f\u0440\u0435\u0434\u0441\u043a\u0430\u0437\u0430\u043d\u0438\u044f."
     ]
    }
   ],
   "metadata": {}
  }
 ]
}